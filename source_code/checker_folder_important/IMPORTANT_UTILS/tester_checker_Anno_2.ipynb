{
 "cells": [
  {
   "cell_type": "markdown",
   "source": [
    "# Purpose of this file is to check, after you have passed the images to the model for testing,\n",
    "it will give you the images that it assess has a camera, therefore with the image there is a json file,\n",
    "- We want to get the json and the image and create another csv file with annotations, so we can get an accuracy of the bounding box.\n",
    "- Remember after testing the images with model, you have to check the images manually to see if it is really a camera and by then take these images set them in a new folder and pass the path to this method that will take care of creating the csv file"
   ],
   "metadata": {
    "collapsed": false
   },
   "id": "edc6a5614285ba38"
  },
  {
   "cell_type": "code",
   "execution_count": 10,
   "outputs": [],
   "source": [
    "jpg_filepath_image = []\n",
    "json_filepath_image = []"
   ],
   "metadata": {
    "collapsed": false,
    "ExecuteTime": {
     "end_time": "2023-11-01T01:05:59.764484733Z",
     "start_time": "2023-11-01T01:05:59.714784077Z"
    }
   },
   "id": "96faca8646b5da64"
  },
  {
   "cell_type": "code",
   "execution_count": 11,
   "id": "initial_id",
   "metadata": {
    "collapsed": true,
    "ExecuteTime": {
     "end_time": "2023-11-01T01:05:59.764680627Z",
     "start_time": "2023-11-01T01:05:59.732063Z"
    }
   },
   "outputs": [],
   "source": [
    "import os\n",
    "import csv\n",
    "dir_name = \"Ve_Need4Speed_5\"\n",
    "image_folder_tested = f\"/home/hinux/Desktop/project04/ssc/data/goodImages/{dir_name}\" # Change the path you want that contains the tested images\n",
    "\n",
    "################################\n",
    "# DO NOT DELETE THIS LINE ->>>>>>>>\n",
    "## remember to add that line in the beginning of the csv file - for testing: save_path,panoid,heading,downloaded,annotations,split\n",
    "################################\n",
    "\n",
    "\n",
    "\n",
    "for filename in os.listdir(image_folder_tested):\n",
    "    if filename.endswith(\".jpg\"):\n",
    "        correct_filename = filename[:-4] + \".jpg\"\n",
    "        # print(correct_filename)\n",
    "        # file_path = f\"/home/hinux/Desktop/project04/ssc/data/Vedran_images/cameras/{correct_filename}\" # original images path, json cannot be found here\n",
    "        file_path = f\"/home/hinux/Desktop/project04/ssc/data/goodImages/{dir_name}/{correct_filename}\" # original images path, json cannot be found here\n",
    "        # print(file_path)\n",
    "        jpg_filepath_image.append(file_path)\n",
    "        \n",
    "\n",
    "for filename in os.listdir(image_folder_tested):\n",
    "    if filename.endswith(\".json\"):\n",
    "        correct_filename = filename[:-5] + \".json\"\n",
    "        # print(correct_filename)\n",
    "        file_path_j = f\"/home/hinux/Desktop/project04/ssc/data/goodImages/{dir_name}/{correct_filename}\" # Path for the json files, they are generated after testing\n",
    "        # print(file_path)\n",
    "        json_filepath_image.append(file_path_j)\n",
    "        \n",
    "\n",
    "\n",
    "\n",
    "\n"
   ]
  },
  {
   "cell_type": "code",
   "execution_count": 12,
   "outputs": [
    {
     "data": {
      "text/plain": "(['/home/hinux/Desktop/project04/ssc/data/goodImages/Ve_Need4Speed_5/Vedran_image_26_298_1.jpg',\n  '/home/hinux/Desktop/project04/ssc/data/goodImages/Ve_Need4Speed_5/Vedran_image_53_140_1.jpg',\n  '/home/hinux/Desktop/project04/ssc/data/goodImages/Ve_Need4Speed_5/Vedran_image_23_198_0.jpg',\n  '/home/hinux/Desktop/project04/ssc/data/goodImages/Ve_Need4Speed_5/Vedran_image_27_45_1.jpg',\n  '/home/hinux/Desktop/project04/ssc/data/goodImages/Ve_Need4Speed_5/Vedran_image_23_198_1.jpg',\n  '/home/hinux/Desktop/project04/ssc/data/goodImages/Ve_Need4Speed_5/Vedran_image_90_140_0.jpg',\n  '/home/hinux/Desktop/project04/ssc/data/goodImages/Ve_Need4Speed_5/Vedran_image_62_345_0.jpg',\n  '/home/hinux/Desktop/project04/ssc/data/goodImages/Ve_Need4Speed_5/Vedran_image_32_335_0.jpg',\n  '/home/hinux/Desktop/project04/ssc/data/goodImages/Ve_Need4Speed_5/Vedran_image_29_37_0.jpg',\n  '/home/hinux/Desktop/project04/ssc/data/goodImages/Ve_Need4Speed_5/Vedran_image_0_230_0.jpg',\n  '/home/hinux/Desktop/project04/ssc/data/goodImages/Ve_Need4Speed_5/Vedran_image_56_255_0.jpg',\n  '/home/hinux/Desktop/project04/ssc/data/goodImages/Ve_Need4Speed_5/Vedran_image_57_129_0.jpg',\n  '/home/hinux/Desktop/project04/ssc/data/goodImages/Ve_Need4Speed_5/Vedran_image_41_11_1.jpg',\n  '/home/hinux/Desktop/project04/ssc/data/goodImages/Ve_Need4Speed_5/Vedran_image_87_212_1.jpg',\n  '/home/hinux/Desktop/project04/ssc/data/goodImages/Ve_Need4Speed_5/Vedran_image_30_235_1.jpg',\n  '/home/hinux/Desktop/project04/ssc/data/goodImages/Ve_Need4Speed_5/Vedran_image_78_153_0.jpg',\n  '/home/hinux/Desktop/project04/ssc/data/goodImages/Ve_Need4Speed_5/Vedran_image_30_235_0.jpg',\n  '/home/hinux/Desktop/project04/ssc/data/goodImages/Ve_Need4Speed_5/Vedran_image_68_134_0.jpg',\n  '/home/hinux/Desktop/project04/ssc/data/goodImages/Ve_Need4Speed_5/Vedran_image_21_151_0.jpg',\n  '/home/hinux/Desktop/project04/ssc/data/goodImages/Ve_Need4Speed_5/Vedran_image_64_233_0.jpg',\n  '/home/hinux/Desktop/project04/ssc/data/goodImages/Ve_Need4Speed_5/Vedran_image_65_35_1.jpg',\n  '/home/hinux/Desktop/project04/ssc/data/goodImages/Ve_Need4Speed_5/Vedran_image_10_168_0.jpg',\n  '/home/hinux/Desktop/project04/ssc/data/goodImages/Ve_Need4Speed_5/Vedran_image_87_212_0.jpg',\n  '/home/hinux/Desktop/project04/ssc/data/goodImages/Ve_Need4Speed_5/Vedran_image_44_154_0.jpg',\n  '/home/hinux/Desktop/project04/ssc/data/goodImages/Ve_Need4Speed_5/Vedran_image_30_235_2.jpg',\n  '/home/hinux/Desktop/project04/ssc/data/goodImages/Ve_Need4Speed_5/Vedran_image_31_11_0.jpg',\n  '/home/hinux/Desktop/project04/ssc/data/goodImages/Ve_Need4Speed_5/Vedran_image_53_140_0.jpg',\n  '/home/hinux/Desktop/project04/ssc/data/goodImages/Ve_Need4Speed_5/Vedran_image_90_140_1.jpg',\n  '/home/hinux/Desktop/project04/ssc/data/goodImages/Ve_Need4Speed_5/Vedran_image_26_298_0.jpg',\n  '/home/hinux/Desktop/project04/ssc/data/goodImages/Ve_Need4Speed_5/Vedran_image_83_269_0.jpg',\n  '/home/hinux/Desktop/project04/ssc/data/goodImages/Ve_Need4Speed_5/Vedran_image_41_11_0.jpg',\n  '/home/hinux/Desktop/project04/ssc/data/goodImages/Ve_Need4Speed_5/Vedran_image_89_319_0.jpg',\n  '/home/hinux/Desktop/project04/ssc/data/goodImages/Ve_Need4Speed_5/Vedran_image_44_154_1.jpg',\n  '/home/hinux/Desktop/project04/ssc/data/goodImages/Ve_Need4Speed_5/Vedran_image_3_316_0.jpg',\n  '/home/hinux/Desktop/project04/ssc/data/goodImages/Ve_Need4Speed_5/Vedran_image_48_146_0.jpg',\n  '/home/hinux/Desktop/project04/ssc/data/goodImages/Ve_Need4Speed_5/Vedran_image_84_72_0.jpg',\n  '/home/hinux/Desktop/project04/ssc/data/goodImages/Ve_Need4Speed_5/Vedran_image_55_278_0.jpg',\n  '/home/hinux/Desktop/project04/ssc/data/goodImages/Ve_Need4Speed_5/Vedran_image_59_98_1.jpg',\n  '/home/hinux/Desktop/project04/ssc/data/goodImages/Ve_Need4Speed_5/Vedran_image_65_35_0.jpg',\n  '/home/hinux/Desktop/project04/ssc/data/goodImages/Ve_Need4Speed_5/Vedran_image_69_55_0.jpg',\n  '/home/hinux/Desktop/project04/ssc/data/goodImages/Ve_Need4Speed_5/Vedran_image_32_335_1.jpg',\n  '/home/hinux/Desktop/project04/ssc/data/goodImages/Ve_Need4Speed_5/Vedran_image_1_262_0.jpg',\n  '/home/hinux/Desktop/project04/ssc/data/goodImages/Ve_Need4Speed_5/Vedran_image_75_95_0.jpg',\n  '/home/hinux/Desktop/project04/ssc/data/goodImages/Ve_Need4Speed_5/Vedran_image_82_8_0.jpg',\n  '/home/hinux/Desktop/project04/ssc/data/goodImages/Ve_Need4Speed_5/Vedran_image_59_98_0.jpg',\n  '/home/hinux/Desktop/project04/ssc/data/goodImages/Ve_Need4Speed_5/Vedran_image_12_140_0.jpg',\n  '/home/hinux/Desktop/project04/ssc/data/goodImages/Ve_Need4Speed_5/Vedran_image_27_45_0.jpg'],\n 47)"
     },
     "execution_count": 12,
     "metadata": {},
     "output_type": "execute_result"
    }
   ],
   "source": [
    "jpg_filepath_image,len(jpg_filepath_image)"
   ],
   "metadata": {
    "collapsed": false,
    "ExecuteTime": {
     "end_time": "2023-11-01T01:05:59.765054256Z",
     "start_time": "2023-11-01T01:05:59.732194573Z"
    }
   },
   "id": "13351a70afd5b9a6"
  },
  {
   "cell_type": "code",
   "execution_count": 13,
   "outputs": [
    {
     "data": {
      "text/plain": "(['/home/hinux/Desktop/project04/ssc/data/goodImages/Ve_Need4Speed_5/Vedran_image_78_153_0.json',\n  '/home/hinux/Desktop/project04/ssc/data/goodImages/Ve_Need4Speed_5/Vedran_image_21_151_0.json',\n  '/home/hinux/Desktop/project04/ssc/data/goodImages/Ve_Need4Speed_5/Vedran_image_26_298_1.json',\n  '/home/hinux/Desktop/project04/ssc/data/goodImages/Ve_Need4Speed_5/Vedran_image_3_316_0.json',\n  '/home/hinux/Desktop/project04/ssc/data/goodImages/Ve_Need4Speed_5/Vedran_image_27_45_0.json',\n  '/home/hinux/Desktop/project04/ssc/data/goodImages/Ve_Need4Speed_5/Vedran_image_44_154_0.json',\n  '/home/hinux/Desktop/project04/ssc/data/goodImages/Ve_Need4Speed_5/Vedran_image_59_98_1.json',\n  '/home/hinux/Desktop/project04/ssc/data/goodImages/Ve_Need4Speed_5/Vedran_image_27_45_1.json',\n  '/home/hinux/Desktop/project04/ssc/data/goodImages/Ve_Need4Speed_5/Vedran_image_41_11_0.json',\n  '/home/hinux/Desktop/project04/ssc/data/goodImages/Ve_Need4Speed_5/Vedran_image_10_168_0.json',\n  '/home/hinux/Desktop/project04/ssc/data/goodImages/Ve_Need4Speed_5/Vedran_image_26_298_0.json',\n  '/home/hinux/Desktop/project04/ssc/data/goodImages/Ve_Need4Speed_5/Vedran_image_41_11_1.json',\n  '/home/hinux/Desktop/project04/ssc/data/goodImages/Ve_Need4Speed_5/Vedran_image_1_262_0.json',\n  '/home/hinux/Desktop/project04/ssc/data/goodImages/Ve_Need4Speed_5/Vedran_image_65_35_1.json',\n  '/home/hinux/Desktop/project04/ssc/data/goodImages/Ve_Need4Speed_5/Vedran_image_57_129_0.json',\n  '/home/hinux/Desktop/project04/ssc/data/goodImages/Ve_Need4Speed_5/Vedran_image_48_146_0.json',\n  '/home/hinux/Desktop/project04/ssc/data/goodImages/Ve_Need4Speed_5/Vedran_image_65_35_0.json',\n  '/home/hinux/Desktop/project04/ssc/data/goodImages/Ve_Need4Speed_5/Vedran_image_90_140_0.json',\n  '/home/hinux/Desktop/project04/ssc/data/goodImages/Ve_Need4Speed_5/Vedran_image_0_230_0.json',\n  '/home/hinux/Desktop/project04/ssc/data/goodImages/Ve_Need4Speed_5/Vedran_image_44_154_1.json',\n  '/home/hinux/Desktop/project04/ssc/data/goodImages/Ve_Need4Speed_5/Vedran_image_12_140_0.json',\n  '/home/hinux/Desktop/project04/ssc/data/goodImages/Ve_Need4Speed_5/Vedran_image_69_55_0.json',\n  '/home/hinux/Desktop/project04/ssc/data/goodImages/Ve_Need4Speed_5/Vedran_image_56_255_0.json',\n  '/home/hinux/Desktop/project04/ssc/data/goodImages/Ve_Need4Speed_5/Vedran_image_32_335_1.json',\n  '/home/hinux/Desktop/project04/ssc/data/goodImages/Ve_Need4Speed_5/Vedran_image_87_212_0.json',\n  '/home/hinux/Desktop/project04/ssc/data/goodImages/Ve_Need4Speed_5/Vedran_image_82_8_0.json',\n  '/home/hinux/Desktop/project04/ssc/data/goodImages/Ve_Need4Speed_5/Vedran_image_53_140_0.json',\n  '/home/hinux/Desktop/project04/ssc/data/goodImages/Ve_Need4Speed_5/Vedran_image_87_212_1.json',\n  '/home/hinux/Desktop/project04/ssc/data/goodImages/Ve_Need4Speed_5/Vedran_image_23_198_0.json',\n  '/home/hinux/Desktop/project04/ssc/data/goodImages/Ve_Need4Speed_5/Vedran_image_84_72_0.json',\n  '/home/hinux/Desktop/project04/ssc/data/goodImages/Ve_Need4Speed_5/Vedran_image_64_233_0.json',\n  '/home/hinux/Desktop/project04/ssc/data/goodImages/Ve_Need4Speed_5/Vedran_image_30_235_1.json',\n  '/home/hinux/Desktop/project04/ssc/data/goodImages/Ve_Need4Speed_5/Vedran_image_62_345_0.json',\n  '/home/hinux/Desktop/project04/ssc/data/goodImages/Ve_Need4Speed_5/Vedran_image_53_140_1.json',\n  '/home/hinux/Desktop/project04/ssc/data/goodImages/Ve_Need4Speed_5/Vedran_image_68_134_0.json',\n  '/home/hinux/Desktop/project04/ssc/data/goodImages/Ve_Need4Speed_5/Vedran_image_75_95_0.json',\n  '/home/hinux/Desktop/project04/ssc/data/goodImages/Ve_Need4Speed_5/Vedran_image_59_98_0.json',\n  '/home/hinux/Desktop/project04/ssc/data/goodImages/Ve_Need4Speed_5/Vedran_image_30_235_0.json',\n  '/home/hinux/Desktop/project04/ssc/data/goodImages/Ve_Need4Speed_5/Vedran_image_30_235_2.json',\n  '/home/hinux/Desktop/project04/ssc/data/goodImages/Ve_Need4Speed_5/Vedran_image_90_140_1.json',\n  '/home/hinux/Desktop/project04/ssc/data/goodImages/Ve_Need4Speed_5/Vedran_image_83_269_0.json',\n  '/home/hinux/Desktop/project04/ssc/data/goodImages/Ve_Need4Speed_5/Vedran_image_32_335_0.json',\n  '/home/hinux/Desktop/project04/ssc/data/goodImages/Ve_Need4Speed_5/Vedran_image_55_278_0.json',\n  '/home/hinux/Desktop/project04/ssc/data/goodImages/Ve_Need4Speed_5/Vedran_image_89_319_0.json',\n  '/home/hinux/Desktop/project04/ssc/data/goodImages/Ve_Need4Speed_5/Vedran_image_29_37_0.json',\n  '/home/hinux/Desktop/project04/ssc/data/goodImages/Ve_Need4Speed_5/Vedran_image_31_11_0.json',\n  '/home/hinux/Desktop/project04/ssc/data/goodImages/Ve_Need4Speed_5/Vedran_image_23_198_1.json'],\n 47)"
     },
     "execution_count": 13,
     "metadata": {},
     "output_type": "execute_result"
    }
   ],
   "source": [
    "json_filepath_image, len(json_filepath_image)"
   ],
   "metadata": {
    "collapsed": false,
    "ExecuteTime": {
     "end_time": "2023-11-01T01:05:59.765381863Z",
     "start_time": "2023-11-01T01:05:59.732278099Z"
    }
   },
   "id": "9462d633da97584c"
  },
  {
   "cell_type": "code",
   "execution_count": 14,
   "outputs": [
    {
     "data": {
      "text/plain": "(['/home/hinux/Desktop/project04/ssc/data/goodImages/Ve_Need4Speed_5/Vedran_image_0_230_0.jpg',\n  '/home/hinux/Desktop/project04/ssc/data/goodImages/Ve_Need4Speed_5/Vedran_image_10_168_0.jpg',\n  '/home/hinux/Desktop/project04/ssc/data/goodImages/Ve_Need4Speed_5/Vedran_image_12_140_0.jpg',\n  '/home/hinux/Desktop/project04/ssc/data/goodImages/Ve_Need4Speed_5/Vedran_image_1_262_0.jpg',\n  '/home/hinux/Desktop/project04/ssc/data/goodImages/Ve_Need4Speed_5/Vedran_image_21_151_0.jpg',\n  '/home/hinux/Desktop/project04/ssc/data/goodImages/Ve_Need4Speed_5/Vedran_image_23_198_0.jpg',\n  '/home/hinux/Desktop/project04/ssc/data/goodImages/Ve_Need4Speed_5/Vedran_image_23_198_1.jpg',\n  '/home/hinux/Desktop/project04/ssc/data/goodImages/Ve_Need4Speed_5/Vedran_image_26_298_0.jpg',\n  '/home/hinux/Desktop/project04/ssc/data/goodImages/Ve_Need4Speed_5/Vedran_image_26_298_1.jpg',\n  '/home/hinux/Desktop/project04/ssc/data/goodImages/Ve_Need4Speed_5/Vedran_image_27_45_0.jpg',\n  '/home/hinux/Desktop/project04/ssc/data/goodImages/Ve_Need4Speed_5/Vedran_image_27_45_1.jpg',\n  '/home/hinux/Desktop/project04/ssc/data/goodImages/Ve_Need4Speed_5/Vedran_image_29_37_0.jpg',\n  '/home/hinux/Desktop/project04/ssc/data/goodImages/Ve_Need4Speed_5/Vedran_image_30_235_0.jpg',\n  '/home/hinux/Desktop/project04/ssc/data/goodImages/Ve_Need4Speed_5/Vedran_image_30_235_1.jpg',\n  '/home/hinux/Desktop/project04/ssc/data/goodImages/Ve_Need4Speed_5/Vedran_image_30_235_2.jpg',\n  '/home/hinux/Desktop/project04/ssc/data/goodImages/Ve_Need4Speed_5/Vedran_image_31_11_0.jpg',\n  '/home/hinux/Desktop/project04/ssc/data/goodImages/Ve_Need4Speed_5/Vedran_image_32_335_0.jpg',\n  '/home/hinux/Desktop/project04/ssc/data/goodImages/Ve_Need4Speed_5/Vedran_image_32_335_1.jpg',\n  '/home/hinux/Desktop/project04/ssc/data/goodImages/Ve_Need4Speed_5/Vedran_image_3_316_0.jpg',\n  '/home/hinux/Desktop/project04/ssc/data/goodImages/Ve_Need4Speed_5/Vedran_image_41_11_0.jpg',\n  '/home/hinux/Desktop/project04/ssc/data/goodImages/Ve_Need4Speed_5/Vedran_image_41_11_1.jpg',\n  '/home/hinux/Desktop/project04/ssc/data/goodImages/Ve_Need4Speed_5/Vedran_image_44_154_0.jpg',\n  '/home/hinux/Desktop/project04/ssc/data/goodImages/Ve_Need4Speed_5/Vedran_image_44_154_1.jpg',\n  '/home/hinux/Desktop/project04/ssc/data/goodImages/Ve_Need4Speed_5/Vedran_image_48_146_0.jpg',\n  '/home/hinux/Desktop/project04/ssc/data/goodImages/Ve_Need4Speed_5/Vedran_image_53_140_0.jpg',\n  '/home/hinux/Desktop/project04/ssc/data/goodImages/Ve_Need4Speed_5/Vedran_image_53_140_1.jpg',\n  '/home/hinux/Desktop/project04/ssc/data/goodImages/Ve_Need4Speed_5/Vedran_image_55_278_0.jpg',\n  '/home/hinux/Desktop/project04/ssc/data/goodImages/Ve_Need4Speed_5/Vedran_image_56_255_0.jpg',\n  '/home/hinux/Desktop/project04/ssc/data/goodImages/Ve_Need4Speed_5/Vedran_image_57_129_0.jpg',\n  '/home/hinux/Desktop/project04/ssc/data/goodImages/Ve_Need4Speed_5/Vedran_image_59_98_0.jpg',\n  '/home/hinux/Desktop/project04/ssc/data/goodImages/Ve_Need4Speed_5/Vedran_image_59_98_1.jpg',\n  '/home/hinux/Desktop/project04/ssc/data/goodImages/Ve_Need4Speed_5/Vedran_image_62_345_0.jpg',\n  '/home/hinux/Desktop/project04/ssc/data/goodImages/Ve_Need4Speed_5/Vedran_image_64_233_0.jpg',\n  '/home/hinux/Desktop/project04/ssc/data/goodImages/Ve_Need4Speed_5/Vedran_image_65_35_0.jpg',\n  '/home/hinux/Desktop/project04/ssc/data/goodImages/Ve_Need4Speed_5/Vedran_image_65_35_1.jpg',\n  '/home/hinux/Desktop/project04/ssc/data/goodImages/Ve_Need4Speed_5/Vedran_image_68_134_0.jpg',\n  '/home/hinux/Desktop/project04/ssc/data/goodImages/Ve_Need4Speed_5/Vedran_image_69_55_0.jpg',\n  '/home/hinux/Desktop/project04/ssc/data/goodImages/Ve_Need4Speed_5/Vedran_image_75_95_0.jpg',\n  '/home/hinux/Desktop/project04/ssc/data/goodImages/Ve_Need4Speed_5/Vedran_image_78_153_0.jpg',\n  '/home/hinux/Desktop/project04/ssc/data/goodImages/Ve_Need4Speed_5/Vedran_image_82_8_0.jpg',\n  '/home/hinux/Desktop/project04/ssc/data/goodImages/Ve_Need4Speed_5/Vedran_image_83_269_0.jpg',\n  '/home/hinux/Desktop/project04/ssc/data/goodImages/Ve_Need4Speed_5/Vedran_image_84_72_0.jpg',\n  '/home/hinux/Desktop/project04/ssc/data/goodImages/Ve_Need4Speed_5/Vedran_image_87_212_0.jpg',\n  '/home/hinux/Desktop/project04/ssc/data/goodImages/Ve_Need4Speed_5/Vedran_image_87_212_1.jpg',\n  '/home/hinux/Desktop/project04/ssc/data/goodImages/Ve_Need4Speed_5/Vedran_image_89_319_0.jpg',\n  '/home/hinux/Desktop/project04/ssc/data/goodImages/Ve_Need4Speed_5/Vedran_image_90_140_0.jpg',\n  '/home/hinux/Desktop/project04/ssc/data/goodImages/Ve_Need4Speed_5/Vedran_image_90_140_1.jpg'],\n ['/home/hinux/Desktop/project04/ssc/data/goodImages/Ve_Need4Speed_5/Vedran_image_0_230_0.json',\n  '/home/hinux/Desktop/project04/ssc/data/goodImages/Ve_Need4Speed_5/Vedran_image_10_168_0.json',\n  '/home/hinux/Desktop/project04/ssc/data/goodImages/Ve_Need4Speed_5/Vedran_image_12_140_0.json',\n  '/home/hinux/Desktop/project04/ssc/data/goodImages/Ve_Need4Speed_5/Vedran_image_1_262_0.json',\n  '/home/hinux/Desktop/project04/ssc/data/goodImages/Ve_Need4Speed_5/Vedran_image_21_151_0.json',\n  '/home/hinux/Desktop/project04/ssc/data/goodImages/Ve_Need4Speed_5/Vedran_image_23_198_0.json',\n  '/home/hinux/Desktop/project04/ssc/data/goodImages/Ve_Need4Speed_5/Vedran_image_23_198_1.json',\n  '/home/hinux/Desktop/project04/ssc/data/goodImages/Ve_Need4Speed_5/Vedran_image_26_298_0.json',\n  '/home/hinux/Desktop/project04/ssc/data/goodImages/Ve_Need4Speed_5/Vedran_image_26_298_1.json',\n  '/home/hinux/Desktop/project04/ssc/data/goodImages/Ve_Need4Speed_5/Vedran_image_27_45_0.json',\n  '/home/hinux/Desktop/project04/ssc/data/goodImages/Ve_Need4Speed_5/Vedran_image_27_45_1.json',\n  '/home/hinux/Desktop/project04/ssc/data/goodImages/Ve_Need4Speed_5/Vedran_image_29_37_0.json',\n  '/home/hinux/Desktop/project04/ssc/data/goodImages/Ve_Need4Speed_5/Vedran_image_30_235_0.json',\n  '/home/hinux/Desktop/project04/ssc/data/goodImages/Ve_Need4Speed_5/Vedran_image_30_235_1.json',\n  '/home/hinux/Desktop/project04/ssc/data/goodImages/Ve_Need4Speed_5/Vedran_image_30_235_2.json',\n  '/home/hinux/Desktop/project04/ssc/data/goodImages/Ve_Need4Speed_5/Vedran_image_31_11_0.json',\n  '/home/hinux/Desktop/project04/ssc/data/goodImages/Ve_Need4Speed_5/Vedran_image_32_335_0.json',\n  '/home/hinux/Desktop/project04/ssc/data/goodImages/Ve_Need4Speed_5/Vedran_image_32_335_1.json',\n  '/home/hinux/Desktop/project04/ssc/data/goodImages/Ve_Need4Speed_5/Vedran_image_3_316_0.json',\n  '/home/hinux/Desktop/project04/ssc/data/goodImages/Ve_Need4Speed_5/Vedran_image_41_11_0.json',\n  '/home/hinux/Desktop/project04/ssc/data/goodImages/Ve_Need4Speed_5/Vedran_image_41_11_1.json',\n  '/home/hinux/Desktop/project04/ssc/data/goodImages/Ve_Need4Speed_5/Vedran_image_44_154_0.json',\n  '/home/hinux/Desktop/project04/ssc/data/goodImages/Ve_Need4Speed_5/Vedran_image_44_154_1.json',\n  '/home/hinux/Desktop/project04/ssc/data/goodImages/Ve_Need4Speed_5/Vedran_image_48_146_0.json',\n  '/home/hinux/Desktop/project04/ssc/data/goodImages/Ve_Need4Speed_5/Vedran_image_53_140_0.json',\n  '/home/hinux/Desktop/project04/ssc/data/goodImages/Ve_Need4Speed_5/Vedran_image_53_140_1.json',\n  '/home/hinux/Desktop/project04/ssc/data/goodImages/Ve_Need4Speed_5/Vedran_image_55_278_0.json',\n  '/home/hinux/Desktop/project04/ssc/data/goodImages/Ve_Need4Speed_5/Vedran_image_56_255_0.json',\n  '/home/hinux/Desktop/project04/ssc/data/goodImages/Ve_Need4Speed_5/Vedran_image_57_129_0.json',\n  '/home/hinux/Desktop/project04/ssc/data/goodImages/Ve_Need4Speed_5/Vedran_image_59_98_0.json',\n  '/home/hinux/Desktop/project04/ssc/data/goodImages/Ve_Need4Speed_5/Vedran_image_59_98_1.json',\n  '/home/hinux/Desktop/project04/ssc/data/goodImages/Ve_Need4Speed_5/Vedran_image_62_345_0.json',\n  '/home/hinux/Desktop/project04/ssc/data/goodImages/Ve_Need4Speed_5/Vedran_image_64_233_0.json',\n  '/home/hinux/Desktop/project04/ssc/data/goodImages/Ve_Need4Speed_5/Vedran_image_65_35_0.json',\n  '/home/hinux/Desktop/project04/ssc/data/goodImages/Ve_Need4Speed_5/Vedran_image_65_35_1.json',\n  '/home/hinux/Desktop/project04/ssc/data/goodImages/Ve_Need4Speed_5/Vedran_image_68_134_0.json',\n  '/home/hinux/Desktop/project04/ssc/data/goodImages/Ve_Need4Speed_5/Vedran_image_69_55_0.json',\n  '/home/hinux/Desktop/project04/ssc/data/goodImages/Ve_Need4Speed_5/Vedran_image_75_95_0.json',\n  '/home/hinux/Desktop/project04/ssc/data/goodImages/Ve_Need4Speed_5/Vedran_image_78_153_0.json',\n  '/home/hinux/Desktop/project04/ssc/data/goodImages/Ve_Need4Speed_5/Vedran_image_82_8_0.json',\n  '/home/hinux/Desktop/project04/ssc/data/goodImages/Ve_Need4Speed_5/Vedran_image_83_269_0.json',\n  '/home/hinux/Desktop/project04/ssc/data/goodImages/Ve_Need4Speed_5/Vedran_image_84_72_0.json',\n  '/home/hinux/Desktop/project04/ssc/data/goodImages/Ve_Need4Speed_5/Vedran_image_87_212_0.json',\n  '/home/hinux/Desktop/project04/ssc/data/goodImages/Ve_Need4Speed_5/Vedran_image_87_212_1.json',\n  '/home/hinux/Desktop/project04/ssc/data/goodImages/Ve_Need4Speed_5/Vedran_image_89_319_0.json',\n  '/home/hinux/Desktop/project04/ssc/data/goodImages/Ve_Need4Speed_5/Vedran_image_90_140_0.json',\n  '/home/hinux/Desktop/project04/ssc/data/goodImages/Ve_Need4Speed_5/Vedran_image_90_140_1.json'])"
     },
     "execution_count": 14,
     "metadata": {},
     "output_type": "execute_result"
    }
   ],
   "source": [
    "jpg_sorted_list = sorted(jpg_filepath_image)\n",
    "json_sorted_list = sorted(json_filepath_image)\n",
    "jpg_sorted_list,json_sorted_list"
   ],
   "metadata": {
    "collapsed": false,
    "ExecuteTime": {
     "end_time": "2023-11-01T01:05:59.766379697Z",
     "start_time": "2023-11-01T01:05:59.732414561Z"
    }
   },
   "id": "af4874f4cb11623c"
  },
  {
   "cell_type": "code",
   "execution_count": 15,
   "outputs": [
    {
     "name": "stdout",
     "output_type": "stream",
     "text": [
      "Check!!!, must be same size as the .jpg or .json: 47\n"
     ]
    }
   ],
   "source": [
    "grouped_strings = {}\n",
    "counter = 0\n",
    "for i in range(len(json_sorted_list)):\n",
    "    if jpg_sorted_list[0].split(\"/\")[6][:-4] in json_sorted_list[0].split(\"/\")[7][:-5]:\n",
    "        grouped_strings[counter] = [json_sorted_list[i],jpg_sorted_list[i]]\n",
    "        counter += 1\n",
    "print(\"Check!!!, must be same size as the .jpg or .json:\",counter)"
   ],
   "metadata": {
    "collapsed": false,
    "ExecuteTime": {
     "end_time": "2023-11-01T01:05:59.766559878Z",
     "start_time": "2023-11-01T01:05:59.761817160Z"
    }
   },
   "id": "2913fc9b342f1b6a"
  },
  {
   "cell_type": "code",
   "execution_count": 16,
   "outputs": [
    {
     "data": {
      "text/plain": "{0: ['/home/hinux/Desktop/project04/ssc/data/goodImages/Ve_Need4Speed_5/Vedran_image_0_230_0.json',\n  '/home/hinux/Desktop/project04/ssc/data/goodImages/Ve_Need4Speed_5/Vedran_image_0_230_0.jpg'],\n 1: ['/home/hinux/Desktop/project04/ssc/data/goodImages/Ve_Need4Speed_5/Vedran_image_10_168_0.json',\n  '/home/hinux/Desktop/project04/ssc/data/goodImages/Ve_Need4Speed_5/Vedran_image_10_168_0.jpg'],\n 2: ['/home/hinux/Desktop/project04/ssc/data/goodImages/Ve_Need4Speed_5/Vedran_image_12_140_0.json',\n  '/home/hinux/Desktop/project04/ssc/data/goodImages/Ve_Need4Speed_5/Vedran_image_12_140_0.jpg'],\n 3: ['/home/hinux/Desktop/project04/ssc/data/goodImages/Ve_Need4Speed_5/Vedran_image_1_262_0.json',\n  '/home/hinux/Desktop/project04/ssc/data/goodImages/Ve_Need4Speed_5/Vedran_image_1_262_0.jpg'],\n 4: ['/home/hinux/Desktop/project04/ssc/data/goodImages/Ve_Need4Speed_5/Vedran_image_21_151_0.json',\n  '/home/hinux/Desktop/project04/ssc/data/goodImages/Ve_Need4Speed_5/Vedran_image_21_151_0.jpg'],\n 5: ['/home/hinux/Desktop/project04/ssc/data/goodImages/Ve_Need4Speed_5/Vedran_image_23_198_0.json',\n  '/home/hinux/Desktop/project04/ssc/data/goodImages/Ve_Need4Speed_5/Vedran_image_23_198_0.jpg'],\n 6: ['/home/hinux/Desktop/project04/ssc/data/goodImages/Ve_Need4Speed_5/Vedran_image_23_198_1.json',\n  '/home/hinux/Desktop/project04/ssc/data/goodImages/Ve_Need4Speed_5/Vedran_image_23_198_1.jpg'],\n 7: ['/home/hinux/Desktop/project04/ssc/data/goodImages/Ve_Need4Speed_5/Vedran_image_26_298_0.json',\n  '/home/hinux/Desktop/project04/ssc/data/goodImages/Ve_Need4Speed_5/Vedran_image_26_298_0.jpg'],\n 8: ['/home/hinux/Desktop/project04/ssc/data/goodImages/Ve_Need4Speed_5/Vedran_image_26_298_1.json',\n  '/home/hinux/Desktop/project04/ssc/data/goodImages/Ve_Need4Speed_5/Vedran_image_26_298_1.jpg'],\n 9: ['/home/hinux/Desktop/project04/ssc/data/goodImages/Ve_Need4Speed_5/Vedran_image_27_45_0.json',\n  '/home/hinux/Desktop/project04/ssc/data/goodImages/Ve_Need4Speed_5/Vedran_image_27_45_0.jpg'],\n 10: ['/home/hinux/Desktop/project04/ssc/data/goodImages/Ve_Need4Speed_5/Vedran_image_27_45_1.json',\n  '/home/hinux/Desktop/project04/ssc/data/goodImages/Ve_Need4Speed_5/Vedran_image_27_45_1.jpg'],\n 11: ['/home/hinux/Desktop/project04/ssc/data/goodImages/Ve_Need4Speed_5/Vedran_image_29_37_0.json',\n  '/home/hinux/Desktop/project04/ssc/data/goodImages/Ve_Need4Speed_5/Vedran_image_29_37_0.jpg'],\n 12: ['/home/hinux/Desktop/project04/ssc/data/goodImages/Ve_Need4Speed_5/Vedran_image_30_235_0.json',\n  '/home/hinux/Desktop/project04/ssc/data/goodImages/Ve_Need4Speed_5/Vedran_image_30_235_0.jpg'],\n 13: ['/home/hinux/Desktop/project04/ssc/data/goodImages/Ve_Need4Speed_5/Vedran_image_30_235_1.json',\n  '/home/hinux/Desktop/project04/ssc/data/goodImages/Ve_Need4Speed_5/Vedran_image_30_235_1.jpg'],\n 14: ['/home/hinux/Desktop/project04/ssc/data/goodImages/Ve_Need4Speed_5/Vedran_image_30_235_2.json',\n  '/home/hinux/Desktop/project04/ssc/data/goodImages/Ve_Need4Speed_5/Vedran_image_30_235_2.jpg'],\n 15: ['/home/hinux/Desktop/project04/ssc/data/goodImages/Ve_Need4Speed_5/Vedran_image_31_11_0.json',\n  '/home/hinux/Desktop/project04/ssc/data/goodImages/Ve_Need4Speed_5/Vedran_image_31_11_0.jpg'],\n 16: ['/home/hinux/Desktop/project04/ssc/data/goodImages/Ve_Need4Speed_5/Vedran_image_32_335_0.json',\n  '/home/hinux/Desktop/project04/ssc/data/goodImages/Ve_Need4Speed_5/Vedran_image_32_335_0.jpg'],\n 17: ['/home/hinux/Desktop/project04/ssc/data/goodImages/Ve_Need4Speed_5/Vedran_image_32_335_1.json',\n  '/home/hinux/Desktop/project04/ssc/data/goodImages/Ve_Need4Speed_5/Vedran_image_32_335_1.jpg'],\n 18: ['/home/hinux/Desktop/project04/ssc/data/goodImages/Ve_Need4Speed_5/Vedran_image_3_316_0.json',\n  '/home/hinux/Desktop/project04/ssc/data/goodImages/Ve_Need4Speed_5/Vedran_image_3_316_0.jpg'],\n 19: ['/home/hinux/Desktop/project04/ssc/data/goodImages/Ve_Need4Speed_5/Vedran_image_41_11_0.json',\n  '/home/hinux/Desktop/project04/ssc/data/goodImages/Ve_Need4Speed_5/Vedran_image_41_11_0.jpg'],\n 20: ['/home/hinux/Desktop/project04/ssc/data/goodImages/Ve_Need4Speed_5/Vedran_image_41_11_1.json',\n  '/home/hinux/Desktop/project04/ssc/data/goodImages/Ve_Need4Speed_5/Vedran_image_41_11_1.jpg'],\n 21: ['/home/hinux/Desktop/project04/ssc/data/goodImages/Ve_Need4Speed_5/Vedran_image_44_154_0.json',\n  '/home/hinux/Desktop/project04/ssc/data/goodImages/Ve_Need4Speed_5/Vedran_image_44_154_0.jpg'],\n 22: ['/home/hinux/Desktop/project04/ssc/data/goodImages/Ve_Need4Speed_5/Vedran_image_44_154_1.json',\n  '/home/hinux/Desktop/project04/ssc/data/goodImages/Ve_Need4Speed_5/Vedran_image_44_154_1.jpg'],\n 23: ['/home/hinux/Desktop/project04/ssc/data/goodImages/Ve_Need4Speed_5/Vedran_image_48_146_0.json',\n  '/home/hinux/Desktop/project04/ssc/data/goodImages/Ve_Need4Speed_5/Vedran_image_48_146_0.jpg'],\n 24: ['/home/hinux/Desktop/project04/ssc/data/goodImages/Ve_Need4Speed_5/Vedran_image_53_140_0.json',\n  '/home/hinux/Desktop/project04/ssc/data/goodImages/Ve_Need4Speed_5/Vedran_image_53_140_0.jpg'],\n 25: ['/home/hinux/Desktop/project04/ssc/data/goodImages/Ve_Need4Speed_5/Vedran_image_53_140_1.json',\n  '/home/hinux/Desktop/project04/ssc/data/goodImages/Ve_Need4Speed_5/Vedran_image_53_140_1.jpg'],\n 26: ['/home/hinux/Desktop/project04/ssc/data/goodImages/Ve_Need4Speed_5/Vedran_image_55_278_0.json',\n  '/home/hinux/Desktop/project04/ssc/data/goodImages/Ve_Need4Speed_5/Vedran_image_55_278_0.jpg'],\n 27: ['/home/hinux/Desktop/project04/ssc/data/goodImages/Ve_Need4Speed_5/Vedran_image_56_255_0.json',\n  '/home/hinux/Desktop/project04/ssc/data/goodImages/Ve_Need4Speed_5/Vedran_image_56_255_0.jpg'],\n 28: ['/home/hinux/Desktop/project04/ssc/data/goodImages/Ve_Need4Speed_5/Vedran_image_57_129_0.json',\n  '/home/hinux/Desktop/project04/ssc/data/goodImages/Ve_Need4Speed_5/Vedran_image_57_129_0.jpg'],\n 29: ['/home/hinux/Desktop/project04/ssc/data/goodImages/Ve_Need4Speed_5/Vedran_image_59_98_0.json',\n  '/home/hinux/Desktop/project04/ssc/data/goodImages/Ve_Need4Speed_5/Vedran_image_59_98_0.jpg'],\n 30: ['/home/hinux/Desktop/project04/ssc/data/goodImages/Ve_Need4Speed_5/Vedran_image_59_98_1.json',\n  '/home/hinux/Desktop/project04/ssc/data/goodImages/Ve_Need4Speed_5/Vedran_image_59_98_1.jpg'],\n 31: ['/home/hinux/Desktop/project04/ssc/data/goodImages/Ve_Need4Speed_5/Vedran_image_62_345_0.json',\n  '/home/hinux/Desktop/project04/ssc/data/goodImages/Ve_Need4Speed_5/Vedran_image_62_345_0.jpg'],\n 32: ['/home/hinux/Desktop/project04/ssc/data/goodImages/Ve_Need4Speed_5/Vedran_image_64_233_0.json',\n  '/home/hinux/Desktop/project04/ssc/data/goodImages/Ve_Need4Speed_5/Vedran_image_64_233_0.jpg'],\n 33: ['/home/hinux/Desktop/project04/ssc/data/goodImages/Ve_Need4Speed_5/Vedran_image_65_35_0.json',\n  '/home/hinux/Desktop/project04/ssc/data/goodImages/Ve_Need4Speed_5/Vedran_image_65_35_0.jpg'],\n 34: ['/home/hinux/Desktop/project04/ssc/data/goodImages/Ve_Need4Speed_5/Vedran_image_65_35_1.json',\n  '/home/hinux/Desktop/project04/ssc/data/goodImages/Ve_Need4Speed_5/Vedran_image_65_35_1.jpg'],\n 35: ['/home/hinux/Desktop/project04/ssc/data/goodImages/Ve_Need4Speed_5/Vedran_image_68_134_0.json',\n  '/home/hinux/Desktop/project04/ssc/data/goodImages/Ve_Need4Speed_5/Vedran_image_68_134_0.jpg'],\n 36: ['/home/hinux/Desktop/project04/ssc/data/goodImages/Ve_Need4Speed_5/Vedran_image_69_55_0.json',\n  '/home/hinux/Desktop/project04/ssc/data/goodImages/Ve_Need4Speed_5/Vedran_image_69_55_0.jpg'],\n 37: ['/home/hinux/Desktop/project04/ssc/data/goodImages/Ve_Need4Speed_5/Vedran_image_75_95_0.json',\n  '/home/hinux/Desktop/project04/ssc/data/goodImages/Ve_Need4Speed_5/Vedran_image_75_95_0.jpg'],\n 38: ['/home/hinux/Desktop/project04/ssc/data/goodImages/Ve_Need4Speed_5/Vedran_image_78_153_0.json',\n  '/home/hinux/Desktop/project04/ssc/data/goodImages/Ve_Need4Speed_5/Vedran_image_78_153_0.jpg'],\n 39: ['/home/hinux/Desktop/project04/ssc/data/goodImages/Ve_Need4Speed_5/Vedran_image_82_8_0.json',\n  '/home/hinux/Desktop/project04/ssc/data/goodImages/Ve_Need4Speed_5/Vedran_image_82_8_0.jpg'],\n 40: ['/home/hinux/Desktop/project04/ssc/data/goodImages/Ve_Need4Speed_5/Vedran_image_83_269_0.json',\n  '/home/hinux/Desktop/project04/ssc/data/goodImages/Ve_Need4Speed_5/Vedran_image_83_269_0.jpg'],\n 41: ['/home/hinux/Desktop/project04/ssc/data/goodImages/Ve_Need4Speed_5/Vedran_image_84_72_0.json',\n  '/home/hinux/Desktop/project04/ssc/data/goodImages/Ve_Need4Speed_5/Vedran_image_84_72_0.jpg'],\n 42: ['/home/hinux/Desktop/project04/ssc/data/goodImages/Ve_Need4Speed_5/Vedran_image_87_212_0.json',\n  '/home/hinux/Desktop/project04/ssc/data/goodImages/Ve_Need4Speed_5/Vedran_image_87_212_0.jpg'],\n 43: ['/home/hinux/Desktop/project04/ssc/data/goodImages/Ve_Need4Speed_5/Vedran_image_87_212_1.json',\n  '/home/hinux/Desktop/project04/ssc/data/goodImages/Ve_Need4Speed_5/Vedran_image_87_212_1.jpg'],\n 44: ['/home/hinux/Desktop/project04/ssc/data/goodImages/Ve_Need4Speed_5/Vedran_image_89_319_0.json',\n  '/home/hinux/Desktop/project04/ssc/data/goodImages/Ve_Need4Speed_5/Vedran_image_89_319_0.jpg'],\n 45: ['/home/hinux/Desktop/project04/ssc/data/goodImages/Ve_Need4Speed_5/Vedran_image_90_140_0.json',\n  '/home/hinux/Desktop/project04/ssc/data/goodImages/Ve_Need4Speed_5/Vedran_image_90_140_0.jpg'],\n 46: ['/home/hinux/Desktop/project04/ssc/data/goodImages/Ve_Need4Speed_5/Vedran_image_90_140_1.json',\n  '/home/hinux/Desktop/project04/ssc/data/goodImages/Ve_Need4Speed_5/Vedran_image_90_140_1.jpg']}"
     },
     "execution_count": 16,
     "metadata": {},
     "output_type": "execute_result"
    }
   ],
   "source": [
    "grouped_strings # this makes sure, if a there are multiple json files then it takes the same image to times"
   ],
   "metadata": {
    "collapsed": false,
    "ExecuteTime": {
     "end_time": "2023-11-01T01:05:59.767179404Z",
     "start_time": "2023-11-01T01:05:59.761973246Z"
    }
   },
   "id": "af7cf90859988e51"
  },
  {
   "cell_type": "code",
   "execution_count": 17,
   "outputs": [
    {
     "data": {
      "text/plain": "('length of the dict:', 47, 'each line times two:', 94)"
     },
     "execution_count": 17,
     "metadata": {},
     "output_type": "execute_result"
    }
   ],
   "source": [
    "len_dict = len(grouped_strings)\n",
    "\"length of the dict:\", len_dict, \"each line times two:\", len(grouped_strings)*2"
   ],
   "metadata": {
    "collapsed": false,
    "ExecuteTime": {
     "end_time": "2023-11-01T01:05:59.767336817Z",
     "start_time": "2023-11-01T01:05:59.762119905Z"
    }
   },
   "id": "c81cd4f863686a70"
  },
  {
   "cell_type": "markdown",
   "source": [
    "# Getting the original images to the folder"
   ],
   "metadata": {
    "collapsed": false
   },
   "id": "a8972e72eb599f0f"
  },
  {
   "cell_type": "code",
   "execution_count": 18,
   "outputs": [
    {
     "name": "stdout",
     "output_type": "stream",
     "text": [
      "Image Vedran_image_0_230_0.json copied to /home/hinux/Desktop/project04/ssc/data/tested_img_anno\n",
      "Image Vedran_image_0_230_0.jpg copied to /home/hinux/Desktop/project04/ssc/data/tested_img_anno\n",
      "Image Vedran_image_10_168_0.json copied to /home/hinux/Desktop/project04/ssc/data/tested_img_anno\n",
      "Image Vedran_image_10_168_0.jpg copied to /home/hinux/Desktop/project04/ssc/data/tested_img_anno\n",
      "Image Vedran_image_12_140_0.json copied to /home/hinux/Desktop/project04/ssc/data/tested_img_anno\n",
      "Image Vedran_image_12_140_0.jpg copied to /home/hinux/Desktop/project04/ssc/data/tested_img_anno\n",
      "Image Vedran_image_1_262_0.json copied to /home/hinux/Desktop/project04/ssc/data/tested_img_anno\n",
      "Image Vedran_image_1_262_0.jpg copied to /home/hinux/Desktop/project04/ssc/data/tested_img_anno\n",
      "Image Vedran_image_21_151_0.json copied to /home/hinux/Desktop/project04/ssc/data/tested_img_anno\n",
      "Image Vedran_image_21_151_0.jpg copied to /home/hinux/Desktop/project04/ssc/data/tested_img_anno\n",
      "Image Vedran_image_23_198_0.json copied to /home/hinux/Desktop/project04/ssc/data/tested_img_anno\n",
      "Image Vedran_image_23_198_0.jpg copied to /home/hinux/Desktop/project04/ssc/data/tested_img_anno\n",
      "Image Vedran_image_23_198_1.json copied to /home/hinux/Desktop/project04/ssc/data/tested_img_anno\n",
      "Image Vedran_image_23_198_1.jpg copied to /home/hinux/Desktop/project04/ssc/data/tested_img_anno\n",
      "Image Vedran_image_26_298_0.json copied to /home/hinux/Desktop/project04/ssc/data/tested_img_anno\n",
      "Image Vedran_image_26_298_0.jpg copied to /home/hinux/Desktop/project04/ssc/data/tested_img_anno\n",
      "Image Vedran_image_26_298_1.json copied to /home/hinux/Desktop/project04/ssc/data/tested_img_anno\n",
      "Image Vedran_image_26_298_1.jpg copied to /home/hinux/Desktop/project04/ssc/data/tested_img_anno\n",
      "Image Vedran_image_27_45_0.json copied to /home/hinux/Desktop/project04/ssc/data/tested_img_anno\n",
      "Image Vedran_image_27_45_0.jpg copied to /home/hinux/Desktop/project04/ssc/data/tested_img_anno\n",
      "Image Vedran_image_27_45_1.json copied to /home/hinux/Desktop/project04/ssc/data/tested_img_anno\n",
      "Image Vedran_image_27_45_1.jpg copied to /home/hinux/Desktop/project04/ssc/data/tested_img_anno\n",
      "Image Vedran_image_29_37_0.json copied to /home/hinux/Desktop/project04/ssc/data/tested_img_anno\n",
      "Image Vedran_image_29_37_0.jpg copied to /home/hinux/Desktop/project04/ssc/data/tested_img_anno\n",
      "Image Vedran_image_30_235_0.json copied to /home/hinux/Desktop/project04/ssc/data/tested_img_anno\n",
      "Image Vedran_image_30_235_0.jpg copied to /home/hinux/Desktop/project04/ssc/data/tested_img_anno\n",
      "Image Vedran_image_30_235_1.json copied to /home/hinux/Desktop/project04/ssc/data/tested_img_anno\n",
      "Image Vedran_image_30_235_1.jpg copied to /home/hinux/Desktop/project04/ssc/data/tested_img_anno\n",
      "Image Vedran_image_30_235_2.json copied to /home/hinux/Desktop/project04/ssc/data/tested_img_anno\n",
      "Image Vedran_image_30_235_2.jpg copied to /home/hinux/Desktop/project04/ssc/data/tested_img_anno\n",
      "Image Vedran_image_31_11_0.json copied to /home/hinux/Desktop/project04/ssc/data/tested_img_anno\n",
      "Image Vedran_image_31_11_0.jpg copied to /home/hinux/Desktop/project04/ssc/data/tested_img_anno\n",
      "Image Vedran_image_32_335_0.json copied to /home/hinux/Desktop/project04/ssc/data/tested_img_anno\n",
      "Image Vedran_image_32_335_0.jpg copied to /home/hinux/Desktop/project04/ssc/data/tested_img_anno\n",
      "Image Vedran_image_32_335_1.json copied to /home/hinux/Desktop/project04/ssc/data/tested_img_anno\n",
      "Image Vedran_image_32_335_1.jpg copied to /home/hinux/Desktop/project04/ssc/data/tested_img_anno\n",
      "Image Vedran_image_3_316_0.json copied to /home/hinux/Desktop/project04/ssc/data/tested_img_anno\n",
      "Image Vedran_image_3_316_0.jpg copied to /home/hinux/Desktop/project04/ssc/data/tested_img_anno\n",
      "Image Vedran_image_41_11_0.json copied to /home/hinux/Desktop/project04/ssc/data/tested_img_anno\n",
      "Image Vedran_image_41_11_0.jpg copied to /home/hinux/Desktop/project04/ssc/data/tested_img_anno\n",
      "Image Vedran_image_41_11_1.json copied to /home/hinux/Desktop/project04/ssc/data/tested_img_anno\n",
      "Image Vedran_image_41_11_1.jpg copied to /home/hinux/Desktop/project04/ssc/data/tested_img_anno\n",
      "Image Vedran_image_44_154_0.json copied to /home/hinux/Desktop/project04/ssc/data/tested_img_anno\n",
      "Image Vedran_image_44_154_0.jpg copied to /home/hinux/Desktop/project04/ssc/data/tested_img_anno\n",
      "Image Vedran_image_44_154_1.json copied to /home/hinux/Desktop/project04/ssc/data/tested_img_anno\n",
      "Image Vedran_image_44_154_1.jpg copied to /home/hinux/Desktop/project04/ssc/data/tested_img_anno\n",
      "Image Vedran_image_48_146_0.json copied to /home/hinux/Desktop/project04/ssc/data/tested_img_anno\n",
      "Image Vedran_image_48_146_0.jpg copied to /home/hinux/Desktop/project04/ssc/data/tested_img_anno\n",
      "Image Vedran_image_53_140_0.json copied to /home/hinux/Desktop/project04/ssc/data/tested_img_anno\n",
      "Image Vedran_image_53_140_0.jpg copied to /home/hinux/Desktop/project04/ssc/data/tested_img_anno\n",
      "Image Vedran_image_53_140_1.json copied to /home/hinux/Desktop/project04/ssc/data/tested_img_anno\n",
      "Image Vedran_image_53_140_1.jpg copied to /home/hinux/Desktop/project04/ssc/data/tested_img_anno\n",
      "Image Vedran_image_55_278_0.json copied to /home/hinux/Desktop/project04/ssc/data/tested_img_anno\n",
      "Image Vedran_image_55_278_0.jpg copied to /home/hinux/Desktop/project04/ssc/data/tested_img_anno\n",
      "Image Vedran_image_56_255_0.json copied to /home/hinux/Desktop/project04/ssc/data/tested_img_anno\n",
      "Image Vedran_image_56_255_0.jpg copied to /home/hinux/Desktop/project04/ssc/data/tested_img_anno\n",
      "Image Vedran_image_57_129_0.json copied to /home/hinux/Desktop/project04/ssc/data/tested_img_anno\n",
      "Image Vedran_image_57_129_0.jpg copied to /home/hinux/Desktop/project04/ssc/data/tested_img_anno\n",
      "Image Vedran_image_59_98_0.json copied to /home/hinux/Desktop/project04/ssc/data/tested_img_anno\n",
      "Image Vedran_image_59_98_0.jpg copied to /home/hinux/Desktop/project04/ssc/data/tested_img_anno\n",
      "Image Vedran_image_59_98_1.json copied to /home/hinux/Desktop/project04/ssc/data/tested_img_anno\n",
      "Image Vedran_image_59_98_1.jpg copied to /home/hinux/Desktop/project04/ssc/data/tested_img_anno\n",
      "Image Vedran_image_62_345_0.json copied to /home/hinux/Desktop/project04/ssc/data/tested_img_anno\n",
      "Image Vedran_image_62_345_0.jpg copied to /home/hinux/Desktop/project04/ssc/data/tested_img_anno\n",
      "Image Vedran_image_64_233_0.json copied to /home/hinux/Desktop/project04/ssc/data/tested_img_anno\n",
      "Image Vedran_image_64_233_0.jpg copied to /home/hinux/Desktop/project04/ssc/data/tested_img_anno\n",
      "Image Vedran_image_65_35_0.json copied to /home/hinux/Desktop/project04/ssc/data/tested_img_anno\n",
      "Image Vedran_image_65_35_0.jpg copied to /home/hinux/Desktop/project04/ssc/data/tested_img_anno\n",
      "Image Vedran_image_65_35_1.json copied to /home/hinux/Desktop/project04/ssc/data/tested_img_anno\n",
      "Image Vedran_image_65_35_1.jpg copied to /home/hinux/Desktop/project04/ssc/data/tested_img_anno\n",
      "Image Vedran_image_68_134_0.json copied to /home/hinux/Desktop/project04/ssc/data/tested_img_anno\n",
      "Image Vedran_image_68_134_0.jpg copied to /home/hinux/Desktop/project04/ssc/data/tested_img_anno\n",
      "Image Vedran_image_69_55_0.json copied to /home/hinux/Desktop/project04/ssc/data/tested_img_anno\n",
      "Image Vedran_image_69_55_0.jpg copied to /home/hinux/Desktop/project04/ssc/data/tested_img_anno\n",
      "Image Vedran_image_75_95_0.json copied to /home/hinux/Desktop/project04/ssc/data/tested_img_anno\n",
      "Image Vedran_image_75_95_0.jpg copied to /home/hinux/Desktop/project04/ssc/data/tested_img_anno\n",
      "Image Vedran_image_78_153_0.json copied to /home/hinux/Desktop/project04/ssc/data/tested_img_anno\n",
      "Image Vedran_image_78_153_0.jpg copied to /home/hinux/Desktop/project04/ssc/data/tested_img_anno\n",
      "Image Vedran_image_82_8_0.json copied to /home/hinux/Desktop/project04/ssc/data/tested_img_anno\n",
      "Image Vedran_image_82_8_0.jpg copied to /home/hinux/Desktop/project04/ssc/data/tested_img_anno\n",
      "Image Vedran_image_83_269_0.json copied to /home/hinux/Desktop/project04/ssc/data/tested_img_anno\n",
      "Image Vedran_image_83_269_0.jpg copied to /home/hinux/Desktop/project04/ssc/data/tested_img_anno\n",
      "Image Vedran_image_84_72_0.json copied to /home/hinux/Desktop/project04/ssc/data/tested_img_anno\n",
      "Image Vedran_image_84_72_0.jpg copied to /home/hinux/Desktop/project04/ssc/data/tested_img_anno\n",
      "Image Vedran_image_87_212_0.json copied to /home/hinux/Desktop/project04/ssc/data/tested_img_anno\n",
      "Image Vedran_image_87_212_0.jpg copied to /home/hinux/Desktop/project04/ssc/data/tested_img_anno\n",
      "Image Vedran_image_87_212_1.json copied to /home/hinux/Desktop/project04/ssc/data/tested_img_anno\n",
      "Image Vedran_image_87_212_1.jpg copied to /home/hinux/Desktop/project04/ssc/data/tested_img_anno\n",
      "Image Vedran_image_89_319_0.json copied to /home/hinux/Desktop/project04/ssc/data/tested_img_anno\n",
      "Image Vedran_image_89_319_0.jpg copied to /home/hinux/Desktop/project04/ssc/data/tested_img_anno\n",
      "Image Vedran_image_90_140_0.json copied to /home/hinux/Desktop/project04/ssc/data/tested_img_anno\n",
      "Image Vedran_image_90_140_0.jpg copied to /home/hinux/Desktop/project04/ssc/data/tested_img_anno\n",
      "Image Vedran_image_90_140_1.json copied to /home/hinux/Desktop/project04/ssc/data/tested_img_anno\n",
      "Image Vedran_image_90_140_1.jpg copied to /home/hinux/Desktop/project04/ssc/data/tested_img_anno\n"
     ]
    }
   ],
   "source": [
    "import shutil\n",
    "\n",
    "# List of image file paths\n",
    "\n",
    "\n",
    "# Destination folder where you want to copy the images\n",
    "test_dir_anno_img = \"tested_img_anno\"\n",
    "destination_folder = f\"/home/hinux/Desktop/project04/ssc/data/{test_dir_anno_img}\"  # REMEMBER TO CHANGE THIS #####################################\n",
    "\n",
    "for item in grouped_strings.items():\n",
    "    try:\n",
    "\n",
    "        \n",
    "        file_name_0 = os.path.basename(item[1][0])\n",
    "        file_name_1 = os.path.basename(item[1][1])\n",
    "\n",
    "        # Construct the destination path by joining the destination folder and file name\n",
    "        destination_path_0 = os.path.join(destination_folder, file_name_0)\n",
    "        destination_path_1 = os.path.join(destination_folder, file_name_1)\n",
    "\n",
    "        # print(destination_path_0)    \n",
    "        # print(destination_path_1)    \n",
    "\n",
    "        # \n",
    "        # Copy the image to the destination folder\n",
    "        shutil.copy(item[1][0], destination_path_0)\n",
    "        shutil.copy(item[1][1], destination_path_1)\n",
    "        # \n",
    "        print(f\"Image {file_name_0} copied to {destination_folder}\")\n",
    "        print(f\"Image {file_name_1} copied to {destination_folder}\")\n",
    "    except Exception as e:\n",
    "        print(f\"Error copying image: {str(e)}\")\n",
    "\n",
    "\n"
   ],
   "metadata": {
    "collapsed": false,
    "ExecuteTime": {
     "end_time": "2023-11-01T01:05:59.833107513Z",
     "start_time": "2023-11-01T01:05:59.762172632Z"
    }
   },
   "id": "818a960efea563cc"
  },
  {
   "cell_type": "code",
   "execution_count": 19,
   "outputs": [
    {
     "name": "stdout",
     "output_type": "stream",
     "text": [
      "/home/hinux/Desktop/project04/ssc/data/tested_img_anno/Vedran_image_0_230_0.jpg,edran_image_0_230,0,True,\"[{'category_id': 1,'bbox':[579, 260, 640, 315],'bbox_mode': 0}]\",test\n",
      "/home/hinux/Desktop/project04/ssc/data/tested_img_anno/Vedran_image_10_168_0.jpg,edran_image_10_168,10,True,\"[{'category_id': 1,'bbox':[142, 251, 189, 298],'bbox_mode': 0}]\",test\n",
      "/home/hinux/Desktop/project04/ssc/data/tested_img_anno/Vedran_image_12_140_0.jpg,edran_image_12_140,12,True,\"[{'category_id': 1,'bbox':[337, 332, 386, 379],'bbox_mode': 0}]\",test\n",
      "/home/hinux/Desktop/project04/ssc/data/tested_img_anno/Vedran_image_1_262_0.jpg,edran_image_1_262,1,True,\"[{'category_id': 1,'bbox':[349, 239, 403, 290],'bbox_mode': 0}]\",test\n",
      "/home/hinux/Desktop/project04/ssc/data/tested_img_anno/Vedran_image_21_151_0.jpg,edran_image_21_151,21,True,\"[{'category_id': 1,'bbox':[407, 301, 458, 353],'bbox_mode': 0}]\",test\n",
      "/home/hinux/Desktop/project04/ssc/data/tested_img_anno/Vedran_image_23_198_0.jpg,edran_image_23_198,23,True,\"[{'category_id': 1,'bbox':[172, 345, 221, 394],'bbox_mode': 0}]\",test\n",
      "/home/hinux/Desktop/project04/ssc/data/tested_img_anno/Vedran_image_23_198_1.jpg,edran_image_23_198,23,True,\"[{'category_id': 1,'bbox':[398, 254, 449, 306],'bbox_mode': 0}]\",test\n",
      "/home/hinux/Desktop/project04/ssc/data/tested_img_anno/Vedran_image_26_298_0.jpg,edran_image_26_298,26,True,\"[{'category_id': 1,'bbox':[53, 318, 102, 367],'bbox_mode': 0}]\",test\n",
      "/home/hinux/Desktop/project04/ssc/data/tested_img_anno/Vedran_image_26_298_1.jpg,edran_image_26_298,26,True,\"[{'category_id': 1,'bbox':[510, 332, 561, 380],'bbox_mode': 0}]\",test\n",
      "/home/hinux/Desktop/project04/ssc/data/tested_img_anno/Vedran_image_27_45_0.jpg,edran_image_27_45,27,True,\"[{'category_id': 1,'bbox':[0, 299, 69, 360],'bbox_mode': 0}]\",test\n",
      "/home/hinux/Desktop/project04/ssc/data/tested_img_anno/Vedran_image_27_45_1.jpg,edran_image_27_45,27,True,\"[{'category_id': 1,'bbox':[468, 328, 517, 378],'bbox_mode': 0}]\",test\n",
      "/home/hinux/Desktop/project04/ssc/data/tested_img_anno/Vedran_image_29_37_0.jpg,edran_image_29_37,29,True,\"[{'category_id': 1,'bbox':[363, 327, 412, 376],'bbox_mode': 0}]\",test\n",
      "/home/hinux/Desktop/project04/ssc/data/tested_img_anno/Vedran_image_30_235_0.jpg,edran_image_30_235,30,True,\"[{'category_id': 1,'bbox':[353, 309, 405, 360],'bbox_mode': 0}]\",test\n",
      "/home/hinux/Desktop/project04/ssc/data/tested_img_anno/Vedran_image_30_235_1.jpg,edran_image_30_235,30,True,\"[{'category_id': 1,'bbox':[184, 249, 245, 309],'bbox_mode': 0}]\",test\n",
      "/home/hinux/Desktop/project04/ssc/data/tested_img_anno/Vedran_image_30_235_2.jpg,edran_image_30_235,30,True,\"[{'category_id': 1,'bbox':[320, 271, 372, 323],'bbox_mode': 0}]\",test\n",
      "/home/hinux/Desktop/project04/ssc/data/tested_img_anno/Vedran_image_31_11_0.jpg,edran_image_31_11,31,True,\"[{'category_id': 1,'bbox':[193, 351, 239, 398],'bbox_mode': 0}]\",test\n",
      "/home/hinux/Desktop/project04/ssc/data/tested_img_anno/Vedran_image_32_335_0.jpg,edran_image_32_335,32,True,\"[{'category_id': 1,'bbox':[174, 354, 224, 404],'bbox_mode': 0}]\",test\n",
      "/home/hinux/Desktop/project04/ssc/data/tested_img_anno/Vedran_image_32_335_1.jpg,edran_image_32_335,32,True,\"[{'category_id': 1,'bbox':[461, 359, 511, 408],'bbox_mode': 0}]\",test\n",
      "/home/hinux/Desktop/project04/ssc/data/tested_img_anno/Vedran_image_3_316_0.jpg,edran_image_3_316,3,True,\"[{'category_id': 1,'bbox':[242, 330, 290, 378],'bbox_mode': 0}]\",test\n",
      "/home/hinux/Desktop/project04/ssc/data/tested_img_anno/Vedran_image_41_11_0.jpg,edran_image_41_11,41,True,\"[{'category_id': 1,'bbox':[187, 331, 236, 381],'bbox_mode': 0}]\",test\n",
      "/home/hinux/Desktop/project04/ssc/data/tested_img_anno/Vedran_image_41_11_1.jpg,edran_image_41_11,41,True,\"[{'category_id': 1,'bbox':[192, 336, 231, 376],'bbox_mode': 0}]\",test\n",
      "/home/hinux/Desktop/project04/ssc/data/tested_img_anno/Vedran_image_44_154_0.jpg,edran_image_44_154,44,True,\"[{'category_id': 1,'bbox':[51, 348, 100, 398],'bbox_mode': 0}]\",test\n",
      "/home/hinux/Desktop/project04/ssc/data/tested_img_anno/Vedran_image_44_154_1.jpg,edran_image_44_154,44,True,\"[{'category_id': 1,'bbox':[354, 287, 401, 339],'bbox_mode': 0}]\",test\n",
      "/home/hinux/Desktop/project04/ssc/data/tested_img_anno/Vedran_image_48_146_0.jpg,edran_image_48_146,48,True,\"[{'category_id': 1,'bbox':[216, 273, 271, 322],'bbox_mode': 0}]\",test\n",
      "/home/hinux/Desktop/project04/ssc/data/tested_img_anno/Vedran_image_53_140_0.jpg,edran_image_53_140,53,True,\"[{'category_id': 1,'bbox':[142, 185, 197, 238],'bbox_mode': 0}]\",test\n",
      "/home/hinux/Desktop/project04/ssc/data/tested_img_anno/Vedran_image_53_140_1.jpg,edran_image_53_140,53,True,\"[{'category_id': 1,'bbox':[422, 17, 473, 65],'bbox_mode': 0}]\",test\n",
      "/home/hinux/Desktop/project04/ssc/data/tested_img_anno/Vedran_image_55_278_0.jpg,edran_image_55_278,55,True,\"[{'category_id': 1,'bbox':[398, 327, 457, 378],'bbox_mode': 0}]\",test\n",
      "/home/hinux/Desktop/project04/ssc/data/tested_img_anno/Vedran_image_56_255_0.jpg,edran_image_56_255,56,True,\"[{'category_id': 1,'bbox':[599, 335, 640, 388],'bbox_mode': 0}]\",test\n",
      "/home/hinux/Desktop/project04/ssc/data/tested_img_anno/Vedran_image_57_129_0.jpg,edran_image_57_129,57,True,\"[{'category_id': 1,'bbox':[157, 249, 208, 299],'bbox_mode': 0}]\",test\n",
      "/home/hinux/Desktop/project04/ssc/data/tested_img_anno/Vedran_image_59_98_0.jpg,edran_image_59_98,59,True,\"[{'category_id': 1,'bbox':[201, 265, 252, 314],'bbox_mode': 0}]\",test\n",
      "/home/hinux/Desktop/project04/ssc/data/tested_img_anno/Vedran_image_59_98_1.jpg,edran_image_59_98,59,True,\"[{'category_id': 1,'bbox':[183, 123, 236, 172],'bbox_mode': 0}]\",test\n",
      "/home/hinux/Desktop/project04/ssc/data/tested_img_anno/Vedran_image_62_345_0.jpg,edran_image_62_345,62,True,\"[{'category_id': 1,'bbox':[2, 193, 55, 248],'bbox_mode': 0}]\",test\n",
      "/home/hinux/Desktop/project04/ssc/data/tested_img_anno/Vedran_image_64_233_0.jpg,edran_image_64_233,64,True,\"[{'category_id': 1,'bbox':[257, 334, 304, 384],'bbox_mode': 0}]\",test\n",
      "/home/hinux/Desktop/project04/ssc/data/tested_img_anno/Vedran_image_65_35_0.jpg,edran_image_65_35,65,True,\"[{'category_id': 1,'bbox':[332, 355, 382, 408],'bbox_mode': 0}]\",test\n",
      "/home/hinux/Desktop/project04/ssc/data/tested_img_anno/Vedran_image_65_35_1.jpg,edran_image_65_35,65,True,\"[{'category_id': 1,'bbox':[476, 302, 526, 353],'bbox_mode': 0}]\",test\n",
      "/home/hinux/Desktop/project04/ssc/data/tested_img_anno/Vedran_image_68_134_0.jpg,edran_image_68_134,68,True,\"[{'category_id': 1,'bbox':[401, 321, 449, 366],'bbox_mode': 0}]\",test\n",
      "/home/hinux/Desktop/project04/ssc/data/tested_img_anno/Vedran_image_69_55_0.jpg,edran_image_69_55,69,True,\"[{'category_id': 1,'bbox':[343, 356, 392, 405],'bbox_mode': 0}]\",test\n",
      "/home/hinux/Desktop/project04/ssc/data/tested_img_anno/Vedran_image_75_95_0.jpg,edran_image_75_95,75,True,\"[{'category_id': 1,'bbox':[79, 58, 128, 106],'bbox_mode': 0}]\",test\n",
      "/home/hinux/Desktop/project04/ssc/data/tested_img_anno/Vedran_image_78_153_0.jpg,edran_image_78_153,78,True,\"[{'category_id': 1,'bbox':[26, 342, 78, 394],'bbox_mode': 0}]\",test\n",
      "/home/hinux/Desktop/project04/ssc/data/tested_img_anno/Vedran_image_82_8_0.jpg,edran_image_82_8,82,True,\"[{'category_id': 1,'bbox':[73, 298, 123, 349],'bbox_mode': 0}]\",test\n",
      "/home/hinux/Desktop/project04/ssc/data/tested_img_anno/Vedran_image_83_269_0.jpg,edran_image_83_269,83,True,\"[{'category_id': 1,'bbox':[347, 253, 421, 308],'bbox_mode': 0}]\",test\n",
      "/home/hinux/Desktop/project04/ssc/data/tested_img_anno/Vedran_image_84_72_0.jpg,edran_image_84_72,84,True,\"[{'category_id': 1,'bbox':[452, 314, 497, 363],'bbox_mode': 0}]\",test\n",
      "/home/hinux/Desktop/project04/ssc/data/tested_img_anno/Vedran_image_87_212_0.jpg,edran_image_87_212,87,True,\"[{'category_id': 1,'bbox':[567, 305, 615, 354],'bbox_mode': 0}]\",test\n",
      "/home/hinux/Desktop/project04/ssc/data/tested_img_anno/Vedran_image_87_212_1.jpg,edran_image_87_212,87,True,\"[{'category_id': 1,'bbox':[50, 240, 98, 292],'bbox_mode': 0}]\",test\n",
      "/home/hinux/Desktop/project04/ssc/data/tested_img_anno/Vedran_image_89_319_0.jpg,edran_image_89_319,89,True,\"[{'category_id': 1,'bbox':[232, 305, 280, 352],'bbox_mode': 0}]\",test\n",
      "/home/hinux/Desktop/project04/ssc/data/tested_img_anno/Vedran_image_90_140_0.jpg,edran_image_90_140,90,True,\"[{'category_id': 1,'bbox':[287, 329, 342, 380],'bbox_mode': 0}]\",test\n",
      "/home/hinux/Desktop/project04/ssc/data/tested_img_anno/Vedran_image_90_140_1.jpg,edran_image_90_140,90,True,\"[{'category_id': 1,'bbox':[71, 335, 121, 381],'bbox_mode': 0}]\",test\n"
     ]
    }
   ],
   "source": [
    "import json\n",
    "import os\n",
    "import csv\n",
    "\n",
    "tested_img_path = \"/home/hinux/Desktop/project04/ssc/data/tested_img_anno\"\n",
    "csv_file_name = '/home/hinux/Desktop/project04/checking_folder/tested_anno.csv'  #### Change name of the new csv file\n",
    "\n",
    "################################\n",
    "## This code will add this line on top of the csv file which is important - save_path,panoid,heading,downloaded,annotations,split\n",
    "\n",
    "with open(csv_file_name, 'a', newline='') as csvfile:\n",
    "    csvfile.write(\"save_path,panoid,heading,downloaded,annotations,split\" + \"\\n\")\n",
    "\n",
    "################################\n",
    "\n",
    "temp_filename_1 = \"\"\n",
    "temp_filename_2 = \"\"\n",
    "for filename in grouped_strings.values():\n",
    "    try:\n",
    "\n",
    "        if filename[0].endswith('.json'):\n",
    "            temp_filename = filename[0][:-5] + \".jpg\"\n",
    "            temp_list = temp_filename.split('/')\n",
    "\n",
    "            split = \"test\"\n",
    "\n",
    "            # image_id = temp_list[8].replace('jpg',\"\")[:-1]\n",
    "            panoid = temp_list[9].replace('jpg', \"\")[:-1]\n",
    "            heading = temp_list[9].split(\"_\")[2]\n",
    "            dir_path = \"tested_img_anno\"\n",
    "            save_path = f\"/home/hinux/Desktop/project04/ssc/data/{dir_path}/{panoid}.jpg\"\n",
    "            temp_filename_1 = save_path + ',' + panoid[1:-2] + ',' + str(\n",
    "                heading) + ',' + \"True,\"  # jumping two letters for panoid, just to make sure that it creates a new folder, so it does not deletes the old one\n",
    "\n",
    "            # print(temp_filename_1)\n",
    "\n",
    "            file_path_json = filename[0]  # original version\n",
    "            # print(file_path_json)\n",
    "\n",
    "            \n",
    "\n",
    "            with open(file_path_json, 'r') as file:\n",
    "                # Use json.load() to parse the JSON data from the file\n",
    "                data = json.load(file)[\"box\"]\n",
    "                temp_string = data\n",
    "\n",
    "            annotations = \"\\\"[{'category_id': 1,'bbox':\" + str(data) + \",'bbox_mode': 0}]\\\"\"\n",
    "            temp_filename_2 = temp_filename_1 + annotations +\",test\"\n",
    "            print(temp_filename_2)\n",
    "\n",
    "\n",
    "            with open(csv_file_name, 'a', newline='') as csvfile:\n",
    "                # print(temp_filename_2)\n",
    "                csvfile.write(temp_filename_2 + \"\\n\")\n",
    "\n",
    "    except Exception as e:\n",
    "        print(f\"Error copying image: {str(e)}\")\n",
    "        \n",
    "\n",
    "    "
   ],
   "metadata": {
    "collapsed": false,
    "ExecuteTime": {
     "end_time": "2023-11-01T01:05:59.847581004Z",
     "start_time": "2023-11-01T01:05:59.802138464Z"
    }
   },
   "id": "4ee9bd29c073a09c"
  },
  {
   "cell_type": "code",
   "execution_count": 19,
   "outputs": [],
   "source": [],
   "metadata": {
    "collapsed": false,
    "ExecuteTime": {
     "end_time": "2023-11-01T01:05:59.847711250Z",
     "start_time": "2023-11-01T01:05:59.802270177Z"
    }
   },
   "id": "48c50077647e9a79"
  }
 ],
 "metadata": {
  "kernelspec": {
   "display_name": "Python 3",
   "language": "python",
   "name": "python3"
  },
  "language_info": {
   "codemirror_mode": {
    "name": "ipython",
    "version": 2
   },
   "file_extension": ".py",
   "mimetype": "text/x-python",
   "name": "python",
   "nbconvert_exporter": "python",
   "pygments_lexer": "ipython2",
   "version": "2.7.6"
  }
 },
 "nbformat": 4,
 "nbformat_minor": 5
}
