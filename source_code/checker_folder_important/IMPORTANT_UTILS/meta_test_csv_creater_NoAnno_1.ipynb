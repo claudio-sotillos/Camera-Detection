{
 "cells": [
  {
   "cell_type": "markdown",
   "source": [
    "# Turning your images, to meta for testing"
   ],
   "metadata": {
    "collapsed": false
   },
   "id": "d03f8084a7207f15"
  },
  {
   "cell_type": "code",
   "execution_count": 4,
   "outputs": [],
   "source": [
    "import os\n",
    "import csv\n",
    "\n",
    "FILE_NUMBER = 9\n",
    "\n",
    "\n",
    "# directory_path = \"/home/hinux/Desktop/google_images/tester_images/Vedran_images/cameras\"\n",
    "directory_path = \"/home/hinux/Desktop/google_images/tester_images/no_cam\"\n",
    "csv_file_name = '/home/hinux/Desktop/project04/checking_folder/TEST_200.csv'\n",
    "\n",
    "# directory_path = f\"/home/hinux/Desktop/google_images/sub_dataset_{FILE_NUMBER}\"\n",
    "# \n",
    "# csv_file_name = f'/home/hinux/Desktop/google_images/found_images_{FILE_NUMBER}.csv'\n",
    "################################\n",
    "# DO NOT DELETE THIS LINE ->>>>>>>>\n",
    "## remember to add that line in the beginning of the csv file - for testing: save_path,panoid,heading,downloaded,annotations,split \n",
    "################################\n",
    "jpg_files = []\n",
    "\n",
    "for filename in os.listdir(directory_path):\n",
    "    if filename.endswith('.jpg'):\n",
    "        temp_filename = filename\n",
    "        temp_list = temp_filename.split('_')  ## ['strtV', 'image', '99490', '74.jpg'] # strtV_image_99490_74.jpg\n",
    "        # print(temp_list)\n",
    "\n",
    "        panoid = temp_list[0] + '_' + temp_list[1] + '_' + temp_list[2]\n",
    "        heading = temp_list[3].replace(\".jpg\", \"\")\n",
    "        # myfile = f\"/home/hinux/Desktop/google_images/sub_dataset_{FILE_NUMBER}/\" + filename + \",\" + panoid + \",\" + str(heading) + \",True,\" + \"test\"  # original version\n",
    "        myfile = \"/home/hinux/Desktop/google_images/tester_images/Vedran_images/cameras/\" + filename + \",\" + panoid + \",\" + str(heading) + \",True,\" + \"[],\"+\"test\"\n",
    "        myfile = \"/home/hinux/Desktop/google_images/tester_images/no_cam/\" + filename + \",\" + panoid + \",\" + str(heading) + \",True,\" + \"[],\"+\"test\"\n",
    "        # print(myfile)\n",
    "        jpg_files.append([myfile])  # Wrap the filename in a list\n",
    "\n",
    "with open(csv_file_name, 'a', newline='') as csvfile:\n",
    "    csv_writer = csv.writer(csvfile, delimiter=' ',\n",
    "                            escapechar=' ', quoting=csv.QUOTE_NONE)\n",
    "    csv_writer.writerow([\"save_path,panoid,heading,downloaded,annotations,split\"])  # Write a header row\n",
    "    csv_writer.writerows(jpg_files)"
   ],
   "metadata": {
    "collapsed": false,
    "ExecuteTime": {
     "end_time": "2023-11-01T01:48:54.062737146Z",
     "start_time": "2023-11-01T01:48:54.020888244Z"
    }
   },
   "id": "9c17dabaa9974a03"
  },
  {
   "cell_type": "code",
   "execution_count": 37,
   "outputs": [],
   "source": [],
   "metadata": {
    "collapsed": false,
    "ExecuteTime": {
     "end_time": "2023-10-27T01:18:03.771793805Z",
     "start_time": "2023-10-27T01:18:03.768111796Z"
    }
   },
   "id": "b7492a476b121ac5"
  }
 ],
 "metadata": {
  "kernelspec": {
   "display_name": "Python 3",
   "language": "python",
   "name": "python3"
  },
  "language_info": {
   "codemirror_mode": {
    "name": "ipython",
    "version": 2
   },
   "file_extension": ".py",
   "mimetype": "text/x-python",
   "name": "python",
   "nbconvert_exporter": "python",
   "pygments_lexer": "ipython2",
   "version": "2.7.6"
  }
 },
 "nbformat": 4,
 "nbformat_minor": 5
}
