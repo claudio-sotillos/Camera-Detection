{
 "cells": [
  {
   "cell_type": "markdown",
   "source": [
    "# Camera"
   ],
   "metadata": {
    "collapsed": false
   },
   "id": "f69a8167e423103"
  },
  {
   "cell_type": "markdown",
   "source": [
    "# Getting filename from modified folder to get the images from original dataset"
   ],
   "metadata": {
    "collapsed": false
   },
   "id": "32c6a03c8b55da9"
  },
  {
   "cell_type": "markdown",
   "source": [
    "# Purpose of this notebook:\n",
    "We want have a dataset that we want to predict, we have to run it through the test,\n",
    "after running the test we get a folder with images, we go through the images manually to select\n",
    "images with camera.\n",
    "After seperating the images in class folder 1 and 0, we have to get the names of the items in each folder\n",
    "when we get the names and append it to an empty list, we have to pass them to a function that gets the orignial images that has been tested, since they are in the original shape\n",
    "thos we have in the folder 1 and 0 is not in original shape since each image has two subimages inside it which is not something useful, beside seeing a camera with a bounding box.\n",
    "we want to create a set for training. therefore we need this notebook."
   ],
   "metadata": {
    "collapsed": false
   },
   "id": "add27abf2b43162e"
  },
  {
   "cell_type": "markdown",
   "source": [],
   "metadata": {
    "collapsed": false
   },
   "id": "dec8771067faf966"
  },
  {
   "cell_type": "code",
   "execution_count": 1,
   "outputs": [],
   "source": [
    "jpg_filepath_image = []"
   ],
   "metadata": {
    "collapsed": false,
    "ExecuteTime": {
     "end_time": "2023-11-14T22:11:31.355488801Z",
     "start_time": "2023-11-14T22:11:31.347217913Z"
    }
   },
   "id": "8ed4acfc5eb5340c"
  },
  {
   "cell_type": "code",
   "execution_count": 2,
   "outputs": [],
   "source": [
    "import json\n",
    "import os\n",
    "import csv\n",
    "\n",
    "NUMBER = [9] # FOLDER NUMER: 6, 7, 8, 10\n",
    "for i in NUMBER:\n",
    "    \n",
    "    directory_path = F\"/home/hinux/Desktop/google_images/found_images_{i}/st\" # change path\n",
    "    # csv_file_name = '../checking_folder/modified_names.csv' \n",
    "    \n",
    "    \n",
    "    for filename in os.listdir(directory_path):\n",
    "        if filename.endswith(\".jpg\"):\n",
    "            correct_filename = filename[:-6] + \".jpg\"\n",
    "            # print(correct_filename)\n",
    "            file_path = f\"/home/hinux/Desktop/google_images/sub_dataset_{i}/{correct_filename}\"\n",
    "            # print(file_path)\n",
    "            jpg_filepath_image.append(file_path)\n",
    "            \n",
    "    \n",
    "            \n",
    "        "
   ],
   "metadata": {
    "collapsed": false,
    "ExecuteTime": {
     "end_time": "2023-11-14T22:11:31.355630161Z",
     "start_time": "2023-11-14T22:11:31.347318625Z"
    }
   },
   "id": "5419e04d5cdb757b"
  },
  {
   "cell_type": "code",
   "execution_count": 3,
   "outputs": [
    {
     "name": "stdout",
     "output_type": "stream",
     "text": [
      "jpg only: 1129\n"
     ]
    }
   ],
   "source": [
    "print(\"jpg only:\",len(jpg_filepath_image)) # not counting the json hence divide by 2"
   ],
   "metadata": {
    "collapsed": false,
    "ExecuteTime": {
     "end_time": "2023-11-14T22:11:31.355799876Z",
     "start_time": "2023-11-14T22:11:31.347363603Z"
    }
   },
   "id": "7f0acc09de312484"
  },
  {
   "cell_type": "code",
   "execution_count": 4,
   "outputs": [
    {
     "name": "stdout",
     "output_type": "stream",
     "text": [
      "total: 1129\n"
     ]
    }
   ],
   "source": [
    "print(\"total:\",len(jpg_filepath_image))"
   ],
   "metadata": {
    "collapsed": false,
    "ExecuteTime": {
     "end_time": "2023-11-14T22:11:31.428311979Z",
     "start_time": "2023-11-14T22:11:31.427205823Z"
    }
   },
   "id": "e486db5b9464f9ab"
  },
  {
   "cell_type": "code",
   "execution_count": 5,
   "outputs": [
    {
     "name": "stdout",
     "output_type": "stream",
     "text": [
      "80% of the train set: 903.2\n"
     ]
    }
   ],
   "source": [
    "print(\"80% of the train set:\", (len(jpg_filepath_image))*0.8)"
   ],
   "metadata": {
    "collapsed": false,
    "ExecuteTime": {
     "end_time": "2023-11-14T22:11:31.539430242Z",
     "start_time": "2023-11-14T22:11:31.537377449Z"
    }
   },
   "id": "81a41426659712cf"
  },
  {
   "cell_type": "code",
   "execution_count": 6,
   "outputs": [
    {
     "name": "stdout",
     "output_type": "stream",
     "text": [
      "80% of the validation set: 225.8\n"
     ]
    }
   ],
   "source": [
    "print(\"80% of the validation set:\", (len(jpg_filepath_image))*0.2)"
   ],
   "metadata": {
    "collapsed": false,
    "ExecuteTime": {
     "end_time": "2023-11-14T22:11:31.703574018Z",
     "start_time": "2023-11-14T22:11:31.698223918Z"
    }
   },
   "id": "8c6778ae62f8d47b"
  },
  {
   "cell_type": "markdown",
   "source": [
    "# Insert this values in the for loop (not exactly)"
   ],
   "metadata": {
    "collapsed": false
   },
   "id": "4e1fbe13d2121ca"
  },
  {
   "cell_type": "code",
   "execution_count": 7,
   "outputs": [],
   "source": [
    "jpg_filepath_image.sort()"
   ],
   "metadata": {
    "collapsed": false,
    "ExecuteTime": {
     "end_time": "2023-11-14T22:11:32.201952452Z",
     "start_time": "2023-11-14T22:11:32.193116473Z"
    }
   },
   "id": "b09d2204ca096eb7"
  },
  {
   "cell_type": "code",
   "execution_count": 8,
   "outputs": [
    {
     "data": {
      "text/plain": "['/home/hinux/Desktop/google_images/sub_dataset_9/strtV_image_322593_11.jpg',\n '/home/hinux/Desktop/google_images/sub_dataset_9/strtV_image_322641_194.jpg',\n '/home/hinux/Desktop/google_images/sub_dataset_9/strtV_image_322641_194.jpg',\n '/home/hinux/Desktop/google_images/sub_dataset_9/strtV_image_322795_86.jpg',\n '/home/hinux/Desktop/google_images/sub_dataset_9/strtV_image_322796_33.jpg',\n '/home/hinux/Desktop/google_images/sub_dataset_9/strtV_image_322986_65.jpg',\n '/home/hinux/Desktop/google_images/sub_dataset_9/strtV_image_323077_169.jpg',\n '/home/hinux/Desktop/google_images/sub_dataset_9/strtV_image_323431_136.jpg',\n '/home/hinux/Desktop/google_images/sub_dataset_9/strtV_image_323811_76.jpg',\n '/home/hinux/Desktop/google_images/sub_dataset_9/strtV_image_324278_99.jpg',\n '/home/hinux/Desktop/google_images/sub_dataset_9/strtV_image_324310_158.jpg',\n '/home/hinux/Desktop/google_images/sub_dataset_9/strtV_image_324310_158.jpg',\n '/home/hinux/Desktop/google_images/sub_dataset_9/strtV_image_324310_21.jpg',\n '/home/hinux/Desktop/google_images/sub_dataset_9/strtV_image_324370_1.jpg',\n '/home/hinux/Desktop/google_images/sub_dataset_9/strtV_image_324588_67.jpg',\n '/home/hinux/Desktop/google_images/sub_dataset_9/strtV_image_324623_260.jpg',\n '/home/hinux/Desktop/google_images/sub_dataset_9/strtV_image_324682_101.jpg',\n '/home/hinux/Desktop/google_images/sub_dataset_9/strtV_image_324947_181.jpg',\n '/home/hinux/Desktop/google_images/sub_dataset_9/strtV_image_324954_121.jpg',\n '/home/hinux/Desktop/google_images/sub_dataset_9/strtV_image_325064_210.jpg',\n '/home/hinux/Desktop/google_images/sub_dataset_9/strtV_image_325438_146.jpg',\n '/home/hinux/Desktop/google_images/sub_dataset_9/strtV_image_325630_16.jpg',\n '/home/hinux/Desktop/google_images/sub_dataset_9/strtV_image_325695_117.jpg',\n '/home/hinux/Desktop/google_images/sub_dataset_9/strtV_image_325732_93.jpg',\n '/home/hinux/Desktop/google_images/sub_dataset_9/strtV_image_325940_261.jpg',\n '/home/hinux/Desktop/google_images/sub_dataset_9/strtV_image_326334_264.jpg',\n '/home/hinux/Desktop/google_images/sub_dataset_9/strtV_image_326391_128.jpg',\n '/home/hinux/Desktop/google_images/sub_dataset_9/strtV_image_326526_130.jpg',\n '/home/hinux/Desktop/google_images/sub_dataset_9/strtV_image_326655_79.jpg',\n '/home/hinux/Desktop/google_images/sub_dataset_9/strtV_image_326705_34.jpg',\n '/home/hinux/Desktop/google_images/sub_dataset_9/strtV_image_326864_64.jpg',\n '/home/hinux/Desktop/google_images/sub_dataset_9/strtV_image_326931_243.jpg',\n '/home/hinux/Desktop/google_images/sub_dataset_9/strtV_image_327490_78.jpg',\n '/home/hinux/Desktop/google_images/sub_dataset_9/strtV_image_327507_98.jpg',\n '/home/hinux/Desktop/google_images/sub_dataset_9/strtV_image_327602_170.jpg',\n '/home/hinux/Desktop/google_images/sub_dataset_9/strtV_image_327650_131.jpg',\n '/home/hinux/Desktop/google_images/sub_dataset_9/strtV_image_327681_171.jpg',\n '/home/hinux/Desktop/google_images/sub_dataset_9/strtV_image_327681_8.jpg',\n '/home/hinux/Desktop/google_images/sub_dataset_9/strtV_image_327807_49.jpg',\n '/home/hinux/Desktop/google_images/sub_dataset_9/strtV_image_327843_30.jpg',\n '/home/hinux/Desktop/google_images/sub_dataset_9/strtV_image_327858_85.jpg',\n '/home/hinux/Desktop/google_images/sub_dataset_9/strtV_image_327967_51.jpg',\n '/home/hinux/Desktop/google_images/sub_dataset_9/strtV_image_327987_197.jpg',\n '/home/hinux/Desktop/google_images/sub_dataset_9/strtV_image_328044_79.jpg',\n '/home/hinux/Desktop/google_images/sub_dataset_9/strtV_image_328053_134.jpg',\n '/home/hinux/Desktop/google_images/sub_dataset_9/strtV_image_328123_74.jpg',\n '/home/hinux/Desktop/google_images/sub_dataset_9/strtV_image_329011_138.jpg',\n '/home/hinux/Desktop/google_images/sub_dataset_9/strtV_image_329011_41.jpg',\n '/home/hinux/Desktop/google_images/sub_dataset_9/strtV_image_329193_70.jpg',\n '/home/hinux/Desktop/google_images/sub_dataset_9/strtV_image_329545_222.jpg',\n '/home/hinux/Desktop/google_images/sub_dataset_9/strtV_image_329673_25.jpg',\n '/home/hinux/Desktop/google_images/sub_dataset_9/strtV_image_329992_36.jpg',\n '/home/hinux/Desktop/google_images/sub_dataset_9/strtV_image_330253_68.jpg',\n '/home/hinux/Desktop/google_images/sub_dataset_9/strtV_image_330419_203.jpg',\n '/home/hinux/Desktop/google_images/sub_dataset_9/strtV_image_330577_67.jpg',\n '/home/hinux/Desktop/google_images/sub_dataset_9/strtV_image_330667_227.jpg',\n '/home/hinux/Desktop/google_images/sub_dataset_9/strtV_image_330841_55.jpg',\n '/home/hinux/Desktop/google_images/sub_dataset_9/strtV_image_330893_173.jpg',\n '/home/hinux/Desktop/google_images/sub_dataset_9/strtV_image_330893_6.jpg',\n '/home/hinux/Desktop/google_images/sub_dataset_9/strtV_image_330994_114.jpg',\n '/home/hinux/Desktop/google_images/sub_dataset_9/strtV_image_331169_86.jpg',\n '/home/hinux/Desktop/google_images/sub_dataset_9/strtV_image_331244_88.jpg',\n '/home/hinux/Desktop/google_images/sub_dataset_9/strtV_image_331366_52.jpg',\n '/home/hinux/Desktop/google_images/sub_dataset_9/strtV_image_331427_262.jpg',\n '/home/hinux/Desktop/google_images/sub_dataset_9/strtV_image_331738_72.jpg',\n '/home/hinux/Desktop/google_images/sub_dataset_9/strtV_image_331838_40.jpg',\n '/home/hinux/Desktop/google_images/sub_dataset_9/strtV_image_331843_97.jpg',\n '/home/hinux/Desktop/google_images/sub_dataset_9/strtV_image_331958_122.jpg',\n '/home/hinux/Desktop/google_images/sub_dataset_9/strtV_image_332269_242.jpg',\n '/home/hinux/Desktop/google_images/sub_dataset_9/strtV_image_332523_20.jpg',\n '/home/hinux/Desktop/google_images/sub_dataset_9/strtV_image_332881_111.jpg',\n '/home/hinux/Desktop/google_images/sub_dataset_9/strtV_image_332881_68.jpg',\n '/home/hinux/Desktop/google_images/sub_dataset_9/strtV_image_332910_21.jpg',\n '/home/hinux/Desktop/google_images/sub_dataset_9/strtV_image_333609_167.jpg',\n '/home/hinux/Desktop/google_images/sub_dataset_9/strtV_image_333609_167.jpg',\n '/home/hinux/Desktop/google_images/sub_dataset_9/strtV_image_333623_85.jpg',\n '/home/hinux/Desktop/google_images/sub_dataset_9/strtV_image_333722_151.jpg',\n '/home/hinux/Desktop/google_images/sub_dataset_9/strtV_image_334856_138.jpg',\n '/home/hinux/Desktop/google_images/sub_dataset_9/strtV_image_335026_219.jpg',\n '/home/hinux/Desktop/google_images/sub_dataset_9/strtV_image_335192_99.jpg',\n '/home/hinux/Desktop/google_images/sub_dataset_9/strtV_image_335193_104.jpg',\n '/home/hinux/Desktop/google_images/sub_dataset_9/strtV_image_335216_24.jpg',\n '/home/hinux/Desktop/google_images/sub_dataset_9/strtV_image_335366_70.jpg',\n '/home/hinux/Desktop/google_images/sub_dataset_9/strtV_image_336089_226.jpg',\n '/home/hinux/Desktop/google_images/sub_dataset_9/strtV_image_336089_226.jpg',\n '/home/hinux/Desktop/google_images/sub_dataset_9/strtV_image_336209_24.jpg',\n '/home/hinux/Desktop/google_images/sub_dataset_9/strtV_image_336247_11.jpg',\n '/home/hinux/Desktop/google_images/sub_dataset_9/strtV_image_336658_222.jpg',\n '/home/hinux/Desktop/google_images/sub_dataset_9/strtV_image_336781_120.jpg',\n '/home/hinux/Desktop/google_images/sub_dataset_9/strtV_image_336800_72.jpg',\n '/home/hinux/Desktop/google_images/sub_dataset_9/strtV_image_337344_85.jpg',\n '/home/hinux/Desktop/google_images/sub_dataset_9/strtV_image_337401_256.jpg',\n '/home/hinux/Desktop/google_images/sub_dataset_9/strtV_image_337418_29.jpg',\n '/home/hinux/Desktop/google_images/sub_dataset_9/strtV_image_337465_258.jpg',\n '/home/hinux/Desktop/google_images/sub_dataset_9/strtV_image_337794_251.jpg',\n '/home/hinux/Desktop/google_images/sub_dataset_9/strtV_image_337817_137.jpg',\n '/home/hinux/Desktop/google_images/sub_dataset_9/strtV_image_338285_131.jpg',\n '/home/hinux/Desktop/google_images/sub_dataset_9/strtV_image_338879_17.jpg',\n '/home/hinux/Desktop/google_images/sub_dataset_9/strtV_image_339302_143.jpg',\n '/home/hinux/Desktop/google_images/sub_dataset_9/strtV_image_339497_256.jpg',\n '/home/hinux/Desktop/google_images/sub_dataset_9/strtV_image_339598_93.jpg',\n '/home/hinux/Desktop/google_images/sub_dataset_9/strtV_image_339846_8.jpg',\n '/home/hinux/Desktop/google_images/sub_dataset_9/strtV_image_340126_204.jpg',\n '/home/hinux/Desktop/google_images/sub_dataset_9/strtV_image_340437_174.jpg',\n '/home/hinux/Desktop/google_images/sub_dataset_9/strtV_image_340553_138.jpg',\n '/home/hinux/Desktop/google_images/sub_dataset_9/strtV_image_340708_204.jpg',\n '/home/hinux/Desktop/google_images/sub_dataset_9/strtV_image_340791_226.jpg',\n '/home/hinux/Desktop/google_images/sub_dataset_9/strtV_image_340840_128.jpg',\n '/home/hinux/Desktop/google_images/sub_dataset_9/strtV_image_340932_66.jpg',\n '/home/hinux/Desktop/google_images/sub_dataset_9/strtV_image_341136_266.jpg',\n '/home/hinux/Desktop/google_images/sub_dataset_9/strtV_image_341285_94.jpg',\n '/home/hinux/Desktop/google_images/sub_dataset_9/strtV_image_341285_94.jpg',\n '/home/hinux/Desktop/google_images/sub_dataset_9/strtV_image_341720_158.jpg',\n '/home/hinux/Desktop/google_images/sub_dataset_9/strtV_image_341917_60.jpg',\n '/home/hinux/Desktop/google_images/sub_dataset_9/strtV_image_343378_189.jpg',\n '/home/hinux/Desktop/google_images/sub_dataset_9/strtV_image_343674_79.jpg',\n '/home/hinux/Desktop/google_images/sub_dataset_9/strtV_image_343849_55.jpg',\n '/home/hinux/Desktop/google_images/sub_dataset_9/strtV_image_343849_55.jpg',\n '/home/hinux/Desktop/google_images/sub_dataset_9/strtV_image_344305_10.jpg',\n '/home/hinux/Desktop/google_images/sub_dataset_9/strtV_image_344514_238.jpg',\n '/home/hinux/Desktop/google_images/sub_dataset_9/strtV_image_344514_58.jpg',\n '/home/hinux/Desktop/google_images/sub_dataset_9/strtV_image_344737_252.jpg',\n '/home/hinux/Desktop/google_images/sub_dataset_9/strtV_image_344861_88.jpg',\n '/home/hinux/Desktop/google_images/sub_dataset_9/strtV_image_345009_237.jpg',\n '/home/hinux/Desktop/google_images/sub_dataset_9/strtV_image_345279_102.jpg',\n '/home/hinux/Desktop/google_images/sub_dataset_9/strtV_image_345694_40.jpg',\n '/home/hinux/Desktop/google_images/sub_dataset_9/strtV_image_345893_9.jpg',\n '/home/hinux/Desktop/google_images/sub_dataset_9/strtV_image_345893_9.jpg',\n '/home/hinux/Desktop/google_images/sub_dataset_9/strtV_image_345893_9.jpg',\n '/home/hinux/Desktop/google_images/sub_dataset_9/strtV_image_346011_77.jpg',\n '/home/hinux/Desktop/google_images/sub_dataset_9/strtV_image_346011_77.jpg',\n '/home/hinux/Desktop/google_images/sub_dataset_9/strtV_image_346114_93.jpg',\n '/home/hinux/Desktop/google_images/sub_dataset_9/strtV_image_346190_20.jpg',\n '/home/hinux/Desktop/google_images/sub_dataset_9/strtV_image_346218_40.jpg',\n '/home/hinux/Desktop/google_images/sub_dataset_9/strtV_image_346311_33.jpg',\n '/home/hinux/Desktop/google_images/sub_dataset_9/strtV_image_346553_88.jpg',\n '/home/hinux/Desktop/google_images/sub_dataset_9/strtV_image_346799_17.jpg',\n '/home/hinux/Desktop/google_images/sub_dataset_9/strtV_image_346799_17.jpg',\n '/home/hinux/Desktop/google_images/sub_dataset_9/strtV_image_346799_17.jpg',\n '/home/hinux/Desktop/google_images/sub_dataset_9/strtV_image_346909_139.jpg',\n '/home/hinux/Desktop/google_images/sub_dataset_9/strtV_image_346911_19.jpg',\n '/home/hinux/Desktop/google_images/sub_dataset_9/strtV_image_346911_199.jpg',\n '/home/hinux/Desktop/google_images/sub_dataset_9/strtV_image_347170_19.jpg',\n '/home/hinux/Desktop/google_images/sub_dataset_9/strtV_image_347430_104.jpg',\n '/home/hinux/Desktop/google_images/sub_dataset_9/strtV_image_347566_105.jpg',\n '/home/hinux/Desktop/google_images/sub_dataset_9/strtV_image_347644_102.jpg',\n '/home/hinux/Desktop/google_images/sub_dataset_9/strtV_image_347915_227.jpg',\n '/home/hinux/Desktop/google_images/sub_dataset_9/strtV_image_348047_64.jpg',\n '/home/hinux/Desktop/google_images/sub_dataset_9/strtV_image_348059_181.jpg',\n '/home/hinux/Desktop/google_images/sub_dataset_9/strtV_image_348178_132.jpg',\n '/home/hinux/Desktop/google_images/sub_dataset_9/strtV_image_348208_39.jpg',\n '/home/hinux/Desktop/google_images/sub_dataset_9/strtV_image_348260_124.jpg',\n '/home/hinux/Desktop/google_images/sub_dataset_9/strtV_image_348867_163.jpg',\n '/home/hinux/Desktop/google_images/sub_dataset_9/strtV_image_348879_99.jpg',\n '/home/hinux/Desktop/google_images/sub_dataset_9/strtV_image_348896_135.jpg',\n '/home/hinux/Desktop/google_images/sub_dataset_9/strtV_image_348934_110.jpg',\n '/home/hinux/Desktop/google_images/sub_dataset_9/strtV_image_349164_115.jpg',\n '/home/hinux/Desktop/google_images/sub_dataset_9/strtV_image_349493_66.jpg',\n '/home/hinux/Desktop/google_images/sub_dataset_9/strtV_image_349680_12.jpg',\n '/home/hinux/Desktop/google_images/sub_dataset_9/strtV_image_349685_111.jpg',\n '/home/hinux/Desktop/google_images/sub_dataset_9/strtV_image_349707_122.jpg',\n '/home/hinux/Desktop/google_images/sub_dataset_9/strtV_image_350030_136.jpg',\n '/home/hinux/Desktop/google_images/sub_dataset_9/strtV_image_350062_236.jpg',\n '/home/hinux/Desktop/google_images/sub_dataset_9/strtV_image_350312_63.jpg',\n '/home/hinux/Desktop/google_images/sub_dataset_9/strtV_image_350393_64.jpg',\n '/home/hinux/Desktop/google_images/sub_dataset_9/strtV_image_350455_22.jpg',\n '/home/hinux/Desktop/google_images/sub_dataset_9/strtV_image_350693_77.jpg',\n '/home/hinux/Desktop/google_images/sub_dataset_9/strtV_image_351229_48.jpg',\n '/home/hinux/Desktop/google_images/sub_dataset_9/strtV_image_351399_75.jpg',\n '/home/hinux/Desktop/google_images/sub_dataset_9/strtV_image_351467_107.jpg',\n '/home/hinux/Desktop/google_images/sub_dataset_9/strtV_image_351539_254.jpg',\n '/home/hinux/Desktop/google_images/sub_dataset_9/strtV_image_351768_87.jpg',\n '/home/hinux/Desktop/google_images/sub_dataset_9/strtV_image_351777_58.jpg',\n '/home/hinux/Desktop/google_images/sub_dataset_9/strtV_image_352344_105.jpg',\n '/home/hinux/Desktop/google_images/sub_dataset_9/strtV_image_352473_168.jpg',\n '/home/hinux/Desktop/google_images/sub_dataset_9/strtV_image_352542_77.jpg',\n '/home/hinux/Desktop/google_images/sub_dataset_9/strtV_image_352692_64.jpg',\n '/home/hinux/Desktop/google_images/sub_dataset_9/strtV_image_352837_139.jpg',\n '/home/hinux/Desktop/google_images/sub_dataset_9/strtV_image_352938_259.jpg',\n '/home/hinux/Desktop/google_images/sub_dataset_9/strtV_image_353327_251.jpg',\n '/home/hinux/Desktop/google_images/sub_dataset_9/strtV_image_353435_187.jpg',\n '/home/hinux/Desktop/google_images/sub_dataset_9/strtV_image_353617_160.jpg',\n '/home/hinux/Desktop/google_images/sub_dataset_9/strtV_image_353817_257.jpg',\n '/home/hinux/Desktop/google_images/sub_dataset_9/strtV_image_353830_242.jpg',\n '/home/hinux/Desktop/google_images/sub_dataset_9/strtV_image_353830_62.jpg',\n '/home/hinux/Desktop/google_images/sub_dataset_9/strtV_image_354054_6.jpg',\n '/home/hinux/Desktop/google_images/sub_dataset_9/strtV_image_354322_26.jpg',\n '/home/hinux/Desktop/google_images/sub_dataset_9/strtV_image_354322_26.jpg',\n '/home/hinux/Desktop/google_images/sub_dataset_9/strtV_image_354480_24.jpg',\n '/home/hinux/Desktop/google_images/sub_dataset_9/strtV_image_354632_84.jpg',\n '/home/hinux/Desktop/google_images/sub_dataset_9/strtV_image_355015_166.jpg',\n '/home/hinux/Desktop/google_images/sub_dataset_9/strtV_image_355106_16.jpg',\n '/home/hinux/Desktop/google_images/sub_dataset_9/strtV_image_355110_59.jpg',\n '/home/hinux/Desktop/google_images/sub_dataset_9/strtV_image_355239_242.jpg',\n '/home/hinux/Desktop/google_images/sub_dataset_9/strtV_image_355309_255.jpg',\n '/home/hinux/Desktop/google_images/sub_dataset_9/strtV_image_355412_1.jpg',\n '/home/hinux/Desktop/google_images/sub_dataset_9/strtV_image_355515_20.jpg',\n '/home/hinux/Desktop/google_images/sub_dataset_9/strtV_image_355662_154.jpg',\n '/home/hinux/Desktop/google_images/sub_dataset_9/strtV_image_355898_21.jpg',\n '/home/hinux/Desktop/google_images/sub_dataset_9/strtV_image_355992_161.jpg',\n '/home/hinux/Desktop/google_images/sub_dataset_9/strtV_image_356312_113.jpg',\n '/home/hinux/Desktop/google_images/sub_dataset_9/strtV_image_356321_92.jpg',\n '/home/hinux/Desktop/google_images/sub_dataset_9/strtV_image_356409_199.jpg',\n '/home/hinux/Desktop/google_images/sub_dataset_9/strtV_image_356830_8.jpg',\n '/home/hinux/Desktop/google_images/sub_dataset_9/strtV_image_356838_80.jpg',\n '/home/hinux/Desktop/google_images/sub_dataset_9/strtV_image_356898_112.jpg',\n '/home/hinux/Desktop/google_images/sub_dataset_9/strtV_image_357067_1.jpg',\n '/home/hinux/Desktop/google_images/sub_dataset_9/strtV_image_357544_13.jpg',\n '/home/hinux/Desktop/google_images/sub_dataset_9/strtV_image_357544_193.jpg',\n '/home/hinux/Desktop/google_images/sub_dataset_9/strtV_image_357589_18.jpg',\n '/home/hinux/Desktop/google_images/sub_dataset_9/strtV_image_357625_71.jpg',\n '/home/hinux/Desktop/google_images/sub_dataset_9/strtV_image_357656_1.jpg',\n '/home/hinux/Desktop/google_images/sub_dataset_9/strtV_image_357923_50.jpg',\n '/home/hinux/Desktop/google_images/sub_dataset_9/strtV_image_357965_175.jpg',\n '/home/hinux/Desktop/google_images/sub_dataset_9/strtV_image_358242_257.jpg',\n '/home/hinux/Desktop/google_images/sub_dataset_9/strtV_image_358489_64.jpg',\n '/home/hinux/Desktop/google_images/sub_dataset_9/strtV_image_358642_249.jpg',\n '/home/hinux/Desktop/google_images/sub_dataset_9/strtV_image_359123_97.jpg',\n '/home/hinux/Desktop/google_images/sub_dataset_9/strtV_image_359150_5.jpg',\n '/home/hinux/Desktop/google_images/sub_dataset_9/strtV_image_359493_205.jpg',\n '/home/hinux/Desktop/google_images/sub_dataset_9/strtV_image_359519_232.jpg',\n '/home/hinux/Desktop/google_images/sub_dataset_9/strtV_image_359924_170.jpg',\n '/home/hinux/Desktop/google_images/sub_dataset_9/strtV_image_359936_166.jpg',\n '/home/hinux/Desktop/google_images/sub_dataset_9/strtV_image_360289_178.jpg',\n '/home/hinux/Desktop/google_images/sub_dataset_9/strtV_image_360324_269.jpg',\n '/home/hinux/Desktop/google_images/sub_dataset_9/strtV_image_360758_79.jpg',\n '/home/hinux/Desktop/google_images/sub_dataset_9/strtV_image_360763_114.jpg',\n '/home/hinux/Desktop/google_images/sub_dataset_9/strtV_image_361254_61.jpg',\n '/home/hinux/Desktop/google_images/sub_dataset_9/strtV_image_361380_79.jpg',\n '/home/hinux/Desktop/google_images/sub_dataset_9/strtV_image_361410_217.jpg',\n '/home/hinux/Desktop/google_images/sub_dataset_9/strtV_image_361444_7.jpg',\n '/home/hinux/Desktop/google_images/sub_dataset_9/strtV_image_361638_248.jpg',\n '/home/hinux/Desktop/google_images/sub_dataset_9/strtV_image_361638_68.jpg',\n '/home/hinux/Desktop/google_images/sub_dataset_9/strtV_image_361788_48.jpg',\n '/home/hinux/Desktop/google_images/sub_dataset_9/strtV_image_361810_12.jpg',\n '/home/hinux/Desktop/google_images/sub_dataset_9/strtV_image_361994_8.jpg',\n '/home/hinux/Desktop/google_images/sub_dataset_9/strtV_image_362248_43.jpg',\n '/home/hinux/Desktop/google_images/sub_dataset_9/strtV_image_362254_268.jpg',\n '/home/hinux/Desktop/google_images/sub_dataset_9/strtV_image_362372_191.jpg',\n '/home/hinux/Desktop/google_images/sub_dataset_9/strtV_image_362419_100.jpg',\n '/home/hinux/Desktop/google_images/sub_dataset_9/strtV_image_362632_19.jpg',\n '/home/hinux/Desktop/google_images/sub_dataset_9/strtV_image_362683_101.jpg',\n '/home/hinux/Desktop/google_images/sub_dataset_9/strtV_image_362731_188.jpg',\n '/home/hinux/Desktop/google_images/sub_dataset_9/strtV_image_362786_21.jpg',\n '/home/hinux/Desktop/google_images/sub_dataset_9/strtV_image_362986_116.jpg',\n '/home/hinux/Desktop/google_images/sub_dataset_9/strtV_image_363342_12.jpg',\n '/home/hinux/Desktop/google_images/sub_dataset_9/strtV_image_363437_19.jpg',\n '/home/hinux/Desktop/google_images/sub_dataset_9/strtV_image_363437_19.jpg',\n '/home/hinux/Desktop/google_images/sub_dataset_9/strtV_image_363811_61.jpg',\n '/home/hinux/Desktop/google_images/sub_dataset_9/strtV_image_363973_36.jpg',\n '/home/hinux/Desktop/google_images/sub_dataset_9/strtV_image_364191_51.jpg',\n '/home/hinux/Desktop/google_images/sub_dataset_9/strtV_image_364496_21.jpg',\n '/home/hinux/Desktop/google_images/sub_dataset_9/strtV_image_365412_116.jpg',\n '/home/hinux/Desktop/google_images/sub_dataset_9/strtV_image_365434_196.jpg',\n '/home/hinux/Desktop/google_images/sub_dataset_9/strtV_image_365621_222.jpg',\n '/home/hinux/Desktop/google_images/sub_dataset_9/strtV_image_365697_120.jpg',\n '/home/hinux/Desktop/google_images/sub_dataset_9/strtV_image_366042_84.jpg',\n '/home/hinux/Desktop/google_images/sub_dataset_9/strtV_image_366210_55.jpg',\n '/home/hinux/Desktop/google_images/sub_dataset_9/strtV_image_366418_44.jpg',\n '/home/hinux/Desktop/google_images/sub_dataset_9/strtV_image_366826_71.jpg',\n '/home/hinux/Desktop/google_images/sub_dataset_9/strtV_image_366891_45.jpg',\n '/home/hinux/Desktop/google_images/sub_dataset_9/strtV_image_366923_45.jpg',\n '/home/hinux/Desktop/google_images/sub_dataset_9/strtV_image_366950_211.jpg',\n '/home/hinux/Desktop/google_images/sub_dataset_9/strtV_image_366964_152.jpg',\n '/home/hinux/Desktop/google_images/sub_dataset_9/strtV_image_367049_81.jpg',\n '/home/hinux/Desktop/google_images/sub_dataset_9/strtV_image_367138_119.jpg',\n '/home/hinux/Desktop/google_images/sub_dataset_9/strtV_image_367144_252.jpg',\n '/home/hinux/Desktop/google_images/sub_dataset_9/strtV_image_367590_18.jpg',\n '/home/hinux/Desktop/google_images/sub_dataset_9/strtV_image_367607_257.jpg',\n '/home/hinux/Desktop/google_images/sub_dataset_9/strtV_image_367613_167.jpg',\n '/home/hinux/Desktop/google_images/sub_dataset_9/strtV_image_367729_177.jpg',\n '/home/hinux/Desktop/google_images/sub_dataset_9/strtV_image_367730_19.jpg',\n '/home/hinux/Desktop/google_images/sub_dataset_9/strtV_image_367755_89.jpg',\n '/home/hinux/Desktop/google_images/sub_dataset_9/strtV_image_367996_45.jpg',\n '/home/hinux/Desktop/google_images/sub_dataset_9/strtV_image_368317_1.jpg',\n '/home/hinux/Desktop/google_images/sub_dataset_9/strtV_image_368597_77.jpg',\n '/home/hinux/Desktop/google_images/sub_dataset_9/strtV_image_368649_120.jpg',\n '/home/hinux/Desktop/google_images/sub_dataset_9/strtV_image_368815_29.jpg',\n '/home/hinux/Desktop/google_images/sub_dataset_9/strtV_image_368845_103.jpg',\n '/home/hinux/Desktop/google_images/sub_dataset_9/strtV_image_368977_217.jpg',\n '/home/hinux/Desktop/google_images/sub_dataset_9/strtV_image_369030_80.jpg',\n '/home/hinux/Desktop/google_images/sub_dataset_9/strtV_image_369337_72.jpg',\n '/home/hinux/Desktop/google_images/sub_dataset_9/strtV_image_369355_268.jpg',\n '/home/hinux/Desktop/google_images/sub_dataset_9/strtV_image_369387_140.jpg',\n '/home/hinux/Desktop/google_images/sub_dataset_9/strtV_image_369431_237.jpg',\n '/home/hinux/Desktop/google_images/sub_dataset_9/strtV_image_369820_246.jpg',\n '/home/hinux/Desktop/google_images/sub_dataset_9/strtV_image_369960_219.jpg',\n '/home/hinux/Desktop/google_images/sub_dataset_9/strtV_image_370198_188.jpg',\n '/home/hinux/Desktop/google_images/sub_dataset_9/strtV_image_370460_191.jpg',\n '/home/hinux/Desktop/google_images/sub_dataset_9/strtV_image_370500_90.jpg',\n '/home/hinux/Desktop/google_images/sub_dataset_9/strtV_image_370694_38.jpg',\n '/home/hinux/Desktop/google_images/sub_dataset_9/strtV_image_370929_0.jpg',\n '/home/hinux/Desktop/google_images/sub_dataset_9/strtV_image_371525_73.jpg',\n '/home/hinux/Desktop/google_images/sub_dataset_9/strtV_image_371633_41.jpg',\n '/home/hinux/Desktop/google_images/sub_dataset_9/strtV_image_371817_71.jpg',\n '/home/hinux/Desktop/google_images/sub_dataset_9/strtV_image_371953_94.jpg',\n '/home/hinux/Desktop/google_images/sub_dataset_9/strtV_image_371990_225.jpg',\n '/home/hinux/Desktop/google_images/sub_dataset_9/strtV_image_371990_45.jpg',\n '/home/hinux/Desktop/google_images/sub_dataset_9/strtV_image_372100_61.jpg',\n '/home/hinux/Desktop/google_images/sub_dataset_9/strtV_image_372107_184.jpg',\n '/home/hinux/Desktop/google_images/sub_dataset_9/strtV_image_372203_68.jpg',\n '/home/hinux/Desktop/google_images/sub_dataset_9/strtV_image_372324_105.jpg',\n '/home/hinux/Desktop/google_images/sub_dataset_9/strtV_image_372487_49.jpg',\n '/home/hinux/Desktop/google_images/sub_dataset_9/strtV_image_372619_10.jpg',\n '/home/hinux/Desktop/google_images/sub_dataset_9/strtV_image_372632_250.jpg',\n '/home/hinux/Desktop/google_images/sub_dataset_9/strtV_image_372769_214.jpg',\n '/home/hinux/Desktop/google_images/sub_dataset_9/strtV_image_373010_67.jpg',\n '/home/hinux/Desktop/google_images/sub_dataset_9/strtV_image_373295_99.jpg',\n '/home/hinux/Desktop/google_images/sub_dataset_9/strtV_image_373616_126.jpg',\n '/home/hinux/Desktop/google_images/sub_dataset_9/strtV_image_373682_39.jpg',\n '/home/hinux/Desktop/google_images/sub_dataset_9/strtV_image_373803_1.jpg',\n '/home/hinux/Desktop/google_images/sub_dataset_9/strtV_image_373917_89.jpg',\n '/home/hinux/Desktop/google_images/sub_dataset_9/strtV_image_374517_102.jpg',\n '/home/hinux/Desktop/google_images/sub_dataset_9/strtV_image_374953_44.jpg',\n '/home/hinux/Desktop/google_images/sub_dataset_9/strtV_image_375148_24.jpg',\n '/home/hinux/Desktop/google_images/sub_dataset_9/strtV_image_375436_79.jpg',\n '/home/hinux/Desktop/google_images/sub_dataset_9/strtV_image_375946_196.jpg',\n '/home/hinux/Desktop/google_images/sub_dataset_9/strtV_image_375963_4.jpg',\n '/home/hinux/Desktop/google_images/sub_dataset_9/strtV_image_376164_116.jpg',\n '/home/hinux/Desktop/google_images/sub_dataset_9/strtV_image_376310_80.jpg',\n '/home/hinux/Desktop/google_images/sub_dataset_9/strtV_image_376415_65.jpg',\n '/home/hinux/Desktop/google_images/sub_dataset_9/strtV_image_376988_182.jpg',\n '/home/hinux/Desktop/google_images/sub_dataset_9/strtV_image_377062_245.jpg',\n '/home/hinux/Desktop/google_images/sub_dataset_9/strtV_image_377314_220.jpg',\n '/home/hinux/Desktop/google_images/sub_dataset_9/strtV_image_377387_81.jpg',\n '/home/hinux/Desktop/google_images/sub_dataset_9/strtV_image_377520_242.jpg',\n '/home/hinux/Desktop/google_images/sub_dataset_9/strtV_image_377735_78.jpg',\n '/home/hinux/Desktop/google_images/sub_dataset_9/strtV_image_377949_204.jpg',\n '/home/hinux/Desktop/google_images/sub_dataset_9/strtV_image_378251_204.jpg',\n '/home/hinux/Desktop/google_images/sub_dataset_9/strtV_image_378308_263.jpg',\n '/home/hinux/Desktop/google_images/sub_dataset_9/strtV_image_378449_67.jpg',\n '/home/hinux/Desktop/google_images/sub_dataset_9/strtV_image_378754_244.jpg',\n '/home/hinux/Desktop/google_images/sub_dataset_9/strtV_image_378758_43.jpg',\n '/home/hinux/Desktop/google_images/sub_dataset_9/strtV_image_378774_45.jpg',\n '/home/hinux/Desktop/google_images/sub_dataset_9/strtV_image_378774_45.jpg',\n '/home/hinux/Desktop/google_images/sub_dataset_9/strtV_image_378855_55.jpg',\n '/home/hinux/Desktop/google_images/sub_dataset_9/strtV_image_379061_167.jpg',\n '/home/hinux/Desktop/google_images/sub_dataset_9/strtV_image_379326_226.jpg',\n '/home/hinux/Desktop/google_images/sub_dataset_9/strtV_image_379449_145.jpg',\n '/home/hinux/Desktop/google_images/sub_dataset_9/strtV_image_379898_69.jpg',\n '/home/hinux/Desktop/google_images/sub_dataset_9/strtV_image_380277_42.jpg',\n '/home/hinux/Desktop/google_images/sub_dataset_9/strtV_image_380388_58.jpg',\n '/home/hinux/Desktop/google_images/sub_dataset_9/strtV_image_380389_4.jpg',\n '/home/hinux/Desktop/google_images/sub_dataset_9/strtV_image_380598_77.jpg',\n '/home/hinux/Desktop/google_images/sub_dataset_9/strtV_image_380888_1.jpg',\n '/home/hinux/Desktop/google_images/sub_dataset_9/strtV_image_381471_81.jpg',\n '/home/hinux/Desktop/google_images/sub_dataset_9/strtV_image_381558_95.jpg',\n '/home/hinux/Desktop/google_images/sub_dataset_9/strtV_image_381704_80.jpg',\n '/home/hinux/Desktop/google_images/sub_dataset_9/strtV_image_381732_32.jpg',\n '/home/hinux/Desktop/google_images/sub_dataset_9/strtV_image_382386_263.jpg',\n '/home/hinux/Desktop/google_images/sub_dataset_9/strtV_image_382728_96.jpg',\n '/home/hinux/Desktop/google_images/sub_dataset_9/strtV_image_383097_19.jpg',\n '/home/hinux/Desktop/google_images/sub_dataset_9/strtV_image_383161_115.jpg',\n '/home/hinux/Desktop/google_images/sub_dataset_9/strtV_image_383505_212.jpg',\n '/home/hinux/Desktop/google_images/sub_dataset_9/strtV_image_384233_7.jpg',\n '/home/hinux/Desktop/google_images/sub_dataset_9/strtV_image_384699_26.jpg',\n '/home/hinux/Desktop/google_images/sub_dataset_9/strtV_image_384824_223.jpg',\n '/home/hinux/Desktop/google_images/sub_dataset_9/strtV_image_384855_1.jpg',\n '/home/hinux/Desktop/google_images/sub_dataset_9/strtV_image_385004_168.jpg',\n '/home/hinux/Desktop/google_images/sub_dataset_9/strtV_image_385064_264.jpg',\n '/home/hinux/Desktop/google_images/sub_dataset_9/strtV_image_385237_72.jpg',\n '/home/hinux/Desktop/google_images/sub_dataset_9/strtV_image_385425_100.jpg',\n '/home/hinux/Desktop/google_images/sub_dataset_9/strtV_image_385489_185.jpg',\n '/home/hinux/Desktop/google_images/sub_dataset_9/strtV_image_385847_256.jpg',\n '/home/hinux/Desktop/google_images/sub_dataset_9/strtV_image_385855_64.jpg',\n '/home/hinux/Desktop/google_images/sub_dataset_9/strtV_image_385953_85.jpg',\n '/home/hinux/Desktop/google_images/sub_dataset_9/strtV_image_386135_212.jpg',\n '/home/hinux/Desktop/google_images/sub_dataset_9/strtV_image_386452_206.jpg',\n '/home/hinux/Desktop/google_images/sub_dataset_9/strtV_image_386452_26.jpg',\n '/home/hinux/Desktop/google_images/sub_dataset_9/strtV_image_386452_26.jpg',\n '/home/hinux/Desktop/google_images/sub_dataset_9/strtV_image_386532_88.jpg',\n '/home/hinux/Desktop/google_images/sub_dataset_9/strtV_image_387256_73.jpg',\n '/home/hinux/Desktop/google_images/sub_dataset_9/strtV_image_387395_164.jpg',\n '/home/hinux/Desktop/google_images/sub_dataset_9/strtV_image_387903_77.jpg',\n '/home/hinux/Desktop/google_images/sub_dataset_9/strtV_image_388160_214.jpg',\n '/home/hinux/Desktop/google_images/sub_dataset_9/strtV_image_388189_173.jpg',\n '/home/hinux/Desktop/google_images/sub_dataset_9/strtV_image_388225_27.jpg',\n '/home/hinux/Desktop/google_images/sub_dataset_9/strtV_image_388335_253.jpg',\n '/home/hinux/Desktop/google_images/sub_dataset_9/strtV_image_388418_225.jpg',\n '/home/hinux/Desktop/google_images/sub_dataset_9/strtV_image_388466_81.jpg',\n '/home/hinux/Desktop/google_images/sub_dataset_9/strtV_image_388568_26.jpg',\n '/home/hinux/Desktop/google_images/sub_dataset_9/strtV_image_388589_98.jpg',\n '/home/hinux/Desktop/google_images/sub_dataset_9/strtV_image_388906_16.jpg',\n '/home/hinux/Desktop/google_images/sub_dataset_9/strtV_image_388915_152.jpg',\n '/home/hinux/Desktop/google_images/sub_dataset_9/strtV_image_389289_67.jpg',\n '/home/hinux/Desktop/google_images/sub_dataset_9/strtV_image_389289_67.jpg',\n '/home/hinux/Desktop/google_images/sub_dataset_9/strtV_image_389289_67.jpg',\n '/home/hinux/Desktop/google_images/sub_dataset_9/strtV_image_389427_58.jpg',\n '/home/hinux/Desktop/google_images/sub_dataset_9/strtV_image_389497_157.jpg',\n '/home/hinux/Desktop/google_images/sub_dataset_9/strtV_image_389735_0.jpg',\n '/home/hinux/Desktop/google_images/sub_dataset_9/strtV_image_389779_69.jpg',\n '/home/hinux/Desktop/google_images/sub_dataset_9/strtV_image_390374_77.jpg',\n '/home/hinux/Desktop/google_images/sub_dataset_9/strtV_image_390474_41.jpg',\n '/home/hinux/Desktop/google_images/sub_dataset_9/strtV_image_390474_41.jpg',\n '/home/hinux/Desktop/google_images/sub_dataset_9/strtV_image_390952_3.jpg',\n '/home/hinux/Desktop/google_images/sub_dataset_9/strtV_image_391404_65.jpg',\n '/home/hinux/Desktop/google_images/sub_dataset_9/strtV_image_391516_109.jpg',\n '/home/hinux/Desktop/google_images/sub_dataset_9/strtV_image_391880_23.jpg',\n '/home/hinux/Desktop/google_images/sub_dataset_9/strtV_image_392182_4.jpg',\n '/home/hinux/Desktop/google_images/sub_dataset_9/strtV_image_393352_164.jpg',\n '/home/hinux/Desktop/google_images/sub_dataset_9/strtV_image_393352_164.jpg',\n '/home/hinux/Desktop/google_images/sub_dataset_9/strtV_image_393373_158.jpg',\n '/home/hinux/Desktop/google_images/sub_dataset_9/strtV_image_394934_1.jpg',\n '/home/hinux/Desktop/google_images/sub_dataset_9/strtV_image_395094_19.jpg',\n '/home/hinux/Desktop/google_images/sub_dataset_9/strtV_image_395343_116.jpg',\n '/home/hinux/Desktop/google_images/sub_dataset_9/strtV_image_395672_102.jpg',\n '/home/hinux/Desktop/google_images/sub_dataset_9/strtV_image_395672_102.jpg',\n '/home/hinux/Desktop/google_images/sub_dataset_9/strtV_image_395672_102.jpg',\n '/home/hinux/Desktop/google_images/sub_dataset_9/strtV_image_395770_66.jpg',\n '/home/hinux/Desktop/google_images/sub_dataset_9/strtV_image_395883_171.jpg',\n '/home/hinux/Desktop/google_images/sub_dataset_9/strtV_image_396286_112.jpg',\n '/home/hinux/Desktop/google_images/sub_dataset_9/strtV_image_396520_75.jpg',\n '/home/hinux/Desktop/google_images/sub_dataset_9/strtV_image_396830_78.jpg',\n '/home/hinux/Desktop/google_images/sub_dataset_9/strtV_image_396863_247.jpg',\n '/home/hinux/Desktop/google_images/sub_dataset_9/strtV_image_397260_143.jpg',\n '/home/hinux/Desktop/google_images/sub_dataset_9/strtV_image_397283_269.jpg',\n '/home/hinux/Desktop/google_images/sub_dataset_9/strtV_image_397578_106.jpg',\n '/home/hinux/Desktop/google_images/sub_dataset_9/strtV_image_397662_165.jpg',\n '/home/hinux/Desktop/google_images/sub_dataset_9/strtV_image_398068_163.jpg',\n '/home/hinux/Desktop/google_images/sub_dataset_9/strtV_image_398353_75.jpg',\n '/home/hinux/Desktop/google_images/sub_dataset_9/strtV_image_398487_78.jpg',\n '/home/hinux/Desktop/google_images/sub_dataset_9/strtV_image_398563_69.jpg',\n '/home/hinux/Desktop/google_images/sub_dataset_9/strtV_image_398610_38.jpg',\n '/home/hinux/Desktop/google_images/sub_dataset_9/strtV_image_398676_238.jpg',\n '/home/hinux/Desktop/google_images/sub_dataset_9/strtV_image_398849_59.jpg',\n '/home/hinux/Desktop/google_images/sub_dataset_9/strtV_image_399229_104.jpg',\n '/home/hinux/Desktop/google_images/sub_dataset_9/strtV_image_399359_80.jpg',\n '/home/hinux/Desktop/google_images/sub_dataset_9/strtV_image_399557_118.jpg',\n '/home/hinux/Desktop/google_images/sub_dataset_9/strtV_image_400210_266.jpg',\n '/home/hinux/Desktop/google_images/sub_dataset_9/strtV_image_400325_52.jpg',\n '/home/hinux/Desktop/google_images/sub_dataset_9/strtV_image_400393_257.jpg',\n '/home/hinux/Desktop/google_images/sub_dataset_9/strtV_image_400393_257.jpg',\n '/home/hinux/Desktop/google_images/sub_dataset_9/strtV_image_400471_252.jpg',\n '/home/hinux/Desktop/google_images/sub_dataset_9/strtV_image_400560_55.jpg',\n '/home/hinux/Desktop/google_images/sub_dataset_9/strtV_image_400634_109.jpg',\n '/home/hinux/Desktop/google_images/sub_dataset_9/strtV_image_400991_84.jpg',\n '/home/hinux/Desktop/google_images/sub_dataset_9/strtV_image_401122_83.jpg',\n '/home/hinux/Desktop/google_images/sub_dataset_9/strtV_image_401243_88.jpg',\n '/home/hinux/Desktop/google_images/sub_dataset_9/strtV_image_401456_43.jpg',\n '/home/hinux/Desktop/google_images/sub_dataset_9/strtV_image_401716_156.jpg',\n '/home/hinux/Desktop/google_images/sub_dataset_9/strtV_image_401785_81.jpg',\n '/home/hinux/Desktop/google_images/sub_dataset_9/strtV_image_401787_9.jpg',\n '/home/hinux/Desktop/google_images/sub_dataset_9/strtV_image_402011_103.jpg',\n '/home/hinux/Desktop/google_images/sub_dataset_9/strtV_image_402121_145.jpg',\n '/home/hinux/Desktop/google_images/sub_dataset_9/strtV_image_402419_22.jpg',\n '/home/hinux/Desktop/google_images/sub_dataset_9/strtV_image_402721_21.jpg',\n '/home/hinux/Desktop/google_images/sub_dataset_9/strtV_image_402937_22.jpg',\n '/home/hinux/Desktop/google_images/sub_dataset_9/strtV_image_403204_129.jpg',\n '/home/hinux/Desktop/google_images/sub_dataset_9/strtV_image_403223_117.jpg',\n '/home/hinux/Desktop/google_images/sub_dataset_9/strtV_image_403277_253.jpg',\n '/home/hinux/Desktop/google_images/sub_dataset_9/strtV_image_403364_75.jpg',\n '/home/hinux/Desktop/google_images/sub_dataset_9/strtV_image_403637_84.jpg',\n '/home/hinux/Desktop/google_images/sub_dataset_9/strtV_image_403637_95.jpg',\n '/home/hinux/Desktop/google_images/sub_dataset_9/strtV_image_403977_215.jpg',\n '/home/hinux/Desktop/google_images/sub_dataset_9/strtV_image_403977_215.jpg',\n '/home/hinux/Desktop/google_images/sub_dataset_9/strtV_image_404041_184.jpg',\n '/home/hinux/Desktop/google_images/sub_dataset_9/strtV_image_404284_258.jpg',\n '/home/hinux/Desktop/google_images/sub_dataset_9/strtV_image_404632_157.jpg',\n '/home/hinux/Desktop/google_images/sub_dataset_9/strtV_image_404632_157.jpg',\n '/home/hinux/Desktop/google_images/sub_dataset_9/strtV_image_404678_171.jpg',\n '/home/hinux/Desktop/google_images/sub_dataset_9/strtV_image_404796_78.jpg',\n '/home/hinux/Desktop/google_images/sub_dataset_9/strtV_image_404980_168.jpg',\n '/home/hinux/Desktop/google_images/sub_dataset_9/strtV_image_405528_188.jpg',\n '/home/hinux/Desktop/google_images/sub_dataset_9/strtV_image_405551_0.jpg',\n '/home/hinux/Desktop/google_images/sub_dataset_9/strtV_image_405677_218.jpg',\n '/home/hinux/Desktop/google_images/sub_dataset_9/strtV_image_405681_35.jpg',\n '/home/hinux/Desktop/google_images/sub_dataset_9/strtV_image_405957_240.jpg',\n '/home/hinux/Desktop/google_images/sub_dataset_9/strtV_image_405957_60.jpg',\n '/home/hinux/Desktop/google_images/sub_dataset_9/strtV_image_406153_198.jpg',\n '/home/hinux/Desktop/google_images/sub_dataset_9/strtV_image_406277_50.jpg',\n '/home/hinux/Desktop/google_images/sub_dataset_9/strtV_image_406586_199.jpg',\n '/home/hinux/Desktop/google_images/sub_dataset_9/strtV_image_406591_0.jpg',\n '/home/hinux/Desktop/google_images/sub_dataset_9/strtV_image_406740_60.jpg',\n '/home/hinux/Desktop/google_images/sub_dataset_9/strtV_image_406794_76.jpg',\n '/home/hinux/Desktop/google_images/sub_dataset_9/strtV_image_407025_219.jpg',\n '/home/hinux/Desktop/google_images/sub_dataset_9/strtV_image_407326_253.jpg',\n '/home/hinux/Desktop/google_images/sub_dataset_9/strtV_image_407477_77.jpg',\n '/home/hinux/Desktop/google_images/sub_dataset_9/strtV_image_407484_73.jpg',\n '/home/hinux/Desktop/google_images/sub_dataset_9/strtV_image_407551_136.jpg',\n '/home/hinux/Desktop/google_images/sub_dataset_9/strtV_image_407713_32.jpg',\n '/home/hinux/Desktop/google_images/sub_dataset_9/strtV_image_407717_149.jpg',\n '/home/hinux/Desktop/google_images/sub_dataset_9/strtV_image_407808_0.jpg',\n '/home/hinux/Desktop/google_images/sub_dataset_9/strtV_image_408071_256.jpg',\n '/home/hinux/Desktop/google_images/sub_dataset_9/strtV_image_408319_63.jpg',\n '/home/hinux/Desktop/google_images/sub_dataset_9/strtV_image_408577_65.jpg',\n '/home/hinux/Desktop/google_images/sub_dataset_9/strtV_image_409223_0.jpg',\n '/home/hinux/Desktop/google_images/sub_dataset_9/strtV_image_409364_159.jpg',\n '/home/hinux/Desktop/google_images/sub_dataset_9/strtV_image_409364_20.jpg',\n '/home/hinux/Desktop/google_images/sub_dataset_9/strtV_image_409380_121.jpg',\n '/home/hinux/Desktop/google_images/sub_dataset_9/strtV_image_409522_93.jpg',\n '/home/hinux/Desktop/google_images/sub_dataset_9/strtV_image_409637_251.jpg',\n '/home/hinux/Desktop/google_images/sub_dataset_9/strtV_image_409740_101.jpg',\n '/home/hinux/Desktop/google_images/sub_dataset_9/strtV_image_409803_71.jpg',\n '/home/hinux/Desktop/google_images/sub_dataset_9/strtV_image_410057_92.jpg',\n '/home/hinux/Desktop/google_images/sub_dataset_9/strtV_image_410157_170.jpg',\n '/home/hinux/Desktop/google_images/sub_dataset_9/strtV_image_410268_6.jpg',\n '/home/hinux/Desktop/google_images/sub_dataset_9/strtV_image_410272_198.jpg',\n '/home/hinux/Desktop/google_images/sub_dataset_9/strtV_image_410389_39.jpg',\n '/home/hinux/Desktop/google_images/sub_dataset_9/strtV_image_410413_19.jpg',\n '/home/hinux/Desktop/google_images/sub_dataset_9/strtV_image_411081_268.jpg',\n '/home/hinux/Desktop/google_images/sub_dataset_9/strtV_image_411213_188.jpg',\n '/home/hinux/Desktop/google_images/sub_dataset_9/strtV_image_411370_30.jpg',\n '/home/hinux/Desktop/google_images/sub_dataset_9/strtV_image_411684_0.jpg',\n '/home/hinux/Desktop/google_images/sub_dataset_9/strtV_image_411773_117.jpg',\n '/home/hinux/Desktop/google_images/sub_dataset_9/strtV_image_411800_93.jpg',\n '/home/hinux/Desktop/google_images/sub_dataset_9/strtV_image_412122_236.jpg',\n '/home/hinux/Desktop/google_images/sub_dataset_9/strtV_image_412347_105.jpg',\n '/home/hinux/Desktop/google_images/sub_dataset_9/strtV_image_412475_62.jpg',\n '/home/hinux/Desktop/google_images/sub_dataset_9/strtV_image_412497_60.jpg',\n '/home/hinux/Desktop/google_images/sub_dataset_9/strtV_image_412793_35.jpg',\n '/home/hinux/Desktop/google_images/sub_dataset_9/strtV_image_412847_61.jpg',\n '/home/hinux/Desktop/google_images/sub_dataset_9/strtV_image_413301_155.jpg',\n '/home/hinux/Desktop/google_images/sub_dataset_9/strtV_image_413536_95.jpg',\n '/home/hinux/Desktop/google_images/sub_dataset_9/strtV_image_413567_256.jpg',\n '/home/hinux/Desktop/google_images/sub_dataset_9/strtV_image_413609_103.jpg',\n '/home/hinux/Desktop/google_images/sub_dataset_9/strtV_image_414989_73.jpg',\n '/home/hinux/Desktop/google_images/sub_dataset_9/strtV_image_415006_6.jpg',\n '/home/hinux/Desktop/google_images/sub_dataset_9/strtV_image_415835_148.jpg',\n '/home/hinux/Desktop/google_images/sub_dataset_9/strtV_image_415938_204.jpg',\n '/home/hinux/Desktop/google_images/sub_dataset_9/strtV_image_416490_35.jpg',\n '/home/hinux/Desktop/google_images/sub_dataset_9/strtV_image_416721_264.jpg',\n '/home/hinux/Desktop/google_images/sub_dataset_9/strtV_image_417330_82.jpg',\n '/home/hinux/Desktop/google_images/sub_dataset_9/strtV_image_417653_57.jpg',\n '/home/hinux/Desktop/google_images/sub_dataset_9/strtV_image_417724_43.jpg',\n '/home/hinux/Desktop/google_images/sub_dataset_9/strtV_image_417805_178.jpg',\n '/home/hinux/Desktop/google_images/sub_dataset_9/strtV_image_418955_204.jpg',\n '/home/hinux/Desktop/google_images/sub_dataset_9/strtV_image_419069_255.jpg',\n '/home/hinux/Desktop/google_images/sub_dataset_9/strtV_image_419238_239.jpg',\n '/home/hinux/Desktop/google_images/sub_dataset_9/strtV_image_419606_144.jpg',\n '/home/hinux/Desktop/google_images/sub_dataset_9/strtV_image_419715_34.jpg',\n '/home/hinux/Desktop/google_images/sub_dataset_9/strtV_image_419857_79.jpg',\n '/home/hinux/Desktop/google_images/sub_dataset_9/strtV_image_419862_198.jpg',\n '/home/hinux/Desktop/google_images/sub_dataset_9/strtV_image_420367_59.jpg',\n '/home/hinux/Desktop/google_images/sub_dataset_9/strtV_image_420531_203.jpg',\n '/home/hinux/Desktop/google_images/sub_dataset_9/strtV_image_421129_9.jpg',\n '/home/hinux/Desktop/google_images/sub_dataset_9/strtV_image_421164_200.jpg',\n '/home/hinux/Desktop/google_images/sub_dataset_9/strtV_image_421964_26.jpg',\n '/home/hinux/Desktop/google_images/sub_dataset_9/strtV_image_422265_157.jpg',\n '/home/hinux/Desktop/google_images/sub_dataset_9/strtV_image_422589_94.jpg',\n '/home/hinux/Desktop/google_images/sub_dataset_9/strtV_image_422589_94.jpg',\n '/home/hinux/Desktop/google_images/sub_dataset_9/strtV_image_422671_12.jpg',\n '/home/hinux/Desktop/google_images/sub_dataset_9/strtV_image_422692_147.jpg',\n '/home/hinux/Desktop/google_images/sub_dataset_9/strtV_image_422693_171.jpg',\n '/home/hinux/Desktop/google_images/sub_dataset_9/strtV_image_422899_257.jpg',\n '/home/hinux/Desktop/google_images/sub_dataset_9/strtV_image_423068_83.jpg',\n '/home/hinux/Desktop/google_images/sub_dataset_9/strtV_image_423491_28.jpg',\n '/home/hinux/Desktop/google_images/sub_dataset_9/strtV_image_423622_90.jpg',\n '/home/hinux/Desktop/google_images/sub_dataset_9/strtV_image_423720_210.jpg',\n '/home/hinux/Desktop/google_images/sub_dataset_9/strtV_image_423964_61.jpg',\n '/home/hinux/Desktop/google_images/sub_dataset_9/strtV_image_424180_161.jpg',\n '/home/hinux/Desktop/google_images/sub_dataset_9/strtV_image_424421_102.jpg',\n '/home/hinux/Desktop/google_images/sub_dataset_9/strtV_image_424700_118.jpg',\n '/home/hinux/Desktop/google_images/sub_dataset_9/strtV_image_424744_268.jpg',\n '/home/hinux/Desktop/google_images/sub_dataset_9/strtV_image_424890_70.jpg',\n '/home/hinux/Desktop/google_images/sub_dataset_9/strtV_image_426000_122.jpg',\n '/home/hinux/Desktop/google_images/sub_dataset_9/strtV_image_426245_78.jpg',\n '/home/hinux/Desktop/google_images/sub_dataset_9/strtV_image_426355_209.jpg',\n '/home/hinux/Desktop/google_images/sub_dataset_9/strtV_image_426485_269.jpg',\n '/home/hinux/Desktop/google_images/sub_dataset_9/strtV_image_426631_4.jpg',\n '/home/hinux/Desktop/google_images/sub_dataset_9/strtV_image_426651_21.jpg',\n '/home/hinux/Desktop/google_images/sub_dataset_9/strtV_image_426781_240.jpg',\n '/home/hinux/Desktop/google_images/sub_dataset_9/strtV_image_427245_244.jpg',\n '/home/hinux/Desktop/google_images/sub_dataset_9/strtV_image_427542_80.jpg',\n '/home/hinux/Desktop/google_images/sub_dataset_9/strtV_image_427812_38.jpg',\n '/home/hinux/Desktop/google_images/sub_dataset_9/strtV_image_427829_146.jpg',\n '/home/hinux/Desktop/google_images/sub_dataset_9/strtV_image_427921_50.jpg',\n '/home/hinux/Desktop/google_images/sub_dataset_9/strtV_image_428260_56.jpg',\n '/home/hinux/Desktop/google_images/sub_dataset_9/strtV_image_428378_36.jpg',\n '/home/hinux/Desktop/google_images/sub_dataset_9/strtV_image_428378_36.jpg',\n '/home/hinux/Desktop/google_images/sub_dataset_9/strtV_image_428464_15.jpg',\n '/home/hinux/Desktop/google_images/sub_dataset_9/strtV_image_428539_24.jpg',\n '/home/hinux/Desktop/google_images/sub_dataset_9/strtV_image_428579_61.jpg',\n '/home/hinux/Desktop/google_images/sub_dataset_9/strtV_image_428579_61.jpg',\n '/home/hinux/Desktop/google_images/sub_dataset_9/strtV_image_428664_220.jpg',\n '/home/hinux/Desktop/google_images/sub_dataset_9/strtV_image_428664_40.jpg',\n '/home/hinux/Desktop/google_images/sub_dataset_9/strtV_image_429089_258.jpg',\n '/home/hinux/Desktop/google_images/sub_dataset_9/strtV_image_429626_158.jpg',\n '/home/hinux/Desktop/google_images/sub_dataset_9/strtV_image_430675_36.jpg',\n '/home/hinux/Desktop/google_images/sub_dataset_9/strtV_image_430675_36.jpg',\n '/home/hinux/Desktop/google_images/sub_dataset_9/strtV_image_430710_70.jpg',\n '/home/hinux/Desktop/google_images/sub_dataset_9/strtV_image_430896_12.jpg',\n '/home/hinux/Desktop/google_images/sub_dataset_9/strtV_image_431109_16.jpg',\n '/home/hinux/Desktop/google_images/sub_dataset_9/strtV_image_431109_16.jpg',\n '/home/hinux/Desktop/google_images/sub_dataset_9/strtV_image_431508_105.jpg',\n '/home/hinux/Desktop/google_images/sub_dataset_9/strtV_image_431594_188.jpg',\n '/home/hinux/Desktop/google_images/sub_dataset_9/strtV_image_431775_45.jpg',\n '/home/hinux/Desktop/google_images/sub_dataset_9/strtV_image_432350_180.jpg',\n '/home/hinux/Desktop/google_images/sub_dataset_9/strtV_image_432724_250.jpg',\n '/home/hinux/Desktop/google_images/sub_dataset_9/strtV_image_432724_250.jpg',\n '/home/hinux/Desktop/google_images/sub_dataset_9/strtV_image_432924_250.jpg',\n '/home/hinux/Desktop/google_images/sub_dataset_9/strtV_image_433237_192.jpg',\n '/home/hinux/Desktop/google_images/sub_dataset_9/strtV_image_433249_179.jpg',\n '/home/hinux/Desktop/google_images/sub_dataset_9/strtV_image_433829_237.jpg',\n '/home/hinux/Desktop/google_images/sub_dataset_9/strtV_image_433829_57.jpg',\n '/home/hinux/Desktop/google_images/sub_dataset_9/strtV_image_433829_57.jpg',\n '/home/hinux/Desktop/google_images/sub_dataset_9/strtV_image_433864_172.jpg',\n '/home/hinux/Desktop/google_images/sub_dataset_9/strtV_image_433903_102.jpg',\n '/home/hinux/Desktop/google_images/sub_dataset_9/strtV_image_434692_103.jpg',\n '/home/hinux/Desktop/google_images/sub_dataset_9/strtV_image_434723_199.jpg',\n '/home/hinux/Desktop/google_images/sub_dataset_9/strtV_image_435016_0.jpg',\n '/home/hinux/Desktop/google_images/sub_dataset_9/strtV_image_435067_41.jpg',\n '/home/hinux/Desktop/google_images/sub_dataset_9/strtV_image_435097_22.jpg',\n '/home/hinux/Desktop/google_images/sub_dataset_9/strtV_image_435407_132.jpg',\n '/home/hinux/Desktop/google_images/sub_dataset_9/strtV_image_435626_56.jpg',\n '/home/hinux/Desktop/google_images/sub_dataset_9/strtV_image_436038_259.jpg',\n '/home/hinux/Desktop/google_images/sub_dataset_9/strtV_image_436039_29.jpg',\n '/home/hinux/Desktop/google_images/sub_dataset_9/strtV_image_436198_13.jpg',\n '/home/hinux/Desktop/google_images/sub_dataset_9/strtV_image_436203_66.jpg',\n '/home/hinux/Desktop/google_images/sub_dataset_9/strtV_image_436239_115.jpg',\n '/home/hinux/Desktop/google_images/sub_dataset_9/strtV_image_436508_204.jpg',\n '/home/hinux/Desktop/google_images/sub_dataset_9/strtV_image_436747_242.jpg',\n '/home/hinux/Desktop/google_images/sub_dataset_9/strtV_image_436747_62.jpg',\n '/home/hinux/Desktop/google_images/sub_dataset_9/strtV_image_436783_266.jpg',\n '/home/hinux/Desktop/google_images/sub_dataset_9/strtV_image_437314_131.jpg',\n '/home/hinux/Desktop/google_images/sub_dataset_9/strtV_image_437545_265.jpg',\n '/home/hinux/Desktop/google_images/sub_dataset_9/strtV_image_437871_242.jpg',\n '/home/hinux/Desktop/google_images/sub_dataset_9/strtV_image_438149_72.jpg',\n '/home/hinux/Desktop/google_images/sub_dataset_9/strtV_image_438368_84.jpg',\n '/home/hinux/Desktop/google_images/sub_dataset_9/strtV_image_438858_57.jpg',\n '/home/hinux/Desktop/google_images/sub_dataset_9/strtV_image_439127_184.jpg',\n '/home/hinux/Desktop/google_images/sub_dataset_9/strtV_image_439127_4.jpg',\n '/home/hinux/Desktop/google_images/sub_dataset_9/strtV_image_439725_40.jpg',\n '/home/hinux/Desktop/google_images/sub_dataset_9/strtV_image_440207_63.jpg',\n '/home/hinux/Desktop/google_images/sub_dataset_9/strtV_image_440461_52.jpg',\n '/home/hinux/Desktop/google_images/sub_dataset_9/strtV_image_440505_22.jpg',\n '/home/hinux/Desktop/google_images/sub_dataset_9/strtV_image_440633_108.jpg',\n '/home/hinux/Desktop/google_images/sub_dataset_9/strtV_image_440807_38.jpg',\n '/home/hinux/Desktop/google_images/sub_dataset_9/strtV_image_441060_49.jpg',\n '/home/hinux/Desktop/google_images/sub_dataset_9/strtV_image_441306_79.jpg',\n '/home/hinux/Desktop/google_images/sub_dataset_9/strtV_image_441306_79.jpg',\n '/home/hinux/Desktop/google_images/sub_dataset_9/strtV_image_441396_114.jpg',\n '/home/hinux/Desktop/google_images/sub_dataset_9/strtV_image_441411_3.jpg',\n '/home/hinux/Desktop/google_images/sub_dataset_9/strtV_image_441544_211.jpg',\n '/home/hinux/Desktop/google_images/sub_dataset_9/strtV_image_441933_219.jpg',\n '/home/hinux/Desktop/google_images/sub_dataset_9/strtV_image_442262_27.jpg',\n '/home/hinux/Desktop/google_images/sub_dataset_9/strtV_image_442307_257.jpg',\n '/home/hinux/Desktop/google_images/sub_dataset_9/strtV_image_442459_254.jpg',\n '/home/hinux/Desktop/google_images/sub_dataset_9/strtV_image_443047_87.jpg',\n '/home/hinux/Desktop/google_images/sub_dataset_9/strtV_image_443047_92.jpg',\n '/home/hinux/Desktop/google_images/sub_dataset_9/strtV_image_443371_160.jpg',\n '/home/hinux/Desktop/google_images/sub_dataset_9/strtV_image_443493_112.jpg',\n '/home/hinux/Desktop/google_images/sub_dataset_9/strtV_image_443963_49.jpg',\n '/home/hinux/Desktop/google_images/sub_dataset_9/strtV_image_444407_95.jpg',\n '/home/hinux/Desktop/google_images/sub_dataset_9/strtV_image_444733_229.jpg',\n '/home/hinux/Desktop/google_images/sub_dataset_9/strtV_image_445069_129.jpg',\n '/home/hinux/Desktop/google_images/sub_dataset_9/strtV_image_445836_182.jpg',\n '/home/hinux/Desktop/google_images/sub_dataset_9/strtV_image_445836_2.jpg',\n '/home/hinux/Desktop/google_images/sub_dataset_9/strtV_image_445861_71.jpg',\n '/home/hinux/Desktop/google_images/sub_dataset_9/strtV_image_446497_79.jpg',\n '/home/hinux/Desktop/google_images/sub_dataset_9/strtV_image_446667_80.jpg',\n '/home/hinux/Desktop/google_images/sub_dataset_9/strtV_image_446774_79.jpg',\n '/home/hinux/Desktop/google_images/sub_dataset_9/strtV_image_446774_79.jpg',\n '/home/hinux/Desktop/google_images/sub_dataset_9/strtV_image_447038_155.jpg',\n '/home/hinux/Desktop/google_images/sub_dataset_9/strtV_image_447067_66.jpg',\n '/home/hinux/Desktop/google_images/sub_dataset_9/strtV_image_447134_13.jpg',\n '/home/hinux/Desktop/google_images/sub_dataset_9/strtV_image_447484_151.jpg',\n '/home/hinux/Desktop/google_images/sub_dataset_9/strtV_image_447522_86.jpg',\n '/home/hinux/Desktop/google_images/sub_dataset_9/strtV_image_447563_48.jpg',\n '/home/hinux/Desktop/google_images/sub_dataset_9/strtV_image_447982_70.jpg',\n '/home/hinux/Desktop/google_images/sub_dataset_9/strtV_image_448320_46.jpg',\n '/home/hinux/Desktop/google_images/sub_dataset_9/strtV_image_448902_155.jpg',\n '/home/hinux/Desktop/google_images/sub_dataset_9/strtV_image_450059_231.jpg',\n '/home/hinux/Desktop/google_images/sub_dataset_9/strtV_image_450387_262.jpg',\n '/home/hinux/Desktop/google_images/sub_dataset_9/strtV_image_450468_193.jpg',\n '/home/hinux/Desktop/google_images/sub_dataset_9/strtV_image_450503_80.jpg',\n '/home/hinux/Desktop/google_images/sub_dataset_9/strtV_image_450535_139.jpg',\n '/home/hinux/Desktop/google_images/sub_dataset_9/strtV_image_450717_42.jpg',\n '/home/hinux/Desktop/google_images/sub_dataset_9/strtV_image_451075_166.jpg',\n '/home/hinux/Desktop/google_images/sub_dataset_9/strtV_image_451075_166.jpg',\n '/home/hinux/Desktop/google_images/sub_dataset_9/strtV_image_451264_113.jpg',\n '/home/hinux/Desktop/google_images/sub_dataset_9/strtV_image_451834_238.jpg',\n '/home/hinux/Desktop/google_images/sub_dataset_9/strtV_image_451957_33.jpg',\n '/home/hinux/Desktop/google_images/sub_dataset_9/strtV_image_452485_7.jpg',\n '/home/hinux/Desktop/google_images/sub_dataset_9/strtV_image_452763_55.jpg',\n '/home/hinux/Desktop/google_images/sub_dataset_9/strtV_image_452809_13.jpg',\n '/home/hinux/Desktop/google_images/sub_dataset_9/strtV_image_453052_62.jpg',\n '/home/hinux/Desktop/google_images/sub_dataset_9/strtV_image_453079_101.jpg',\n '/home/hinux/Desktop/google_images/sub_dataset_9/strtV_image_453103_88.jpg',\n '/home/hinux/Desktop/google_images/sub_dataset_9/strtV_image_453219_28.jpg',\n '/home/hinux/Desktop/google_images/sub_dataset_9/strtV_image_453300_88.jpg',\n '/home/hinux/Desktop/google_images/sub_dataset_9/strtV_image_453469_154.jpg',\n '/home/hinux/Desktop/google_images/sub_dataset_9/strtV_image_453469_154.jpg',\n '/home/hinux/Desktop/google_images/sub_dataset_9/strtV_image_453658_201.jpg',\n '/home/hinux/Desktop/google_images/sub_dataset_9/strtV_image_453754_230.jpg',\n '/home/hinux/Desktop/google_images/sub_dataset_9/strtV_image_453927_159.jpg',\n '/home/hinux/Desktop/google_images/sub_dataset_9/strtV_image_454253_12.jpg',\n '/home/hinux/Desktop/google_images/sub_dataset_9/strtV_image_454404_74.jpg',\n '/home/hinux/Desktop/google_images/sub_dataset_9/strtV_image_454741_73.jpg',\n '/home/hinux/Desktop/google_images/sub_dataset_9/strtV_image_455002_177.jpg',\n '/home/hinux/Desktop/google_images/sub_dataset_9/strtV_image_455084_35.jpg',\n '/home/hinux/Desktop/google_images/sub_dataset_9/strtV_image_455541_132.jpg',\n '/home/hinux/Desktop/google_images/sub_dataset_9/strtV_image_455546_59.jpg',\n '/home/hinux/Desktop/google_images/sub_dataset_9/strtV_image_455554_80.jpg',\n '/home/hinux/Desktop/google_images/sub_dataset_9/strtV_image_455554_80.jpg',\n '/home/hinux/Desktop/google_images/sub_dataset_9/strtV_image_456439_182.jpg',\n '/home/hinux/Desktop/google_images/sub_dataset_9/strtV_image_456887_14.jpg',\n '/home/hinux/Desktop/google_images/sub_dataset_9/strtV_image_457326_72.jpg',\n '/home/hinux/Desktop/google_images/sub_dataset_9/strtV_image_457396_12.jpg',\n '/home/hinux/Desktop/google_images/sub_dataset_9/strtV_image_457556_72.jpg',\n '/home/hinux/Desktop/google_images/sub_dataset_9/strtV_image_458035_196.jpg',\n '/home/hinux/Desktop/google_images/sub_dataset_9/strtV_image_458329_9.jpg',\n '/home/hinux/Desktop/google_images/sub_dataset_9/strtV_image_458340_32.jpg',\n '/home/hinux/Desktop/google_images/sub_dataset_9/strtV_image_458489_55.jpg',\n '/home/hinux/Desktop/google_images/sub_dataset_9/strtV_image_459031_204.jpg',\n '/home/hinux/Desktop/google_images/sub_dataset_9/strtV_image_459255_204.jpg',\n '/home/hinux/Desktop/google_images/sub_dataset_9/strtV_image_459669_6.jpg',\n '/home/hinux/Desktop/google_images/sub_dataset_9/strtV_image_460140_166.jpg',\n '/home/hinux/Desktop/google_images/sub_dataset_9/strtV_image_460269_254.jpg',\n '/home/hinux/Desktop/google_images/sub_dataset_9/strtV_image_460269_74.jpg',\n '/home/hinux/Desktop/google_images/sub_dataset_9/strtV_image_460269_74.jpg',\n '/home/hinux/Desktop/google_images/sub_dataset_9/strtV_image_460269_74.jpg',\n '/home/hinux/Desktop/google_images/sub_dataset_9/strtV_image_460381_10.jpg',\n '/home/hinux/Desktop/google_images/sub_dataset_9/strtV_image_460381_10.jpg',\n '/home/hinux/Desktop/google_images/sub_dataset_9/strtV_image_460780_79.jpg',\n '/home/hinux/Desktop/google_images/sub_dataset_9/strtV_image_461159_2.jpg',\n '/home/hinux/Desktop/google_images/sub_dataset_9/strtV_image_461164_21.jpg',\n '/home/hinux/Desktop/google_images/sub_dataset_9/strtV_image_461253_157.jpg',\n '/home/hinux/Desktop/google_images/sub_dataset_9/strtV_image_461629_55.jpg',\n '/home/hinux/Desktop/google_images/sub_dataset_9/strtV_image_462664_157.jpg',\n '/home/hinux/Desktop/google_images/sub_dataset_9/strtV_image_462664_157.jpg',\n '/home/hinux/Desktop/google_images/sub_dataset_9/strtV_image_463661_63.jpg',\n '/home/hinux/Desktop/google_images/sub_dataset_9/strtV_image_464348_115.jpg',\n '/home/hinux/Desktop/google_images/sub_dataset_9/strtV_image_464478_2.jpg',\n '/home/hinux/Desktop/google_images/sub_dataset_9/strtV_image_465021_233.jpg',\n '/home/hinux/Desktop/google_images/sub_dataset_9/strtV_image_465519_47.jpg',\n '/home/hinux/Desktop/google_images/sub_dataset_9/strtV_image_465519_47.jpg',\n '/home/hinux/Desktop/google_images/sub_dataset_9/strtV_image_465930_2.jpg',\n '/home/hinux/Desktop/google_images/sub_dataset_9/strtV_image_466359_10.jpg',\n '/home/hinux/Desktop/google_images/sub_dataset_9/strtV_image_466556_22.jpg',\n '/home/hinux/Desktop/google_images/sub_dataset_9/strtV_image_466684_12.jpg',\n '/home/hinux/Desktop/google_images/sub_dataset_9/strtV_image_466708_70.jpg',\n '/home/hinux/Desktop/google_images/sub_dataset_9/strtV_image_467230_266.jpg',\n '/home/hinux/Desktop/google_images/sub_dataset_9/strtV_image_467681_92.jpg',\n '/home/hinux/Desktop/google_images/sub_dataset_9/strtV_image_467757_87.jpg',\n '/home/hinux/Desktop/google_images/sub_dataset_9/strtV_image_468100_267.jpg',\n '/home/hinux/Desktop/google_images/sub_dataset_9/strtV_image_468215_22.jpg',\n '/home/hinux/Desktop/google_images/sub_dataset_9/strtV_image_468465_83.jpg',\n '/home/hinux/Desktop/google_images/sub_dataset_9/strtV_image_468500_150.jpg',\n '/home/hinux/Desktop/google_images/sub_dataset_9/strtV_image_468577_97.jpg',\n '/home/hinux/Desktop/google_images/sub_dataset_9/strtV_image_469615_124.jpg',\n '/home/hinux/Desktop/google_images/sub_dataset_9/strtV_image_469982_25.jpg',\n '/home/hinux/Desktop/google_images/sub_dataset_9/strtV_image_470310_64.jpg',\n '/home/hinux/Desktop/google_images/sub_dataset_9/strtV_image_470329_76.jpg',\n '/home/hinux/Desktop/google_images/sub_dataset_9/strtV_image_470570_216.jpg',\n '/home/hinux/Desktop/google_images/sub_dataset_9/strtV_image_470710_49.jpg',\n '/home/hinux/Desktop/google_images/sub_dataset_9/strtV_image_470951_261.jpg',\n '/home/hinux/Desktop/google_images/sub_dataset_9/strtV_image_472571_17.jpg',\n '/home/hinux/Desktop/google_images/sub_dataset_9/strtV_image_472654_71.jpg',\n '/home/hinux/Desktop/google_images/sub_dataset_9/strtV_image_472951_224.jpg',\n '/home/hinux/Desktop/google_images/sub_dataset_9/strtV_image_472951_44.jpg',\n '/home/hinux/Desktop/google_images/sub_dataset_9/strtV_image_472951_44.jpg',\n '/home/hinux/Desktop/google_images/sub_dataset_9/strtV_image_474025_67.jpg',\n '/home/hinux/Desktop/google_images/sub_dataset_9/strtV_image_474025_67.jpg',\n '/home/hinux/Desktop/google_images/sub_dataset_9/strtV_image_474291_246.jpg',\n '/home/hinux/Desktop/google_images/sub_dataset_9/strtV_image_474548_41.jpg',\n '/home/hinux/Desktop/google_images/sub_dataset_9/strtV_image_475185_5.jpg',\n '/home/hinux/Desktop/google_images/sub_dataset_9/strtV_image_475253_6.jpg',\n '/home/hinux/Desktop/google_images/sub_dataset_9/strtV_image_475403_1.jpg',\n '/home/hinux/Desktop/google_images/sub_dataset_9/strtV_image_475418_84.jpg',\n '/home/hinux/Desktop/google_images/sub_dataset_9/strtV_image_475429_115.jpg',\n '/home/hinux/Desktop/google_images/sub_dataset_9/strtV_image_475429_115.jpg',\n '/home/hinux/Desktop/google_images/sub_dataset_9/strtV_image_475732_20.jpg',\n '/home/hinux/Desktop/google_images/sub_dataset_9/strtV_image_475831_90.jpg',\n '/home/hinux/Desktop/google_images/sub_dataset_9/strtV_image_475850_113.jpg',\n '/home/hinux/Desktop/google_images/sub_dataset_9/strtV_image_475982_26.jpg',\n '/home/hinux/Desktop/google_images/sub_dataset_9/strtV_image_476095_238.jpg',\n '/home/hinux/Desktop/google_images/sub_dataset_9/strtV_image_476377_117.jpg',\n '/home/hinux/Desktop/google_images/sub_dataset_9/strtV_image_476377_62.jpg',\n '/home/hinux/Desktop/google_images/sub_dataset_9/strtV_image_477023_53.jpg',\n '/home/hinux/Desktop/google_images/sub_dataset_9/strtV_image_477406_56.jpg',\n '/home/hinux/Desktop/google_images/sub_dataset_9/strtV_image_477858_267.jpg',\n '/home/hinux/Desktop/google_images/sub_dataset_9/strtV_image_477906_181.jpg',\n '/home/hinux/Desktop/google_images/sub_dataset_9/strtV_image_477976_55.jpg',\n '/home/hinux/Desktop/google_images/sub_dataset_9/strtV_image_477976_55.jpg',\n '/home/hinux/Desktop/google_images/sub_dataset_9/strtV_image_478027_190.jpg',\n '/home/hinux/Desktop/google_images/sub_dataset_9/strtV_image_478091_50.jpg',\n '/home/hinux/Desktop/google_images/sub_dataset_9/strtV_image_478118_109.jpg',\n '/home/hinux/Desktop/google_images/sub_dataset_9/strtV_image_478623_11.jpg',\n '/home/hinux/Desktop/google_images/sub_dataset_9/strtV_image_478644_58.jpg',\n '/home/hinux/Desktop/google_images/sub_dataset_9/strtV_image_479029_253.jpg',\n '/home/hinux/Desktop/google_images/sub_dataset_9/strtV_image_479029_253.jpg',\n '/home/hinux/Desktop/google_images/sub_dataset_9/strtV_image_479181_191.jpg',\n '/home/hinux/Desktop/google_images/sub_dataset_9/strtV_image_479229_49.jpg',\n '/home/hinux/Desktop/google_images/sub_dataset_9/strtV_image_479331_102.jpg',\n '/home/hinux/Desktop/google_images/sub_dataset_9/strtV_image_479394_5.jpg',\n '/home/hinux/Desktop/google_images/sub_dataset_9/strtV_image_479422_259.jpg',\n '/home/hinux/Desktop/google_images/sub_dataset_9/strtV_image_479428_68.jpg',\n '/home/hinux/Desktop/google_images/sub_dataset_9/strtV_image_479429_75.jpg',\n '/home/hinux/Desktop/google_images/sub_dataset_9/strtV_image_480926_33.jpg',\n '/home/hinux/Desktop/google_images/sub_dataset_9/strtV_image_481095_91.jpg',\n '/home/hinux/Desktop/google_images/sub_dataset_9/strtV_image_482159_162.jpg',\n '/home/hinux/Desktop/google_images/sub_dataset_9/strtV_image_482595_41.jpg',\n '/home/hinux/Desktop/google_images/sub_dataset_9/strtV_image_482729_69.jpg',\n '/home/hinux/Desktop/google_images/sub_dataset_9/strtV_image_483414_108.jpg',\n '/home/hinux/Desktop/google_images/sub_dataset_9/strtV_image_483639_67.jpg',\n '/home/hinux/Desktop/google_images/sub_dataset_9/strtV_image_484111_70.jpg',\n '/home/hinux/Desktop/google_images/sub_dataset_9/strtV_image_484696_26.jpg',\n '/home/hinux/Desktop/google_images/sub_dataset_9/strtV_image_484697_76.jpg',\n '/home/hinux/Desktop/google_images/sub_dataset_9/strtV_image_485020_84.jpg',\n '/home/hinux/Desktop/google_images/sub_dataset_9/strtV_image_485416_41.jpg',\n '/home/hinux/Desktop/google_images/sub_dataset_9/strtV_image_485673_14.jpg',\n '/home/hinux/Desktop/google_images/sub_dataset_9/strtV_image_485804_251.jpg',\n '/home/hinux/Desktop/google_images/sub_dataset_9/strtV_image_485863_236.jpg',\n '/home/hinux/Desktop/google_images/sub_dataset_9/strtV_image_485962_22.jpg',\n '/home/hinux/Desktop/google_images/sub_dataset_9/strtV_image_486189_79.jpg',\n '/home/hinux/Desktop/google_images/sub_dataset_9/strtV_image_486195_56.jpg',\n '/home/hinux/Desktop/google_images/sub_dataset_9/strtV_image_486361_231.jpg',\n '/home/hinux/Desktop/google_images/sub_dataset_9/strtV_image_486500_204.jpg',\n '/home/hinux/Desktop/google_images/sub_dataset_9/strtV_image_486729_153.jpg',\n '/home/hinux/Desktop/google_images/sub_dataset_9/strtV_image_486729_26.jpg',\n '/home/hinux/Desktop/google_images/sub_dataset_9/strtV_image_487489_25.jpg',\n '/home/hinux/Desktop/google_images/sub_dataset_9/strtV_image_487629_146.jpg',\n '/home/hinux/Desktop/google_images/sub_dataset_9/strtV_image_487787_122.jpg',\n '/home/hinux/Desktop/google_images/sub_dataset_9/strtV_image_487821_40.jpg',\n '/home/hinux/Desktop/google_images/sub_dataset_9/strtV_image_488410_111.jpg',\n '/home/hinux/Desktop/google_images/sub_dataset_9/strtV_image_488756_20.jpg',\n '/home/hinux/Desktop/google_images/sub_dataset_9/strtV_image_488888_127.jpg',\n '/home/hinux/Desktop/google_images/sub_dataset_9/strtV_image_489389_17.jpg',\n '/home/hinux/Desktop/google_images/sub_dataset_9/strtV_image_490145_92.jpg',\n '/home/hinux/Desktop/google_images/sub_dataset_9/strtV_image_490145_92.jpg',\n '/home/hinux/Desktop/google_images/sub_dataset_9/strtV_image_490260_63.jpg',\n '/home/hinux/Desktop/google_images/sub_dataset_9/strtV_image_491350_134.jpg',\n '/home/hinux/Desktop/google_images/sub_dataset_9/strtV_image_492175_237.jpg',\n '/home/hinux/Desktop/google_images/sub_dataset_9/strtV_image_492496_135.jpg',\n '/home/hinux/Desktop/google_images/sub_dataset_9/strtV_image_493116_47.jpg',\n '/home/hinux/Desktop/google_images/sub_dataset_9/strtV_image_493242_234.jpg',\n '/home/hinux/Desktop/google_images/sub_dataset_9/strtV_image_493917_35.jpg',\n '/home/hinux/Desktop/google_images/sub_dataset_9/strtV_image_494287_159.jpg',\n '/home/hinux/Desktop/google_images/sub_dataset_9/strtV_image_494309_52.jpg',\n '/home/hinux/Desktop/google_images/sub_dataset_9/strtV_image_494974_49.jpg',\n '/home/hinux/Desktop/google_images/sub_dataset_9/strtV_image_495199_188.jpg',\n '/home/hinux/Desktop/google_images/sub_dataset_9/strtV_image_495295_40.jpg',\n '/home/hinux/Desktop/google_images/sub_dataset_9/strtV_image_495911_242.jpg',\n '/home/hinux/Desktop/google_images/sub_dataset_9/strtV_image_496421_69.jpg',\n '/home/hinux/Desktop/google_images/sub_dataset_9/strtV_image_496774_170.jpg',\n '/home/hinux/Desktop/google_images/sub_dataset_9/strtV_image_496803_205.jpg',\n '/home/hinux/Desktop/google_images/sub_dataset_9/strtV_image_497049_191.jpg',\n '/home/hinux/Desktop/google_images/sub_dataset_9/strtV_image_498364_221.jpg',\n '/home/hinux/Desktop/google_images/sub_dataset_9/strtV_image_498364_41.jpg',\n '/home/hinux/Desktop/google_images/sub_dataset_9/strtV_image_498381_265.jpg',\n '/home/hinux/Desktop/google_images/sub_dataset_9/strtV_image_498553_122.jpg',\n '/home/hinux/Desktop/google_images/sub_dataset_9/strtV_image_498664_9.jpg',\n '/home/hinux/Desktop/google_images/sub_dataset_9/strtV_image_499003_152.jpg',\n '/home/hinux/Desktop/google_images/sub_dataset_9/strtV_image_499537_98.jpg',\n '/home/hinux/Desktop/google_images/sub_dataset_9/strtV_image_499758_25.jpg',\n '/home/hinux/Desktop/google_images/sub_dataset_9/strtV_image_500686_14.jpg',\n '/home/hinux/Desktop/google_images/sub_dataset_9/strtV_image_500976_195.jpg',\n '/home/hinux/Desktop/google_images/sub_dataset_9/strtV_image_501609_4.jpg',\n '/home/hinux/Desktop/google_images/sub_dataset_9/strtV_image_501756_41.jpg',\n '/home/hinux/Desktop/google_images/sub_dataset_9/strtV_image_501861_185.jpg',\n '/home/hinux/Desktop/google_images/sub_dataset_9/strtV_image_501861_5.jpg',\n '/home/hinux/Desktop/google_images/sub_dataset_9/strtV_image_502068_57.jpg',\n '/home/hinux/Desktop/google_images/sub_dataset_9/strtV_image_502448_147.jpg',\n '/home/hinux/Desktop/google_images/sub_dataset_9/strtV_image_502868_59.jpg',\n '/home/hinux/Desktop/google_images/sub_dataset_9/strtV_image_502887_3.jpg',\n '/home/hinux/Desktop/google_images/sub_dataset_9/strtV_image_503014_89.jpg',\n '/home/hinux/Desktop/google_images/sub_dataset_9/strtV_image_503036_265.jpg',\n '/home/hinux/Desktop/google_images/sub_dataset_9/strtV_image_503036_265.jpg',\n '/home/hinux/Desktop/google_images/sub_dataset_9/strtV_image_503165_244.jpg',\n '/home/hinux/Desktop/google_images/sub_dataset_9/strtV_image_503264_16.jpg',\n '/home/hinux/Desktop/google_images/sub_dataset_9/strtV_image_503434_20.jpg',\n '/home/hinux/Desktop/google_images/sub_dataset_9/strtV_image_504115_257.jpg',\n '/home/hinux/Desktop/google_images/sub_dataset_9/strtV_image_504741_71.jpg',\n '/home/hinux/Desktop/google_images/sub_dataset_9/strtV_image_504767_69.jpg',\n '/home/hinux/Desktop/google_images/sub_dataset_9/strtV_image_504927_42.jpg',\n '/home/hinux/Desktop/google_images/sub_dataset_9/strtV_image_504928_47.jpg',\n '/home/hinux/Desktop/google_images/sub_dataset_9/strtV_image_504991_46.jpg',\n '/home/hinux/Desktop/google_images/sub_dataset_9/strtV_image_505059_201.jpg',\n '/home/hinux/Desktop/google_images/sub_dataset_9/strtV_image_505291_265.jpg',\n '/home/hinux/Desktop/google_images/sub_dataset_9/strtV_image_505371_194.jpg',\n '/home/hinux/Desktop/google_images/sub_dataset_9/strtV_image_506179_215.jpg',\n '/home/hinux/Desktop/google_images/sub_dataset_9/strtV_image_507093_115.jpg',\n '/home/hinux/Desktop/google_images/sub_dataset_9/strtV_image_507492_72.jpg',\n '/home/hinux/Desktop/google_images/sub_dataset_9/strtV_image_507562_95.jpg',\n '/home/hinux/Desktop/google_images/sub_dataset_9/strtV_image_507789_20.jpg',\n '/home/hinux/Desktop/google_images/sub_dataset_9/strtV_image_507820_57.jpg',\n '/home/hinux/Desktop/google_images/sub_dataset_9/strtV_image_509224_0.jpg',\n '/home/hinux/Desktop/google_images/sub_dataset_9/strtV_image_510036_55.jpg',\n '/home/hinux/Desktop/google_images/sub_dataset_9/strtV_image_510036_55.jpg',\n '/home/hinux/Desktop/google_images/sub_dataset_9/strtV_image_510225_247.jpg',\n '/home/hinux/Desktop/google_images/sub_dataset_9/strtV_image_510539_187.jpg',\n '/home/hinux/Desktop/google_images/sub_dataset_9/strtV_image_510857_159.jpg',\n '/home/hinux/Desktop/google_images/sub_dataset_9/strtV_image_511147_191.jpg',\n '/home/hinux/Desktop/google_images/sub_dataset_9/strtV_image_511294_65.jpg',\n '/home/hinux/Desktop/google_images/sub_dataset_9/strtV_image_511749_166.jpg',\n '/home/hinux/Desktop/google_images/sub_dataset_9/strtV_image_511894_251.jpg',\n '/home/hinux/Desktop/google_images/sub_dataset_9/strtV_image_513940_21.jpg',\n '/home/hinux/Desktop/google_images/sub_dataset_9/strtV_image_514167_177.jpg',\n '/home/hinux/Desktop/google_images/sub_dataset_9/strtV_image_514301_88.jpg',\n '/home/hinux/Desktop/google_images/sub_dataset_9/strtV_image_514687_68.jpg',\n '/home/hinux/Desktop/google_images/sub_dataset_9/strtV_image_515537_6.jpg',\n '/home/hinux/Desktop/google_images/sub_dataset_9/strtV_image_516259_24.jpg',\n '/home/hinux/Desktop/google_images/sub_dataset_9/strtV_image_517035_170.jpg',\n '/home/hinux/Desktop/google_images/sub_dataset_9/strtV_image_517108_131.jpg',\n '/home/hinux/Desktop/google_images/sub_dataset_9/strtV_image_517209_141.jpg',\n '/home/hinux/Desktop/google_images/sub_dataset_9/strtV_image_517622_201.jpg',\n '/home/hinux/Desktop/google_images/sub_dataset_9/strtV_image_517622_21.jpg',\n '/home/hinux/Desktop/google_images/sub_dataset_9/strtV_image_517870_0.jpg',\n '/home/hinux/Desktop/google_images/sub_dataset_9/strtV_image_518038_37.jpg',\n '/home/hinux/Desktop/google_images/sub_dataset_9/strtV_image_518480_214.jpg',\n '/home/hinux/Desktop/google_images/sub_dataset_9/strtV_image_519764_113.jpg',\n '/home/hinux/Desktop/google_images/sub_dataset_9/strtV_image_520288_172.jpg',\n '/home/hinux/Desktop/google_images/sub_dataset_9/strtV_image_520405_2.jpg',\n '/home/hinux/Desktop/google_images/sub_dataset_9/strtV_image_521630_267.jpg',\n '/home/hinux/Desktop/google_images/sub_dataset_9/strtV_image_522070_202.jpg',\n '/home/hinux/Desktop/google_images/sub_dataset_9/strtV_image_522246_90.jpg',\n '/home/hinux/Desktop/google_images/sub_dataset_9/strtV_image_522320_132.jpg',\n '/home/hinux/Desktop/google_images/sub_dataset_9/strtV_image_522446_60.jpg',\n '/home/hinux/Desktop/google_images/sub_dataset_9/strtV_image_522518_27.jpg',\n '/home/hinux/Desktop/google_images/sub_dataset_9/strtV_image_522543_85.jpg',\n '/home/hinux/Desktop/google_images/sub_dataset_9/strtV_image_522609_18.jpg',\n '/home/hinux/Desktop/google_images/sub_dataset_9/strtV_image_522609_198.jpg',\n '/home/hinux/Desktop/google_images/sub_dataset_9/strtV_image_522878_218.jpg',\n '/home/hinux/Desktop/google_images/sub_dataset_9/strtV_image_523115_92.jpg',\n '/home/hinux/Desktop/google_images/sub_dataset_9/strtV_image_523218_60.jpg',\n '/home/hinux/Desktop/google_images/sub_dataset_9/strtV_image_523282_47.jpg',\n '/home/hinux/Desktop/google_images/sub_dataset_9/strtV_image_523342_5.jpg',\n '/home/hinux/Desktop/google_images/sub_dataset_9/strtV_image_523429_184.jpg',\n '/home/hinux/Desktop/google_images/sub_dataset_9/strtV_image_523539_268.jpg',\n '/home/hinux/Desktop/google_images/sub_dataset_9/strtV_image_523688_124.jpg',\n '/home/hinux/Desktop/google_images/sub_dataset_9/strtV_image_524015_86.jpg',\n '/home/hinux/Desktop/google_images/sub_dataset_9/strtV_image_524086_12.jpg',\n '/home/hinux/Desktop/google_images/sub_dataset_9/strtV_image_524950_235.jpg',\n '/home/hinux/Desktop/google_images/sub_dataset_9/strtV_image_525348_137.jpg',\n '/home/hinux/Desktop/google_images/sub_dataset_9/strtV_image_525395_184.jpg',\n '/home/hinux/Desktop/google_images/sub_dataset_9/strtV_image_526376_257.jpg',\n '/home/hinux/Desktop/google_images/sub_dataset_9/strtV_image_526734_1.jpg',\n '/home/hinux/Desktop/google_images/sub_dataset_9/strtV_image_526931_235.jpg',\n '/home/hinux/Desktop/google_images/sub_dataset_9/strtV_image_527373_214.jpg',\n '/home/hinux/Desktop/google_images/sub_dataset_9/strtV_image_529124_143.jpg',\n '/home/hinux/Desktop/google_images/sub_dataset_9/strtV_image_529697_238.jpg',\n '/home/hinux/Desktop/google_images/sub_dataset_9/strtV_image_530121_170.jpg',\n '/home/hinux/Desktop/google_images/sub_dataset_9/strtV_image_530815_55.jpg',\n '/home/hinux/Desktop/google_images/sub_dataset_9/strtV_image_530853_136.jpg',\n '/home/hinux/Desktop/google_images/sub_dataset_9/strtV_image_530853_136.jpg',\n '/home/hinux/Desktop/google_images/sub_dataset_9/strtV_image_530867_147.jpg',\n '/home/hinux/Desktop/google_images/sub_dataset_9/strtV_image_530885_86.jpg',\n '/home/hinux/Desktop/google_images/sub_dataset_9/strtV_image_530997_32.jpg',\n '/home/hinux/Desktop/google_images/sub_dataset_9/strtV_image_531104_216.jpg',\n '/home/hinux/Desktop/google_images/sub_dataset_9/strtV_image_531496_111.jpg',\n '/home/hinux/Desktop/google_images/sub_dataset_9/strtV_image_531577_100.jpg',\n '/home/hinux/Desktop/google_images/sub_dataset_9/strtV_image_533145_116.jpg',\n '/home/hinux/Desktop/google_images/sub_dataset_9/strtV_image_533349_163.jpg',\n '/home/hinux/Desktop/google_images/sub_dataset_9/strtV_image_534103_20.jpg',\n '/home/hinux/Desktop/google_images/sub_dataset_9/strtV_image_535002_242.jpg',\n '/home/hinux/Desktop/google_images/sub_dataset_9/strtV_image_535067_252.jpg',\n '/home/hinux/Desktop/google_images/sub_dataset_9/strtV_image_535067_72.jpg',\n '/home/hinux/Desktop/google_images/sub_dataset_9/strtV_image_535637_197.jpg',\n '/home/hinux/Desktop/google_images/sub_dataset_9/strtV_image_536628_86.jpg',\n '/home/hinux/Desktop/google_images/sub_dataset_9/strtV_image_537132_32.jpg',\n '/home/hinux/Desktop/google_images/sub_dataset_9/strtV_image_537430_200.jpg',\n '/home/hinux/Desktop/google_images/sub_dataset_9/strtV_image_537620_81.jpg',\n '/home/hinux/Desktop/google_images/sub_dataset_9/strtV_image_537743_80.jpg',\n '/home/hinux/Desktop/google_images/sub_dataset_9/strtV_image_537853_156.jpg',\n '/home/hinux/Desktop/google_images/sub_dataset_9/strtV_image_537910_104.jpg',\n '/home/hinux/Desktop/google_images/sub_dataset_9/strtV_image_537910_75.jpg',\n '/home/hinux/Desktop/google_images/sub_dataset_9/strtV_image_538327_70.jpg',\n '/home/hinux/Desktop/google_images/sub_dataset_9/strtV_image_538624_193.jpg',\n '/home/hinux/Desktop/google_images/sub_dataset_9/strtV_image_538807_152.jpg',\n '/home/hinux/Desktop/google_images/sub_dataset_9/strtV_image_539150_72.jpg',\n '/home/hinux/Desktop/google_images/sub_dataset_9/strtV_image_540109_50.jpg',\n '/home/hinux/Desktop/google_images/sub_dataset_9/strtV_image_540181_55.jpg',\n '/home/hinux/Desktop/google_images/sub_dataset_9/strtV_image_540384_130.jpg',\n '/home/hinux/Desktop/google_images/sub_dataset_9/strtV_image_540611_248.jpg',\n '/home/hinux/Desktop/google_images/sub_dataset_9/strtV_image_541189_247.jpg',\n '/home/hinux/Desktop/google_images/sub_dataset_9/strtV_image_541189_247.jpg',\n '/home/hinux/Desktop/google_images/sub_dataset_9/strtV_image_541423_59.jpg',\n '/home/hinux/Desktop/google_images/sub_dataset_9/strtV_image_541776_30.jpg',\n '/home/hinux/Desktop/google_images/sub_dataset_9/strtV_image_541886_72.jpg',\n '/home/hinux/Desktop/google_images/sub_dataset_9/strtV_image_542061_226.jpg',\n '/home/hinux/Desktop/google_images/sub_dataset_9/strtV_image_542090_182.jpg',\n '/home/hinux/Desktop/google_images/sub_dataset_9/strtV_image_542377_67.jpg',\n '/home/hinux/Desktop/google_images/sub_dataset_9/strtV_image_542615_257.jpg',\n '/home/hinux/Desktop/google_images/sub_dataset_9/strtV_image_542615_257.jpg',\n '/home/hinux/Desktop/google_images/sub_dataset_9/strtV_image_542656_255.jpg',\n '/home/hinux/Desktop/google_images/sub_dataset_9/strtV_image_542837_31.jpg',\n '/home/hinux/Desktop/google_images/sub_dataset_9/strtV_image_543263_65.jpg',\n '/home/hinux/Desktop/google_images/sub_dataset_9/strtV_image_543895_23.jpg',\n '/home/hinux/Desktop/google_images/sub_dataset_9/strtV_image_543944_75.jpg',\n '/home/hinux/Desktop/google_images/sub_dataset_9/strtV_image_544171_17.jpg',\n '/home/hinux/Desktop/google_images/sub_dataset_9/strtV_image_544398_71.jpg',\n '/home/hinux/Desktop/google_images/sub_dataset_9/strtV_image_544798_93.jpg',\n '/home/hinux/Desktop/google_images/sub_dataset_9/strtV_image_545005_103.jpg',\n '/home/hinux/Desktop/google_images/sub_dataset_9/strtV_image_545042_218.jpg',\n '/home/hinux/Desktop/google_images/sub_dataset_9/strtV_image_545793_0.jpg',\n '/home/hinux/Desktop/google_images/sub_dataset_9/strtV_image_545793_0.jpg',\n '/home/hinux/Desktop/google_images/sub_dataset_9/strtV_image_546021_249.jpg',\n '/home/hinux/Desktop/google_images/sub_dataset_9/strtV_image_546378_14.jpg',\n '/home/hinux/Desktop/google_images/sub_dataset_9/strtV_image_546378_14.jpg',\n '/home/hinux/Desktop/google_images/sub_dataset_9/strtV_image_546378_194.jpg',\n '/home/hinux/Desktop/google_images/sub_dataset_9/strtV_image_547318_126.jpg',\n '/home/hinux/Desktop/google_images/sub_dataset_9/strtV_image_547318_53.jpg',\n '/home/hinux/Desktop/google_images/sub_dataset_9/strtV_image_547703_90.jpg',\n '/home/hinux/Desktop/google_images/sub_dataset_9/strtV_image_547751_27.jpg',\n '/home/hinux/Desktop/google_images/sub_dataset_9/strtV_image_548070_223.jpg',\n '/home/hinux/Desktop/google_images/sub_dataset_9/strtV_image_548070_223.jpg',\n '/home/hinux/Desktop/google_images/sub_dataset_9/strtV_image_548070_43.jpg',\n '/home/hinux/Desktop/google_images/sub_dataset_9/strtV_image_549052_98.jpg',\n '/home/hinux/Desktop/google_images/sub_dataset_9/strtV_image_549263_5.jpg',\n '/home/hinux/Desktop/google_images/sub_dataset_9/strtV_image_549931_146.jpg',\n ...]"
     },
     "execution_count": 8,
     "metadata": {},
     "output_type": "execute_result"
    }
   ],
   "source": [
    "jpg_filepath_image"
   ],
   "metadata": {
    "collapsed": false,
    "ExecuteTime": {
     "end_time": "2023-11-14T22:11:32.521678641Z",
     "start_time": "2023-11-14T22:11:32.487991166Z"
    }
   },
   "id": "27a6d88983c756ac"
  },
  {
   "cell_type": "markdown",
   "source": [
    "# Getting the images from path"
   ],
   "metadata": {
    "collapsed": false
   },
   "id": "983764226392d114"
  },
  {
   "cell_type": "code",
   "execution_count": 15,
   "outputs": [
    {
     "name": "stdout",
     "output_type": "stream",
     "text": [
      "Image strtV_image_339598_93.jpg copied to /home/hinux/Desktop/project04/checking_folder/filtered_img_camera/no_camera_train 1\n",
      "Image strtV_image_339846_8.jpg copied to /home/hinux/Desktop/project04/checking_folder/filtered_img_camera/no_camera_train 2\n",
      "Image strtV_image_340126_204.jpg copied to /home/hinux/Desktop/project04/checking_folder/filtered_img_camera/no_camera_train 3\n",
      "Image strtV_image_340437_174.jpg copied to /home/hinux/Desktop/project04/checking_folder/filtered_img_camera/no_camera_train 4\n",
      "Image strtV_image_340553_138.jpg copied to /home/hinux/Desktop/project04/checking_folder/filtered_img_camera/no_camera_train 5\n",
      "Image strtV_image_340708_204.jpg copied to /home/hinux/Desktop/project04/checking_folder/filtered_img_camera/no_camera_train 6\n",
      "Image strtV_image_340791_226.jpg copied to /home/hinux/Desktop/project04/checking_folder/filtered_img_camera/no_camera_train 7\n",
      "Image strtV_image_340840_128.jpg copied to /home/hinux/Desktop/project04/checking_folder/filtered_img_camera/no_camera_train 8\n",
      "Image strtV_image_340932_66.jpg copied to /home/hinux/Desktop/project04/checking_folder/filtered_img_camera/no_camera_train 9\n",
      "Image strtV_image_341136_266.jpg copied to /home/hinux/Desktop/project04/checking_folder/filtered_img_camera/no_camera_train 10\n",
      "Image strtV_image_341285_94.jpg copied to /home/hinux/Desktop/project04/checking_folder/filtered_img_camera/no_camera_train 11\n",
      "Image strtV_image_341285_94.jpg copied to /home/hinux/Desktop/project04/checking_folder/filtered_img_camera/no_camera_train 12\n",
      "Image strtV_image_341720_158.jpg copied to /home/hinux/Desktop/project04/checking_folder/filtered_img_camera/no_camera_train 13\n",
      "Image strtV_image_341917_60.jpg copied to /home/hinux/Desktop/project04/checking_folder/filtered_img_camera/no_camera_train 14\n",
      "Image strtV_image_343378_189.jpg copied to /home/hinux/Desktop/project04/checking_folder/filtered_img_camera/no_camera_train 15\n",
      "Image strtV_image_343674_79.jpg copied to /home/hinux/Desktop/project04/checking_folder/filtered_img_camera/no_camera_train 16\n",
      "Image strtV_image_343849_55.jpg copied to /home/hinux/Desktop/project04/checking_folder/filtered_img_camera/no_camera_train 17\n",
      "Image strtV_image_343849_55.jpg copied to /home/hinux/Desktop/project04/checking_folder/filtered_img_camera/no_camera_train 18\n",
      "Image strtV_image_344305_10.jpg copied to /home/hinux/Desktop/project04/checking_folder/filtered_img_camera/no_camera_train 19\n",
      "Image strtV_image_344514_238.jpg copied to /home/hinux/Desktop/project04/checking_folder/filtered_img_camera/no_camera_train 20\n",
      "Image strtV_image_344514_58.jpg copied to /home/hinux/Desktop/project04/checking_folder/filtered_img_camera/no_camera_train 21\n",
      "Image strtV_image_344737_252.jpg copied to /home/hinux/Desktop/project04/checking_folder/filtered_img_camera/no_camera_train 22\n",
      "Image strtV_image_344861_88.jpg copied to /home/hinux/Desktop/project04/checking_folder/filtered_img_camera/no_camera_train 23\n",
      "Image strtV_image_345009_237.jpg copied to /home/hinux/Desktop/project04/checking_folder/filtered_img_camera/no_camera_train 24\n",
      "Image strtV_image_345279_102.jpg copied to /home/hinux/Desktop/project04/checking_folder/filtered_img_camera/no_camera_train 25\n",
      "Image strtV_image_345694_40.jpg copied to /home/hinux/Desktop/project04/checking_folder/filtered_img_camera/no_camera_train 26\n",
      "Image strtV_image_345893_9.jpg copied to /home/hinux/Desktop/project04/checking_folder/filtered_img_camera/no_camera_train 27\n",
      "Image strtV_image_345893_9.jpg copied to /home/hinux/Desktop/project04/checking_folder/filtered_img_camera/no_camera_train 28\n",
      "Image strtV_image_345893_9.jpg copied to /home/hinux/Desktop/project04/checking_folder/filtered_img_camera/no_camera_train 29\n",
      "Image strtV_image_346011_77.jpg copied to /home/hinux/Desktop/project04/checking_folder/filtered_img_camera/no_camera_train 30\n",
      "Image strtV_image_346011_77.jpg copied to /home/hinux/Desktop/project04/checking_folder/filtered_img_camera/no_camera_train 31\n",
      "Image strtV_image_346114_93.jpg copied to /home/hinux/Desktop/project04/checking_folder/filtered_img_camera/no_camera_train 32\n",
      "Image strtV_image_346190_20.jpg copied to /home/hinux/Desktop/project04/checking_folder/filtered_img_camera/no_camera_train 33\n",
      "Image strtV_image_346218_40.jpg copied to /home/hinux/Desktop/project04/checking_folder/filtered_img_camera/no_camera_train 34\n",
      "Image strtV_image_346311_33.jpg copied to /home/hinux/Desktop/project04/checking_folder/filtered_img_camera/no_camera_train 35\n",
      "Image strtV_image_346553_88.jpg copied to /home/hinux/Desktop/project04/checking_folder/filtered_img_camera/no_camera_train 36\n",
      "Image strtV_image_346799_17.jpg copied to /home/hinux/Desktop/project04/checking_folder/filtered_img_camera/no_camera_train 37\n",
      "Image strtV_image_346799_17.jpg copied to /home/hinux/Desktop/project04/checking_folder/filtered_img_camera/no_camera_train 38\n",
      "Image strtV_image_346799_17.jpg copied to /home/hinux/Desktop/project04/checking_folder/filtered_img_camera/no_camera_train 39\n",
      "Image strtV_image_346909_139.jpg copied to /home/hinux/Desktop/project04/checking_folder/filtered_img_camera/no_camera_train 40\n",
      "Image strtV_image_346911_19.jpg copied to /home/hinux/Desktop/project04/checking_folder/filtered_img_camera/no_camera_train 41\n",
      "Image strtV_image_346911_199.jpg copied to /home/hinux/Desktop/project04/checking_folder/filtered_img_camera/no_camera_train 42\n",
      "Image strtV_image_347170_19.jpg copied to /home/hinux/Desktop/project04/checking_folder/filtered_img_camera/no_camera_train 43\n",
      "Image strtV_image_347430_104.jpg copied to /home/hinux/Desktop/project04/checking_folder/filtered_img_camera/no_camera_train 44\n",
      "Image strtV_image_347566_105.jpg copied to /home/hinux/Desktop/project04/checking_folder/filtered_img_camera/no_camera_train 45\n",
      "Image strtV_image_347644_102.jpg copied to /home/hinux/Desktop/project04/checking_folder/filtered_img_camera/no_camera_train 46\n",
      "Image strtV_image_347915_227.jpg copied to /home/hinux/Desktop/project04/checking_folder/filtered_img_camera/no_camera_train 47\n",
      "Image strtV_image_348047_64.jpg copied to /home/hinux/Desktop/project04/checking_folder/filtered_img_camera/no_camera_train 48\n",
      "Image strtV_image_348059_181.jpg copied to /home/hinux/Desktop/project04/checking_folder/filtered_img_camera/no_camera_train 49\n",
      "Image strtV_image_348178_132.jpg copied to /home/hinux/Desktop/project04/checking_folder/filtered_img_camera/no_camera_train 50\n",
      "Image strtV_image_348208_39.jpg copied to /home/hinux/Desktop/project04/checking_folder/filtered_img_camera/no_camera_train 51\n",
      "Image strtV_image_348260_124.jpg copied to /home/hinux/Desktop/project04/checking_folder/filtered_img_camera/no_camera_train 52\n",
      "Image strtV_image_348867_163.jpg copied to /home/hinux/Desktop/project04/checking_folder/filtered_img_camera/no_camera_train 53\n",
      "Image strtV_image_348879_99.jpg copied to /home/hinux/Desktop/project04/checking_folder/filtered_img_camera/no_camera_train 54\n",
      "Image strtV_image_348896_135.jpg copied to /home/hinux/Desktop/project04/checking_folder/filtered_img_camera/no_camera_train 55\n",
      "Image strtV_image_348934_110.jpg copied to /home/hinux/Desktop/project04/checking_folder/filtered_img_camera/no_camera_train 56\n",
      "Image strtV_image_349164_115.jpg copied to /home/hinux/Desktop/project04/checking_folder/filtered_img_camera/no_camera_train 57\n",
      "Image strtV_image_349493_66.jpg copied to /home/hinux/Desktop/project04/checking_folder/filtered_img_camera/no_camera_train 58\n",
      "Image strtV_image_349680_12.jpg copied to /home/hinux/Desktop/project04/checking_folder/filtered_img_camera/no_camera_train 59\n",
      "Image strtV_image_349685_111.jpg copied to /home/hinux/Desktop/project04/checking_folder/filtered_img_camera/no_camera_train 60\n",
      "Image strtV_image_349707_122.jpg copied to /home/hinux/Desktop/project04/checking_folder/filtered_img_camera/no_camera_train 61\n",
      "Image strtV_image_350030_136.jpg copied to /home/hinux/Desktop/project04/checking_folder/filtered_img_camera/no_camera_train 62\n",
      "Image strtV_image_350062_236.jpg copied to /home/hinux/Desktop/project04/checking_folder/filtered_img_camera/no_camera_train 63\n",
      "Image strtV_image_350312_63.jpg copied to /home/hinux/Desktop/project04/checking_folder/filtered_img_camera/no_camera_train 64\n",
      "Image strtV_image_350393_64.jpg copied to /home/hinux/Desktop/project04/checking_folder/filtered_img_camera/no_camera_train 65\n",
      "Image strtV_image_350455_22.jpg copied to /home/hinux/Desktop/project04/checking_folder/filtered_img_camera/no_camera_train 66\n",
      "Image strtV_image_350693_77.jpg copied to /home/hinux/Desktop/project04/checking_folder/filtered_img_camera/no_camera_train 67\n",
      "Image strtV_image_351229_48.jpg copied to /home/hinux/Desktop/project04/checking_folder/filtered_img_camera/no_camera_train 68\n",
      "Image strtV_image_351399_75.jpg copied to /home/hinux/Desktop/project04/checking_folder/filtered_img_camera/no_camera_train 69\n",
      "Image strtV_image_351467_107.jpg copied to /home/hinux/Desktop/project04/checking_folder/filtered_img_camera/no_camera_train 70\n",
      "Image strtV_image_351539_254.jpg copied to /home/hinux/Desktop/project04/checking_folder/filtered_img_camera/no_camera_train 71\n",
      "Image strtV_image_351768_87.jpg copied to /home/hinux/Desktop/project04/checking_folder/filtered_img_camera/no_camera_train 72\n",
      "Image strtV_image_351777_58.jpg copied to /home/hinux/Desktop/project04/checking_folder/filtered_img_camera/no_camera_train 73\n",
      "Image strtV_image_352344_105.jpg copied to /home/hinux/Desktop/project04/checking_folder/filtered_img_camera/no_camera_train 74\n",
      "Image strtV_image_352473_168.jpg copied to /home/hinux/Desktop/project04/checking_folder/filtered_img_camera/no_camera_train 75\n",
      "Image strtV_image_352542_77.jpg copied to /home/hinux/Desktop/project04/checking_folder/filtered_img_camera/no_camera_train 76\n",
      "Image strtV_image_352692_64.jpg copied to /home/hinux/Desktop/project04/checking_folder/filtered_img_camera/no_camera_train 77\n",
      "Image strtV_image_352837_139.jpg copied to /home/hinux/Desktop/project04/checking_folder/filtered_img_camera/no_camera_train 78\n",
      "Image strtV_image_352938_259.jpg copied to /home/hinux/Desktop/project04/checking_folder/filtered_img_camera/no_camera_train 79\n",
      "Image strtV_image_353327_251.jpg copied to /home/hinux/Desktop/project04/checking_folder/filtered_img_camera/no_camera_train 80\n",
      "Image strtV_image_353435_187.jpg copied to /home/hinux/Desktop/project04/checking_folder/filtered_img_camera/no_camera_train 81\n",
      "Image strtV_image_353617_160.jpg copied to /home/hinux/Desktop/project04/checking_folder/filtered_img_camera/no_camera_train 82\n",
      "Image strtV_image_353817_257.jpg copied to /home/hinux/Desktop/project04/checking_folder/filtered_img_camera/no_camera_train 83\n",
      "Image strtV_image_353830_242.jpg copied to /home/hinux/Desktop/project04/checking_folder/filtered_img_camera/no_camera_train 84\n",
      "Image strtV_image_353830_62.jpg copied to /home/hinux/Desktop/project04/checking_folder/filtered_img_camera/no_camera_train 85\n",
      "Image strtV_image_354054_6.jpg copied to /home/hinux/Desktop/project04/checking_folder/filtered_img_camera/no_camera_train 86\n",
      "Image strtV_image_354322_26.jpg copied to /home/hinux/Desktop/project04/checking_folder/filtered_img_camera/no_camera_train 87\n",
      "Image strtV_image_354322_26.jpg copied to /home/hinux/Desktop/project04/checking_folder/filtered_img_camera/no_camera_train 88\n",
      "Image strtV_image_354480_24.jpg copied to /home/hinux/Desktop/project04/checking_folder/filtered_img_camera/no_camera_train 89\n",
      "Image strtV_image_354632_84.jpg copied to /home/hinux/Desktop/project04/checking_folder/filtered_img_camera/no_camera_train 90\n",
      "Image strtV_image_355015_166.jpg copied to /home/hinux/Desktop/project04/checking_folder/filtered_img_camera/no_camera_train 91\n",
      "Image strtV_image_355106_16.jpg copied to /home/hinux/Desktop/project04/checking_folder/filtered_img_camera/no_camera_train 92\n",
      "Image strtV_image_355110_59.jpg copied to /home/hinux/Desktop/project04/checking_folder/filtered_img_camera/no_camera_train 93\n",
      "Image strtV_image_355239_242.jpg copied to /home/hinux/Desktop/project04/checking_folder/filtered_img_camera/no_camera_train 94\n",
      "Image strtV_image_355309_255.jpg copied to /home/hinux/Desktop/project04/checking_folder/filtered_img_camera/no_camera_train 95\n",
      "Image strtV_image_355412_1.jpg copied to /home/hinux/Desktop/project04/checking_folder/filtered_img_camera/no_camera_train 96\n",
      "Image strtV_image_355515_20.jpg copied to /home/hinux/Desktop/project04/checking_folder/filtered_img_camera/no_camera_train 97\n",
      "Image strtV_image_355662_154.jpg copied to /home/hinux/Desktop/project04/checking_folder/filtered_img_camera/no_camera_train 98\n",
      "Image strtV_image_355898_21.jpg copied to /home/hinux/Desktop/project04/checking_folder/filtered_img_camera/no_camera_train 99\n",
      "Image strtV_image_355992_161.jpg copied to /home/hinux/Desktop/project04/checking_folder/filtered_img_camera/no_camera_train 100\n",
      "Image strtV_image_356312_113.jpg copied to /home/hinux/Desktop/project04/checking_folder/filtered_img_camera/no_camera_train 101\n",
      "Image strtV_image_356321_92.jpg copied to /home/hinux/Desktop/project04/checking_folder/filtered_img_camera/no_camera_train 102\n",
      "Image strtV_image_356409_199.jpg copied to /home/hinux/Desktop/project04/checking_folder/filtered_img_camera/no_camera_train 103\n",
      "Image strtV_image_356830_8.jpg copied to /home/hinux/Desktop/project04/checking_folder/filtered_img_camera/no_camera_train 104\n",
      "Image strtV_image_356838_80.jpg copied to /home/hinux/Desktop/project04/checking_folder/filtered_img_camera/no_camera_train 105\n",
      "Image strtV_image_356898_112.jpg copied to /home/hinux/Desktop/project04/checking_folder/filtered_img_camera/no_camera_train 106\n",
      "Image strtV_image_357067_1.jpg copied to /home/hinux/Desktop/project04/checking_folder/filtered_img_camera/no_camera_train 107\n",
      "Image strtV_image_357544_13.jpg copied to /home/hinux/Desktop/project04/checking_folder/filtered_img_camera/no_camera_train 108\n",
      "Image strtV_image_357544_193.jpg copied to /home/hinux/Desktop/project04/checking_folder/filtered_img_camera/no_camera_train 109\n",
      "Image strtV_image_357589_18.jpg copied to /home/hinux/Desktop/project04/checking_folder/filtered_img_camera/no_camera_train 110\n",
      "Image strtV_image_357625_71.jpg copied to /home/hinux/Desktop/project04/checking_folder/filtered_img_camera/no_camera_train 111\n",
      "Image strtV_image_357656_1.jpg copied to /home/hinux/Desktop/project04/checking_folder/filtered_img_camera/no_camera_train 112\n",
      "Image strtV_image_357923_50.jpg copied to /home/hinux/Desktop/project04/checking_folder/filtered_img_camera/no_camera_train 113\n",
      "Image strtV_image_357965_175.jpg copied to /home/hinux/Desktop/project04/checking_folder/filtered_img_camera/no_camera_train 114\n",
      "Image strtV_image_358242_257.jpg copied to /home/hinux/Desktop/project04/checking_folder/filtered_img_camera/no_camera_train 115\n",
      "Image strtV_image_358489_64.jpg copied to /home/hinux/Desktop/project04/checking_folder/filtered_img_camera/no_camera_train 116\n",
      "Image strtV_image_358642_249.jpg copied to /home/hinux/Desktop/project04/checking_folder/filtered_img_camera/no_camera_train 117\n",
      "Image strtV_image_359123_97.jpg copied to /home/hinux/Desktop/project04/checking_folder/filtered_img_camera/no_camera_train 118\n",
      "Image strtV_image_359150_5.jpg copied to /home/hinux/Desktop/project04/checking_folder/filtered_img_camera/no_camera_train 119\n",
      "Image strtV_image_359493_205.jpg copied to /home/hinux/Desktop/project04/checking_folder/filtered_img_camera/no_camera_train 120\n",
      "Image strtV_image_359519_232.jpg copied to /home/hinux/Desktop/project04/checking_folder/filtered_img_camera/no_camera_train 121\n",
      "Image strtV_image_359924_170.jpg copied to /home/hinux/Desktop/project04/checking_folder/filtered_img_camera/no_camera_train 122\n",
      "Image strtV_image_359936_166.jpg copied to /home/hinux/Desktop/project04/checking_folder/filtered_img_camera/no_camera_train 123\n",
      "Image strtV_image_360289_178.jpg copied to /home/hinux/Desktop/project04/checking_folder/filtered_img_camera/no_camera_train 124\n",
      "Image strtV_image_360324_269.jpg copied to /home/hinux/Desktop/project04/checking_folder/filtered_img_camera/no_camera_train 125\n",
      "Image strtV_image_360758_79.jpg copied to /home/hinux/Desktop/project04/checking_folder/filtered_img_camera/no_camera_train 126\n",
      "Image strtV_image_360763_114.jpg copied to /home/hinux/Desktop/project04/checking_folder/filtered_img_camera/no_camera_train 127\n",
      "Image strtV_image_361254_61.jpg copied to /home/hinux/Desktop/project04/checking_folder/filtered_img_camera/no_camera_train 128\n",
      "Image strtV_image_361380_79.jpg copied to /home/hinux/Desktop/project04/checking_folder/filtered_img_camera/no_camera_train 129\n",
      "Image strtV_image_361410_217.jpg copied to /home/hinux/Desktop/project04/checking_folder/filtered_img_camera/no_camera_train 130\n",
      "Image strtV_image_361444_7.jpg copied to /home/hinux/Desktop/project04/checking_folder/filtered_img_camera/no_camera_train 131\n",
      "Image strtV_image_361638_248.jpg copied to /home/hinux/Desktop/project04/checking_folder/filtered_img_camera/no_camera_train 132\n",
      "Image strtV_image_361638_68.jpg copied to /home/hinux/Desktop/project04/checking_folder/filtered_img_camera/no_camera_train 133\n",
      "Image strtV_image_361788_48.jpg copied to /home/hinux/Desktop/project04/checking_folder/filtered_img_camera/no_camera_train 134\n",
      "Image strtV_image_361810_12.jpg copied to /home/hinux/Desktop/project04/checking_folder/filtered_img_camera/no_camera_train 135\n",
      "Image strtV_image_361994_8.jpg copied to /home/hinux/Desktop/project04/checking_folder/filtered_img_camera/no_camera_train 136\n",
      "Image strtV_image_362248_43.jpg copied to /home/hinux/Desktop/project04/checking_folder/filtered_img_camera/no_camera_train 137\n",
      "Image strtV_image_362254_268.jpg copied to /home/hinux/Desktop/project04/checking_folder/filtered_img_camera/no_camera_train 138\n",
      "Image strtV_image_362372_191.jpg copied to /home/hinux/Desktop/project04/checking_folder/filtered_img_camera/no_camera_train 139\n",
      "Image strtV_image_362419_100.jpg copied to /home/hinux/Desktop/project04/checking_folder/filtered_img_camera/no_camera_train 140\n",
      "Image strtV_image_362632_19.jpg copied to /home/hinux/Desktop/project04/checking_folder/filtered_img_camera/no_camera_train 141\n",
      "Image strtV_image_362683_101.jpg copied to /home/hinux/Desktop/project04/checking_folder/filtered_img_camera/no_camera_train 142\n",
      "Image strtV_image_362731_188.jpg copied to /home/hinux/Desktop/project04/checking_folder/filtered_img_camera/no_camera_train 143\n",
      "Image strtV_image_362786_21.jpg copied to /home/hinux/Desktop/project04/checking_folder/filtered_img_camera/no_camera_train 144\n",
      "Image strtV_image_362986_116.jpg copied to /home/hinux/Desktop/project04/checking_folder/filtered_img_camera/no_camera_train 145\n",
      "Image strtV_image_363342_12.jpg copied to /home/hinux/Desktop/project04/checking_folder/filtered_img_camera/no_camera_train 146\n",
      "Image strtV_image_363437_19.jpg copied to /home/hinux/Desktop/project04/checking_folder/filtered_img_camera/no_camera_train 147\n",
      "Image strtV_image_363437_19.jpg copied to /home/hinux/Desktop/project04/checking_folder/filtered_img_camera/no_camera_train 148\n",
      "Image strtV_image_363811_61.jpg copied to /home/hinux/Desktop/project04/checking_folder/filtered_img_camera/no_camera_train 149\n",
      "Image strtV_image_363973_36.jpg copied to /home/hinux/Desktop/project04/checking_folder/filtered_img_camera/no_camera_train 150\n",
      "Image strtV_image_364191_51.jpg copied to /home/hinux/Desktop/project04/checking_folder/filtered_img_camera/no_camera_train 151\n",
      "Image strtV_image_364496_21.jpg copied to /home/hinux/Desktop/project04/checking_folder/filtered_img_camera/no_camera_train 152\n",
      "Image strtV_image_365412_116.jpg copied to /home/hinux/Desktop/project04/checking_folder/filtered_img_camera/no_camera_train 153\n",
      "Image strtV_image_365434_196.jpg copied to /home/hinux/Desktop/project04/checking_folder/filtered_img_camera/no_camera_train 154\n",
      "Image strtV_image_365621_222.jpg copied to /home/hinux/Desktop/project04/checking_folder/filtered_img_camera/no_camera_train 155\n",
      "Image strtV_image_365697_120.jpg copied to /home/hinux/Desktop/project04/checking_folder/filtered_img_camera/no_camera_train 156\n",
      "Image strtV_image_366042_84.jpg copied to /home/hinux/Desktop/project04/checking_folder/filtered_img_camera/no_camera_train 157\n",
      "Image strtV_image_366210_55.jpg copied to /home/hinux/Desktop/project04/checking_folder/filtered_img_camera/no_camera_train 158\n",
      "Image strtV_image_366418_44.jpg copied to /home/hinux/Desktop/project04/checking_folder/filtered_img_camera/no_camera_train 159\n",
      "Image strtV_image_366826_71.jpg copied to /home/hinux/Desktop/project04/checking_folder/filtered_img_camera/no_camera_train 160\n",
      "Image strtV_image_366891_45.jpg copied to /home/hinux/Desktop/project04/checking_folder/filtered_img_camera/no_camera_train 161\n",
      "Image strtV_image_366923_45.jpg copied to /home/hinux/Desktop/project04/checking_folder/filtered_img_camera/no_camera_train 162\n",
      "Image strtV_image_366950_211.jpg copied to /home/hinux/Desktop/project04/checking_folder/filtered_img_camera/no_camera_train 163\n",
      "Image strtV_image_366964_152.jpg copied to /home/hinux/Desktop/project04/checking_folder/filtered_img_camera/no_camera_train 164\n",
      "Image strtV_image_367049_81.jpg copied to /home/hinux/Desktop/project04/checking_folder/filtered_img_camera/no_camera_train 165\n",
      "Image strtV_image_367138_119.jpg copied to /home/hinux/Desktop/project04/checking_folder/filtered_img_camera/no_camera_train 166\n",
      "Image strtV_image_367144_252.jpg copied to /home/hinux/Desktop/project04/checking_folder/filtered_img_camera/no_camera_train 167\n",
      "Image strtV_image_367590_18.jpg copied to /home/hinux/Desktop/project04/checking_folder/filtered_img_camera/no_camera_train 168\n",
      "Image strtV_image_367607_257.jpg copied to /home/hinux/Desktop/project04/checking_folder/filtered_img_camera/no_camera_train 169\n",
      "Image strtV_image_367613_167.jpg copied to /home/hinux/Desktop/project04/checking_folder/filtered_img_camera/no_camera_train 170\n",
      "Image strtV_image_367729_177.jpg copied to /home/hinux/Desktop/project04/checking_folder/filtered_img_camera/no_camera_train 171\n",
      "Image strtV_image_367730_19.jpg copied to /home/hinux/Desktop/project04/checking_folder/filtered_img_camera/no_camera_train 172\n",
      "Image strtV_image_367755_89.jpg copied to /home/hinux/Desktop/project04/checking_folder/filtered_img_camera/no_camera_train 173\n",
      "Image strtV_image_367996_45.jpg copied to /home/hinux/Desktop/project04/checking_folder/filtered_img_camera/no_camera_train 174\n",
      "Image strtV_image_368317_1.jpg copied to /home/hinux/Desktop/project04/checking_folder/filtered_img_camera/no_camera_train 175\n",
      "Image strtV_image_368597_77.jpg copied to /home/hinux/Desktop/project04/checking_folder/filtered_img_camera/no_camera_train 176\n",
      "Image strtV_image_368649_120.jpg copied to /home/hinux/Desktop/project04/checking_folder/filtered_img_camera/no_camera_train 177\n",
      "Image strtV_image_368815_29.jpg copied to /home/hinux/Desktop/project04/checking_folder/filtered_img_camera/no_camera_train 178\n",
      "Image strtV_image_368845_103.jpg copied to /home/hinux/Desktop/project04/checking_folder/filtered_img_camera/no_camera_train 179\n",
      "Image strtV_image_368977_217.jpg copied to /home/hinux/Desktop/project04/checking_folder/filtered_img_camera/no_camera_train 180\n",
      "Image strtV_image_369030_80.jpg copied to /home/hinux/Desktop/project04/checking_folder/filtered_img_camera/no_camera_train 181\n",
      "Image strtV_image_369337_72.jpg copied to /home/hinux/Desktop/project04/checking_folder/filtered_img_camera/no_camera_train 182\n",
      "Image strtV_image_369355_268.jpg copied to /home/hinux/Desktop/project04/checking_folder/filtered_img_camera/no_camera_train 183\n",
      "Image strtV_image_369387_140.jpg copied to /home/hinux/Desktop/project04/checking_folder/filtered_img_camera/no_camera_train 184\n",
      "Image strtV_image_369431_237.jpg copied to /home/hinux/Desktop/project04/checking_folder/filtered_img_camera/no_camera_train 185\n",
      "Image strtV_image_369820_246.jpg copied to /home/hinux/Desktop/project04/checking_folder/filtered_img_camera/no_camera_train 186\n",
      "Image strtV_image_369960_219.jpg copied to /home/hinux/Desktop/project04/checking_folder/filtered_img_camera/no_camera_train 187\n",
      "Image strtV_image_370198_188.jpg copied to /home/hinux/Desktop/project04/checking_folder/filtered_img_camera/no_camera_train 188\n",
      "Image strtV_image_370460_191.jpg copied to /home/hinux/Desktop/project04/checking_folder/filtered_img_camera/no_camera_train 189\n",
      "Image strtV_image_370500_90.jpg copied to /home/hinux/Desktop/project04/checking_folder/filtered_img_camera/no_camera_train 190\n",
      "Image strtV_image_370694_38.jpg copied to /home/hinux/Desktop/project04/checking_folder/filtered_img_camera/no_camera_train 191\n",
      "Image strtV_image_370929_0.jpg copied to /home/hinux/Desktop/project04/checking_folder/filtered_img_camera/no_camera_train 192\n",
      "Image strtV_image_371525_73.jpg copied to /home/hinux/Desktop/project04/checking_folder/filtered_img_camera/no_camera_train 193\n",
      "Image strtV_image_371633_41.jpg copied to /home/hinux/Desktop/project04/checking_folder/filtered_img_camera/no_camera_train 194\n",
      "Image strtV_image_371817_71.jpg copied to /home/hinux/Desktop/project04/checking_folder/filtered_img_camera/no_camera_train 195\n",
      "Image strtV_image_371953_94.jpg copied to /home/hinux/Desktop/project04/checking_folder/filtered_img_camera/no_camera_train 196\n",
      "Image strtV_image_371990_225.jpg copied to /home/hinux/Desktop/project04/checking_folder/filtered_img_camera/no_camera_train 197\n",
      "Image strtV_image_371990_45.jpg copied to /home/hinux/Desktop/project04/checking_folder/filtered_img_camera/no_camera_train 198\n",
      "Image strtV_image_372100_61.jpg copied to /home/hinux/Desktop/project04/checking_folder/filtered_img_camera/no_camera_train 199\n",
      "Image strtV_image_372107_184.jpg copied to /home/hinux/Desktop/project04/checking_folder/filtered_img_camera/no_camera_train 200\n",
      "Image strtV_image_372203_68.jpg copied to /home/hinux/Desktop/project04/checking_folder/filtered_img_camera/no_camera_train 201\n",
      "Image strtV_image_372324_105.jpg copied to /home/hinux/Desktop/project04/checking_folder/filtered_img_camera/no_camera_train 202\n",
      "Image strtV_image_372487_49.jpg copied to /home/hinux/Desktop/project04/checking_folder/filtered_img_camera/no_camera_train 203\n",
      "Image strtV_image_372619_10.jpg copied to /home/hinux/Desktop/project04/checking_folder/filtered_img_camera/no_camera_train 204\n",
      "Image strtV_image_372632_250.jpg copied to /home/hinux/Desktop/project04/checking_folder/filtered_img_camera/no_camera_train 205\n",
      "Image strtV_image_372769_214.jpg copied to /home/hinux/Desktop/project04/checking_folder/filtered_img_camera/no_camera_train 206\n",
      "Image strtV_image_373010_67.jpg copied to /home/hinux/Desktop/project04/checking_folder/filtered_img_camera/no_camera_train 207\n",
      "Image strtV_image_373295_99.jpg copied to /home/hinux/Desktop/project04/checking_folder/filtered_img_camera/no_camera_train 208\n",
      "Image strtV_image_373616_126.jpg copied to /home/hinux/Desktop/project04/checking_folder/filtered_img_camera/no_camera_train 209\n",
      "Image strtV_image_373682_39.jpg copied to /home/hinux/Desktop/project04/checking_folder/filtered_img_camera/no_camera_train 210\n",
      "Image strtV_image_373803_1.jpg copied to /home/hinux/Desktop/project04/checking_folder/filtered_img_camera/no_camera_train 211\n",
      "Image strtV_image_373917_89.jpg copied to /home/hinux/Desktop/project04/checking_folder/filtered_img_camera/no_camera_train 212\n",
      "Image strtV_image_374517_102.jpg copied to /home/hinux/Desktop/project04/checking_folder/filtered_img_camera/no_camera_train 213\n",
      "Image strtV_image_374953_44.jpg copied to /home/hinux/Desktop/project04/checking_folder/filtered_img_camera/no_camera_train 214\n",
      "Image strtV_image_375148_24.jpg copied to /home/hinux/Desktop/project04/checking_folder/filtered_img_camera/no_camera_train 215\n",
      "Image strtV_image_375436_79.jpg copied to /home/hinux/Desktop/project04/checking_folder/filtered_img_camera/no_camera_train 216\n",
      "Image strtV_image_375946_196.jpg copied to /home/hinux/Desktop/project04/checking_folder/filtered_img_camera/no_camera_train 217\n",
      "Image strtV_image_375963_4.jpg copied to /home/hinux/Desktop/project04/checking_folder/filtered_img_camera/no_camera_train 218\n",
      "Image strtV_image_376164_116.jpg copied to /home/hinux/Desktop/project04/checking_folder/filtered_img_camera/no_camera_train 219\n",
      "Image strtV_image_376310_80.jpg copied to /home/hinux/Desktop/project04/checking_folder/filtered_img_camera/no_camera_train 220\n",
      "Image strtV_image_376415_65.jpg copied to /home/hinux/Desktop/project04/checking_folder/filtered_img_camera/no_camera_train 221\n",
      "Image strtV_image_376988_182.jpg copied to /home/hinux/Desktop/project04/checking_folder/filtered_img_camera/no_camera_train 222\n",
      "Image strtV_image_377062_245.jpg copied to /home/hinux/Desktop/project04/checking_folder/filtered_img_camera/no_camera_train 223\n",
      "Image strtV_image_377314_220.jpg copied to /home/hinux/Desktop/project04/checking_folder/filtered_img_camera/no_camera_train 224\n",
      "Image strtV_image_377387_81.jpg copied to /home/hinux/Desktop/project04/checking_folder/filtered_img_camera/no_camera_train 225\n",
      "Image strtV_image_377520_242.jpg copied to /home/hinux/Desktop/project04/checking_folder/filtered_img_camera/no_camera_train 226\n",
      "Image strtV_image_377735_78.jpg copied to /home/hinux/Desktop/project04/checking_folder/filtered_img_camera/no_camera_train 227\n",
      "Image strtV_image_377949_204.jpg copied to /home/hinux/Desktop/project04/checking_folder/filtered_img_camera/no_camera_train 228\n",
      "Image strtV_image_378251_204.jpg copied to /home/hinux/Desktop/project04/checking_folder/filtered_img_camera/no_camera_train 229\n",
      "Image strtV_image_378308_263.jpg copied to /home/hinux/Desktop/project04/checking_folder/filtered_img_camera/no_camera_train 230\n",
      "Image strtV_image_378449_67.jpg copied to /home/hinux/Desktop/project04/checking_folder/filtered_img_camera/no_camera_train 231\n",
      "Image strtV_image_378754_244.jpg copied to /home/hinux/Desktop/project04/checking_folder/filtered_img_camera/no_camera_train 232\n",
      "Image strtV_image_378758_43.jpg copied to /home/hinux/Desktop/project04/checking_folder/filtered_img_camera/no_camera_train 233\n",
      "Image strtV_image_378774_45.jpg copied to /home/hinux/Desktop/project04/checking_folder/filtered_img_camera/no_camera_train 234\n",
      "Image strtV_image_378774_45.jpg copied to /home/hinux/Desktop/project04/checking_folder/filtered_img_camera/no_camera_train 235\n",
      "Image strtV_image_378855_55.jpg copied to /home/hinux/Desktop/project04/checking_folder/filtered_img_camera/no_camera_train 236\n",
      "Image strtV_image_379061_167.jpg copied to /home/hinux/Desktop/project04/checking_folder/filtered_img_camera/no_camera_train 237\n",
      "Image strtV_image_379326_226.jpg copied to /home/hinux/Desktop/project04/checking_folder/filtered_img_camera/no_camera_train 238\n",
      "Image strtV_image_379449_145.jpg copied to /home/hinux/Desktop/project04/checking_folder/filtered_img_camera/no_camera_train 239\n",
      "Image strtV_image_379898_69.jpg copied to /home/hinux/Desktop/project04/checking_folder/filtered_img_camera/no_camera_train 240\n",
      "Image strtV_image_380277_42.jpg copied to /home/hinux/Desktop/project04/checking_folder/filtered_img_camera/no_camera_train 241\n",
      "Image strtV_image_380388_58.jpg copied to /home/hinux/Desktop/project04/checking_folder/filtered_img_camera/no_camera_train 242\n",
      "Image strtV_image_380389_4.jpg copied to /home/hinux/Desktop/project04/checking_folder/filtered_img_camera/no_camera_train 243\n",
      "Image strtV_image_380598_77.jpg copied to /home/hinux/Desktop/project04/checking_folder/filtered_img_camera/no_camera_train 244\n",
      "Image strtV_image_380888_1.jpg copied to /home/hinux/Desktop/project04/checking_folder/filtered_img_camera/no_camera_train 245\n",
      "Image strtV_image_381471_81.jpg copied to /home/hinux/Desktop/project04/checking_folder/filtered_img_camera/no_camera_train 246\n",
      "Image strtV_image_381558_95.jpg copied to /home/hinux/Desktop/project04/checking_folder/filtered_img_camera/no_camera_train 247\n",
      "Image strtV_image_381704_80.jpg copied to /home/hinux/Desktop/project04/checking_folder/filtered_img_camera/no_camera_train 248\n",
      "Image strtV_image_381732_32.jpg copied to /home/hinux/Desktop/project04/checking_folder/filtered_img_camera/no_camera_train 249\n",
      "Image strtV_image_382386_263.jpg copied to /home/hinux/Desktop/project04/checking_folder/filtered_img_camera/no_camera_train 250\n",
      "Image strtV_image_382728_96.jpg copied to /home/hinux/Desktop/project04/checking_folder/filtered_img_camera/no_camera_train 251\n",
      "Image strtV_image_383097_19.jpg copied to /home/hinux/Desktop/project04/checking_folder/filtered_img_camera/no_camera_train 252\n",
      "Image strtV_image_383161_115.jpg copied to /home/hinux/Desktop/project04/checking_folder/filtered_img_camera/no_camera_train 253\n",
      "Image strtV_image_383505_212.jpg copied to /home/hinux/Desktop/project04/checking_folder/filtered_img_camera/no_camera_train 254\n",
      "Image strtV_image_384233_7.jpg copied to /home/hinux/Desktop/project04/checking_folder/filtered_img_camera/no_camera_train 255\n",
      "Image strtV_image_384699_26.jpg copied to /home/hinux/Desktop/project04/checking_folder/filtered_img_camera/no_camera_train 256\n",
      "Image strtV_image_384824_223.jpg copied to /home/hinux/Desktop/project04/checking_folder/filtered_img_camera/no_camera_train 257\n",
      "Image strtV_image_384855_1.jpg copied to /home/hinux/Desktop/project04/checking_folder/filtered_img_camera/no_camera_train 258\n",
      "Image strtV_image_385004_168.jpg copied to /home/hinux/Desktop/project04/checking_folder/filtered_img_camera/no_camera_train 259\n",
      "Image strtV_image_385064_264.jpg copied to /home/hinux/Desktop/project04/checking_folder/filtered_img_camera/no_camera_train 260\n",
      "Image strtV_image_385237_72.jpg copied to /home/hinux/Desktop/project04/checking_folder/filtered_img_camera/no_camera_train 261\n",
      "Image strtV_image_385425_100.jpg copied to /home/hinux/Desktop/project04/checking_folder/filtered_img_camera/no_camera_train 262\n",
      "Image strtV_image_385489_185.jpg copied to /home/hinux/Desktop/project04/checking_folder/filtered_img_camera/no_camera_train 263\n",
      "Image strtV_image_385847_256.jpg copied to /home/hinux/Desktop/project04/checking_folder/filtered_img_camera/no_camera_train 264\n",
      "Image strtV_image_385855_64.jpg copied to /home/hinux/Desktop/project04/checking_folder/filtered_img_camera/no_camera_train 265\n",
      "Image strtV_image_385953_85.jpg copied to /home/hinux/Desktop/project04/checking_folder/filtered_img_camera/no_camera_train 266\n",
      "Image strtV_image_386135_212.jpg copied to /home/hinux/Desktop/project04/checking_folder/filtered_img_camera/no_camera_train 267\n",
      "Image strtV_image_386452_206.jpg copied to /home/hinux/Desktop/project04/checking_folder/filtered_img_camera/no_camera_train 268\n",
      "Image strtV_image_386452_26.jpg copied to /home/hinux/Desktop/project04/checking_folder/filtered_img_camera/no_camera_train 269\n",
      "Image strtV_image_386452_26.jpg copied to /home/hinux/Desktop/project04/checking_folder/filtered_img_camera/no_camera_train 270\n",
      "Image strtV_image_386532_88.jpg copied to /home/hinux/Desktop/project04/checking_folder/filtered_img_camera/no_camera_train 271\n",
      "Image strtV_image_387256_73.jpg copied to /home/hinux/Desktop/project04/checking_folder/filtered_img_camera/no_camera_train 272\n",
      "Image strtV_image_387395_164.jpg copied to /home/hinux/Desktop/project04/checking_folder/filtered_img_camera/no_camera_train 273\n",
      "Image strtV_image_387903_77.jpg copied to /home/hinux/Desktop/project04/checking_folder/filtered_img_camera/no_camera_train 274\n",
      "Image strtV_image_388160_214.jpg copied to /home/hinux/Desktop/project04/checking_folder/filtered_img_camera/no_camera_train 275\n",
      "Image strtV_image_388189_173.jpg copied to /home/hinux/Desktop/project04/checking_folder/filtered_img_camera/no_camera_train 276\n",
      "Image strtV_image_388225_27.jpg copied to /home/hinux/Desktop/project04/checking_folder/filtered_img_camera/no_camera_train 277\n",
      "Image strtV_image_388335_253.jpg copied to /home/hinux/Desktop/project04/checking_folder/filtered_img_camera/no_camera_train 278\n",
      "Image strtV_image_388418_225.jpg copied to /home/hinux/Desktop/project04/checking_folder/filtered_img_camera/no_camera_train 279\n",
      "Image strtV_image_388466_81.jpg copied to /home/hinux/Desktop/project04/checking_folder/filtered_img_camera/no_camera_train 280\n",
      "Image strtV_image_388568_26.jpg copied to /home/hinux/Desktop/project04/checking_folder/filtered_img_camera/no_camera_train 281\n",
      "Image strtV_image_388589_98.jpg copied to /home/hinux/Desktop/project04/checking_folder/filtered_img_camera/no_camera_train 282\n",
      "Image strtV_image_388906_16.jpg copied to /home/hinux/Desktop/project04/checking_folder/filtered_img_camera/no_camera_train 283\n",
      "Image strtV_image_388915_152.jpg copied to /home/hinux/Desktop/project04/checking_folder/filtered_img_camera/no_camera_train 284\n",
      "Image strtV_image_389289_67.jpg copied to /home/hinux/Desktop/project04/checking_folder/filtered_img_camera/no_camera_train 285\n",
      "Image strtV_image_389289_67.jpg copied to /home/hinux/Desktop/project04/checking_folder/filtered_img_camera/no_camera_train 286\n",
      "Image strtV_image_389289_67.jpg copied to /home/hinux/Desktop/project04/checking_folder/filtered_img_camera/no_camera_train 287\n",
      "Image strtV_image_389427_58.jpg copied to /home/hinux/Desktop/project04/checking_folder/filtered_img_camera/no_camera_train 288\n",
      "Image strtV_image_389497_157.jpg copied to /home/hinux/Desktop/project04/checking_folder/filtered_img_camera/no_camera_train 289\n",
      "Image strtV_image_389735_0.jpg copied to /home/hinux/Desktop/project04/checking_folder/filtered_img_camera/no_camera_train 290\n",
      "Image strtV_image_389779_69.jpg copied to /home/hinux/Desktop/project04/checking_folder/filtered_img_camera/no_camera_train 291\n",
      "Image strtV_image_390374_77.jpg copied to /home/hinux/Desktop/project04/checking_folder/filtered_img_camera/no_camera_train 292\n",
      "Image strtV_image_390474_41.jpg copied to /home/hinux/Desktop/project04/checking_folder/filtered_img_camera/no_camera_train 293\n",
      "Image strtV_image_390474_41.jpg copied to /home/hinux/Desktop/project04/checking_folder/filtered_img_camera/no_camera_train 294\n",
      "Image strtV_image_390952_3.jpg copied to /home/hinux/Desktop/project04/checking_folder/filtered_img_camera/no_camera_train 295\n",
      "Image strtV_image_391404_65.jpg copied to /home/hinux/Desktop/project04/checking_folder/filtered_img_camera/no_camera_train 296\n",
      "Image strtV_image_391516_109.jpg copied to /home/hinux/Desktop/project04/checking_folder/filtered_img_camera/no_camera_train 297\n",
      "Image strtV_image_391880_23.jpg copied to /home/hinux/Desktop/project04/checking_folder/filtered_img_camera/no_camera_train 298\n",
      "Image strtV_image_392182_4.jpg copied to /home/hinux/Desktop/project04/checking_folder/filtered_img_camera/no_camera_train 299\n",
      "Image strtV_image_393352_164.jpg copied to /home/hinux/Desktop/project04/checking_folder/filtered_img_camera/no_camera_train 300\n",
      "Image strtV_image_393352_164.jpg copied to /home/hinux/Desktop/project04/checking_folder/filtered_img_camera/no_camera_train 301\n",
      "Image strtV_image_393373_158.jpg copied to /home/hinux/Desktop/project04/checking_folder/filtered_img_camera/no_camera_train 302\n",
      "Image strtV_image_394934_1.jpg copied to /home/hinux/Desktop/project04/checking_folder/filtered_img_camera/no_camera_train 303\n",
      "Image strtV_image_395094_19.jpg copied to /home/hinux/Desktop/project04/checking_folder/filtered_img_camera/no_camera_train 304\n",
      "Image strtV_image_395343_116.jpg copied to /home/hinux/Desktop/project04/checking_folder/filtered_img_camera/no_camera_train 305\n",
      "Image strtV_image_395672_102.jpg copied to /home/hinux/Desktop/project04/checking_folder/filtered_img_camera/no_camera_train 306\n",
      "Image strtV_image_395672_102.jpg copied to /home/hinux/Desktop/project04/checking_folder/filtered_img_camera/no_camera_train 307\n",
      "Image strtV_image_395672_102.jpg copied to /home/hinux/Desktop/project04/checking_folder/filtered_img_camera/no_camera_train 308\n",
      "Image strtV_image_395770_66.jpg copied to /home/hinux/Desktop/project04/checking_folder/filtered_img_camera/no_camera_train 309\n",
      "Image strtV_image_395883_171.jpg copied to /home/hinux/Desktop/project04/checking_folder/filtered_img_camera/no_camera_train 310\n",
      "Image strtV_image_396286_112.jpg copied to /home/hinux/Desktop/project04/checking_folder/filtered_img_camera/no_camera_train 311\n",
      "Image strtV_image_396520_75.jpg copied to /home/hinux/Desktop/project04/checking_folder/filtered_img_camera/no_camera_train 312\n",
      "Image strtV_image_396830_78.jpg copied to /home/hinux/Desktop/project04/checking_folder/filtered_img_camera/no_camera_train 313\n",
      "Image strtV_image_396863_247.jpg copied to /home/hinux/Desktop/project04/checking_folder/filtered_img_camera/no_camera_train 314\n",
      "Image strtV_image_397260_143.jpg copied to /home/hinux/Desktop/project04/checking_folder/filtered_img_camera/no_camera_train 315\n",
      "Image strtV_image_397283_269.jpg copied to /home/hinux/Desktop/project04/checking_folder/filtered_img_camera/no_camera_train 316\n",
      "Image strtV_image_397578_106.jpg copied to /home/hinux/Desktop/project04/checking_folder/filtered_img_camera/no_camera_train 317\n",
      "Image strtV_image_397662_165.jpg copied to /home/hinux/Desktop/project04/checking_folder/filtered_img_camera/no_camera_train 318\n",
      "Image strtV_image_398068_163.jpg copied to /home/hinux/Desktop/project04/checking_folder/filtered_img_camera/no_camera_train 319\n",
      "Image strtV_image_398353_75.jpg copied to /home/hinux/Desktop/project04/checking_folder/filtered_img_camera/no_camera_train 320\n",
      "Image strtV_image_398487_78.jpg copied to /home/hinux/Desktop/project04/checking_folder/filtered_img_camera/no_camera_train 321\n",
      "Image strtV_image_398563_69.jpg copied to /home/hinux/Desktop/project04/checking_folder/filtered_img_camera/no_camera_train 322\n",
      "Image strtV_image_398610_38.jpg copied to /home/hinux/Desktop/project04/checking_folder/filtered_img_camera/no_camera_train 323\n",
      "Image strtV_image_398676_238.jpg copied to /home/hinux/Desktop/project04/checking_folder/filtered_img_camera/no_camera_train 324\n",
      "Image strtV_image_398849_59.jpg copied to /home/hinux/Desktop/project04/checking_folder/filtered_img_camera/no_camera_train 325\n",
      "Image strtV_image_399229_104.jpg copied to /home/hinux/Desktop/project04/checking_folder/filtered_img_camera/no_camera_train 326\n",
      "Image strtV_image_399359_80.jpg copied to /home/hinux/Desktop/project04/checking_folder/filtered_img_camera/no_camera_train 327\n",
      "Image strtV_image_399557_118.jpg copied to /home/hinux/Desktop/project04/checking_folder/filtered_img_camera/no_camera_train 328\n",
      "Image strtV_image_400210_266.jpg copied to /home/hinux/Desktop/project04/checking_folder/filtered_img_camera/no_camera_train 329\n",
      "Image strtV_image_400325_52.jpg copied to /home/hinux/Desktop/project04/checking_folder/filtered_img_camera/no_camera_train 330\n",
      "Image strtV_image_400393_257.jpg copied to /home/hinux/Desktop/project04/checking_folder/filtered_img_camera/no_camera_train 331\n",
      "Image strtV_image_400393_257.jpg copied to /home/hinux/Desktop/project04/checking_folder/filtered_img_camera/no_camera_train 332\n",
      "Image strtV_image_400471_252.jpg copied to /home/hinux/Desktop/project04/checking_folder/filtered_img_camera/no_camera_train 333\n",
      "Image strtV_image_400560_55.jpg copied to /home/hinux/Desktop/project04/checking_folder/filtered_img_camera/no_camera_train 334\n",
      "Image strtV_image_400634_109.jpg copied to /home/hinux/Desktop/project04/checking_folder/filtered_img_camera/no_camera_train 335\n",
      "Image strtV_image_400991_84.jpg copied to /home/hinux/Desktop/project04/checking_folder/filtered_img_camera/no_camera_train 336\n",
      "Image strtV_image_401122_83.jpg copied to /home/hinux/Desktop/project04/checking_folder/filtered_img_camera/no_camera_train 337\n",
      "Image strtV_image_401243_88.jpg copied to /home/hinux/Desktop/project04/checking_folder/filtered_img_camera/no_camera_train 338\n",
      "Image strtV_image_401456_43.jpg copied to /home/hinux/Desktop/project04/checking_folder/filtered_img_camera/no_camera_train 339\n",
      "Image strtV_image_401716_156.jpg copied to /home/hinux/Desktop/project04/checking_folder/filtered_img_camera/no_camera_train 340\n",
      "Image strtV_image_401785_81.jpg copied to /home/hinux/Desktop/project04/checking_folder/filtered_img_camera/no_camera_train 341\n",
      "Image strtV_image_401787_9.jpg copied to /home/hinux/Desktop/project04/checking_folder/filtered_img_camera/no_camera_train 342\n",
      "Image strtV_image_402011_103.jpg copied to /home/hinux/Desktop/project04/checking_folder/filtered_img_camera/no_camera_train 343\n",
      "Image strtV_image_402121_145.jpg copied to /home/hinux/Desktop/project04/checking_folder/filtered_img_camera/no_camera_train 344\n",
      "Image strtV_image_402419_22.jpg copied to /home/hinux/Desktop/project04/checking_folder/filtered_img_camera/no_camera_train 345\n",
      "Image strtV_image_402721_21.jpg copied to /home/hinux/Desktop/project04/checking_folder/filtered_img_camera/no_camera_train 346\n",
      "Image strtV_image_402937_22.jpg copied to /home/hinux/Desktop/project04/checking_folder/filtered_img_camera/no_camera_train 347\n",
      "Image strtV_image_403204_129.jpg copied to /home/hinux/Desktop/project04/checking_folder/filtered_img_camera/no_camera_train 348\n",
      "Image strtV_image_403223_117.jpg copied to /home/hinux/Desktop/project04/checking_folder/filtered_img_camera/no_camera_train 349\n",
      "Image strtV_image_403277_253.jpg copied to /home/hinux/Desktop/project04/checking_folder/filtered_img_camera/no_camera_train 350\n",
      "Image strtV_image_403364_75.jpg copied to /home/hinux/Desktop/project04/checking_folder/filtered_img_camera/no_camera_train 351\n",
      "Image strtV_image_403637_84.jpg copied to /home/hinux/Desktop/project04/checking_folder/filtered_img_camera/no_camera_train 352\n",
      "Image strtV_image_403637_95.jpg copied to /home/hinux/Desktop/project04/checking_folder/filtered_img_camera/no_camera_train 353\n",
      "Image strtV_image_403977_215.jpg copied to /home/hinux/Desktop/project04/checking_folder/filtered_img_camera/no_camera_train 354\n",
      "Image strtV_image_403977_215.jpg copied to /home/hinux/Desktop/project04/checking_folder/filtered_img_camera/no_camera_train 355\n",
      "Image strtV_image_404041_184.jpg copied to /home/hinux/Desktop/project04/checking_folder/filtered_img_camera/no_camera_train 356\n",
      "Image strtV_image_404284_258.jpg copied to /home/hinux/Desktop/project04/checking_folder/filtered_img_camera/no_camera_train 357\n",
      "Image strtV_image_404632_157.jpg copied to /home/hinux/Desktop/project04/checking_folder/filtered_img_camera/no_camera_train 358\n",
      "Image strtV_image_404632_157.jpg copied to /home/hinux/Desktop/project04/checking_folder/filtered_img_camera/no_camera_train 359\n",
      "Image strtV_image_404678_171.jpg copied to /home/hinux/Desktop/project04/checking_folder/filtered_img_camera/no_camera_train 360\n",
      "Image strtV_image_404796_78.jpg copied to /home/hinux/Desktop/project04/checking_folder/filtered_img_camera/no_camera_train 361\n",
      "Image strtV_image_404980_168.jpg copied to /home/hinux/Desktop/project04/checking_folder/filtered_img_camera/no_camera_train 362\n",
      "Image strtV_image_405528_188.jpg copied to /home/hinux/Desktop/project04/checking_folder/filtered_img_camera/no_camera_train 363\n",
      "Image strtV_image_405551_0.jpg copied to /home/hinux/Desktop/project04/checking_folder/filtered_img_camera/no_camera_train 364\n",
      "Image strtV_image_405677_218.jpg copied to /home/hinux/Desktop/project04/checking_folder/filtered_img_camera/no_camera_train 365\n",
      "Image strtV_image_405681_35.jpg copied to /home/hinux/Desktop/project04/checking_folder/filtered_img_camera/no_camera_train 366\n",
      "Image strtV_image_405957_240.jpg copied to /home/hinux/Desktop/project04/checking_folder/filtered_img_camera/no_camera_train 367\n",
      "Image strtV_image_405957_60.jpg copied to /home/hinux/Desktop/project04/checking_folder/filtered_img_camera/no_camera_train 368\n",
      "Image strtV_image_406153_198.jpg copied to /home/hinux/Desktop/project04/checking_folder/filtered_img_camera/no_camera_train 369\n",
      "Image strtV_image_406277_50.jpg copied to /home/hinux/Desktop/project04/checking_folder/filtered_img_camera/no_camera_train 370\n",
      "Image strtV_image_406586_199.jpg copied to /home/hinux/Desktop/project04/checking_folder/filtered_img_camera/no_camera_train 371\n",
      "Image strtV_image_406591_0.jpg copied to /home/hinux/Desktop/project04/checking_folder/filtered_img_camera/no_camera_train 372\n",
      "Image strtV_image_406740_60.jpg copied to /home/hinux/Desktop/project04/checking_folder/filtered_img_camera/no_camera_train 373\n",
      "Image strtV_image_406794_76.jpg copied to /home/hinux/Desktop/project04/checking_folder/filtered_img_camera/no_camera_train 374\n",
      "Image strtV_image_407025_219.jpg copied to /home/hinux/Desktop/project04/checking_folder/filtered_img_camera/no_camera_train 375\n",
      "Image strtV_image_407326_253.jpg copied to /home/hinux/Desktop/project04/checking_folder/filtered_img_camera/no_camera_train 376\n",
      "Image strtV_image_407477_77.jpg copied to /home/hinux/Desktop/project04/checking_folder/filtered_img_camera/no_camera_train 377\n",
      "Image strtV_image_407484_73.jpg copied to /home/hinux/Desktop/project04/checking_folder/filtered_img_camera/no_camera_train 378\n",
      "Image strtV_image_407551_136.jpg copied to /home/hinux/Desktop/project04/checking_folder/filtered_img_camera/no_camera_train 379\n",
      "Image strtV_image_407713_32.jpg copied to /home/hinux/Desktop/project04/checking_folder/filtered_img_camera/no_camera_train 380\n",
      "Image strtV_image_407717_149.jpg copied to /home/hinux/Desktop/project04/checking_folder/filtered_img_camera/no_camera_train 381\n",
      "Image strtV_image_407808_0.jpg copied to /home/hinux/Desktop/project04/checking_folder/filtered_img_camera/no_camera_train 382\n",
      "Image strtV_image_408071_256.jpg copied to /home/hinux/Desktop/project04/checking_folder/filtered_img_camera/no_camera_train 383\n",
      "Image strtV_image_408319_63.jpg copied to /home/hinux/Desktop/project04/checking_folder/filtered_img_camera/no_camera_train 384\n",
      "Image strtV_image_408577_65.jpg copied to /home/hinux/Desktop/project04/checking_folder/filtered_img_camera/no_camera_train 385\n",
      "Image strtV_image_409223_0.jpg copied to /home/hinux/Desktop/project04/checking_folder/filtered_img_camera/no_camera_train 386\n",
      "Image strtV_image_409364_159.jpg copied to /home/hinux/Desktop/project04/checking_folder/filtered_img_camera/no_camera_train 387\n",
      "Image strtV_image_409364_20.jpg copied to /home/hinux/Desktop/project04/checking_folder/filtered_img_camera/no_camera_train 388\n",
      "Image strtV_image_409380_121.jpg copied to /home/hinux/Desktop/project04/checking_folder/filtered_img_camera/no_camera_train 389\n",
      "Image strtV_image_409522_93.jpg copied to /home/hinux/Desktop/project04/checking_folder/filtered_img_camera/no_camera_train 390\n",
      "Image strtV_image_409637_251.jpg copied to /home/hinux/Desktop/project04/checking_folder/filtered_img_camera/no_camera_train 391\n",
      "Image strtV_image_409740_101.jpg copied to /home/hinux/Desktop/project04/checking_folder/filtered_img_camera/no_camera_train 392\n",
      "Image strtV_image_409803_71.jpg copied to /home/hinux/Desktop/project04/checking_folder/filtered_img_camera/no_camera_train 393\n",
      "Image strtV_image_410057_92.jpg copied to /home/hinux/Desktop/project04/checking_folder/filtered_img_camera/no_camera_train 394\n",
      "Image strtV_image_410157_170.jpg copied to /home/hinux/Desktop/project04/checking_folder/filtered_img_camera/no_camera_train 395\n",
      "Image strtV_image_410268_6.jpg copied to /home/hinux/Desktop/project04/checking_folder/filtered_img_camera/no_camera_train 396\n",
      "Image strtV_image_410272_198.jpg copied to /home/hinux/Desktop/project04/checking_folder/filtered_img_camera/no_camera_train 397\n",
      "Image strtV_image_410389_39.jpg copied to /home/hinux/Desktop/project04/checking_folder/filtered_img_camera/no_camera_train 398\n",
      "Image strtV_image_410413_19.jpg copied to /home/hinux/Desktop/project04/checking_folder/filtered_img_camera/no_camera_train 399\n",
      "Image strtV_image_411081_268.jpg copied to /home/hinux/Desktop/project04/checking_folder/filtered_img_camera/no_camera_train 400\n",
      "Image strtV_image_411213_188.jpg copied to /home/hinux/Desktop/project04/checking_folder/filtered_img_camera/no_camera_train 401\n",
      "401\n"
     ]
    }
   ],
   "source": [
    "import shutil\n",
    "\n",
    "# List of image file paths\n",
    "image_paths_list = jpg_filepath_image # PASSING THE LIST HERE\n",
    "T = \"no_camera_train\"\n",
    "V = \"no_camera_valid\"\n",
    "# Destination folder where you want to copy the images\n",
    "destination_folder = f'/home/hinux/Desktop/project04/checking_folder/filtered_img_camera/{T}' # REMEMBER TO CHANGE THIS #####################################\n",
    "# destination_folder = \"/home/hinux/Desktop/project04/checking_folder/filtered_img_camera/train_val_images\" # REMEMBER TO CHANGE THIS #####################################\n",
    "      \n",
    "counter = 0\n",
    "\n",
    "for i in range(100,501): # 1,706 (709,885) REMEMBER TO CHANGE THE SIZE OF THE DATA SET HERE #####################################################3\n",
    "    try:\n",
    "        # Extract the file name from the image path\n",
    "        file_name = os.path.basename(image_paths_list[i])\n",
    "\n",
    "        # Construct the destination path by joining the destination folder and file name\n",
    "        destination_path = os.path.join(destination_folder, file_name)\n",
    "        counter += 1\n",
    "\n",
    "        # Copy the image to the destination folder\n",
    "        shutil.copy(image_paths_list[i], destination_path)\n",
    "\n",
    "        print(f\"Image {file_name} copied to {destination_folder}\", counter)\n",
    "    except Exception as e:\n",
    "        print(f\"Error copying image: {str(e)}\")\n",
    "print(counter)\n"
   ],
   "metadata": {
    "collapsed": false,
    "ExecuteTime": {
     "end_time": "2023-11-14T22:42:15.541180508Z",
     "start_time": "2023-11-14T22:42:15.481921204Z"
    }
   },
   "id": "eabdc25d45159367"
  },
  {
   "cell_type": "markdown",
   "source": [
    "# creating the train set and passing the json file into the bounding box"
   ],
   "metadata": {
    "collapsed": false
   },
   "id": "2ca8c156dae46da0"
  },
  {
   "cell_type": "code",
   "execution_count": 16,
   "outputs": [],
   "source": [
    "import json\n",
    "import os\n",
    "import csv\n",
    "\n",
    "no_camera_train_path = \"/home/hinux/Desktop/project04/checking_folder/filtered_img_camera/no_camera_train\"\n",
    "no_camera_valid_path = \"/home/hinux/Desktop/project04/checking_folder/filtered_img_camera/no_camera_valid\"\n",
    "# tv_images_path = \"/home/hinux/Desktop/project04/checking_folder/filtered_img_camera/train_val_images\"\n",
    "csv_file_name = '/home/hinux/Desktop/project04/checking_folder/PROTEIN_REAL_511_80.csv' ############# CHANGE TO THE CSV FILE THE PATHS SHOULD BE INSERTED TO ########################################################################################## to the same file as with annotations, just append it\n",
    "\n",
    "################################\n",
    "## remember to add that line in the beginning of the csv file - for training and validation: annotations,split,image_id,panoid,heading,gsv_image_path\n",
    "################################\n",
    "\n",
    "temp_filename_1 = \"\"\n",
    "temp_filename_2 = \"\"\n",
    "for filename in os.listdir(no_camera_train_path): ##### Change Path\n",
    "    try:\n",
    "        \n",
    "        if filename.endswith('.jpg'):\n",
    "            \n",
    "            \n",
    "            ########################################################################################################\n",
    "            \n",
    "            #REMEMBER TO CHANGE THE FOR LOOP OVER YOU\n",
    "            \n",
    "            # choose train\n",
    "            #       or\n",
    "            # choose valid\n",
    "            \n",
    "            \n",
    "            split = \"train\"         \n",
    "            # split = \"valid\" \n",
    "            \n",
    "            ########################################################################################################\n",
    "           \n",
    "            # print(temp_filename_1)\n",
    "            # file_path = f\"/home/hinux/Desktop/project04/ssc/data/sub_dataset_6/{correct_filename}\"\n",
    "    \n",
    "            file_path_json = f\"/home/hinux/Desktop/project04/checking_folder/filtered_img_camera/no_camera_{split}/{filename}\" # original version\n",
    "            # file_path_json = f\"/home/hinux/Desktop/project04/checking_folder/filtered_img_camera/train_val_images/{filename}\"            \n",
    "            \n",
    "            temp_filename = filename[:-4] + \".jpg\"  # strtV_image_133835_129.jpg\n",
    "            temp_list = temp_filename.split('_')  #['strtV', 'image', '107892', '117.jpg']\n",
    "            image_id = temp_list[1] + temp_list[2]\n",
    "            panoid = temp_list[2]  \n",
    "            heading = temp_list[3].replace(\".jpg\", \"\") \n",
    "            image_path = f\"/home/hinux/Desktop/project04/checking_folder/filtered_img_camera/no_camera_{split}/{temp_filename}\"\n",
    "            temp_filename_1 = ','+split +',' + image_id + ',' + panoid + ',' + f\"{str(heading)},\" + image_path\n",
    "            \n",
    "            # print(temp_filename_1)\n",
    "    \n",
    "    \n",
    "            # file_path = f\"/home/hinux/Desktop/my_images_splitted/0/{filename[:-4]}.json\" # original version no annotation class 0\n",
    "            # \n",
    "            # # print(file_path)\n",
    "            # \n",
    "            # with open(file_path, 'r') as file:\n",
    "            #     # Use json.load() to parse the JSON data from the file\n",
    "            #     data = json.load(file)[\"box\"]\n",
    "            #     temp_string = data\n",
    "\n",
    "            annotations = \"[]\"\n",
    "            temp_filename_2 = annotations + temp_filename_1\n",
    "            # print(temp_filename_2)\n",
    "            # \n",
    "            with open(csv_file_name, 'a', newline='') as csvfile:\n",
    "                # print(temp_filename_2)\n",
    "                csvfile.write(temp_filename_2 + \"\\n\")\n",
    "                \n",
    "    except Exception as e:\n",
    "        print(f\"Error copying image: {str(e)}\")\n",
    "        "
   ],
   "metadata": {
    "collapsed": false,
    "ExecuteTime": {
     "end_time": "2023-11-14T22:42:17.349684462Z",
     "start_time": "2023-11-14T22:42:17.328885342Z"
    }
   },
   "id": "45966464f006f359"
  },
  {
   "cell_type": "code",
   "execution_count": 18,
   "outputs": [],
   "source": [],
   "metadata": {
    "collapsed": false,
    "ExecuteTime": {
     "end_time": "2023-11-13T20:07:59.435345390Z",
     "start_time": "2023-11-13T20:07:59.403675111Z"
    }
   },
   "id": "45c3bcac4ede513a"
  }
 ],
 "metadata": {
  "kernelspec": {
   "display_name": "Python 3",
   "language": "python",
   "name": "python3"
  },
  "language_info": {
   "codemirror_mode": {
    "name": "ipython",
    "version": 2
   },
   "file_extension": ".py",
   "mimetype": "text/x-python",
   "name": "python",
   "nbconvert_exporter": "python",
   "pygments_lexer": "ipython2",
   "version": "2.7.6"
  }
 },
 "nbformat": 4,
 "nbformat_minor": 5
}
